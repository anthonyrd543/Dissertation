{
 "cells": [
  {
   "cell_type": "code",
   "execution_count": 1,
   "metadata": {},
   "outputs": [],
   "source": [
    "import pandas as pd"
   ]
  },
  {
   "cell_type": "code",
   "execution_count": 2,
   "metadata": {},
   "outputs": [
    {
     "data": {
      "text/html": [
       "<div>\n",
       "<style scoped>\n",
       "    .dataframe tbody tr th:only-of-type {\n",
       "        vertical-align: middle;\n",
       "    }\n",
       "\n",
       "    .dataframe tbody tr th {\n",
       "        vertical-align: top;\n",
       "    }\n",
       "\n",
       "    .dataframe thead th {\n",
       "        text-align: right;\n",
       "    }\n",
       "</style>\n",
       "<table border=\"1\" class=\"dataframe\">\n",
       "  <thead>\n",
       "    <tr style=\"text-align: right;\">\n",
       "      <th></th>\n",
       "      <th>Unnamed: 0</th>\n",
       "      <th>model_layers</th>\n",
       "      <th>batch_size</th>\n",
       "      <th>learning_rate</th>\n",
       "      <th>model_embedding_size</th>\n",
       "      <th>model_linear_dropout_rate</th>\n",
       "      <th>model_embedding_dropout_rate</th>\n",
       "      <th>model_dense_neurons</th>\n",
       "      <th>feature_size</th>\n",
       "      <th>has_edge_info</th>\n",
       "      <th>Best Loss</th>\n",
       "    </tr>\n",
       "  </thead>\n",
       "  <tbody>\n",
       "    <tr>\n",
       "      <th>0</th>\n",
       "      <td>0</td>\n",
       "      <td>2</td>\n",
       "      <td>64</td>\n",
       "      <td>0.000986</td>\n",
       "      <td>512</td>\n",
       "      <td>0.021133</td>\n",
       "      <td>0.148577</td>\n",
       "      <td>64</td>\n",
       "      <td>1016</td>\n",
       "      <td>False</td>\n",
       "      <td>0.212811</td>\n",
       "    </tr>\n",
       "  </tbody>\n",
       "</table>\n",
       "</div>"
      ],
      "text/plain": [
       "   Unnamed: 0  model_layers  batch_size  learning_rate  model_embedding_size  \\\n",
       "0           0             2          64       0.000986                   512   \n",
       "\n",
       "   model_linear_dropout_rate  model_embedding_dropout_rate  \\\n",
       "0                   0.021133                      0.148577   \n",
       "\n",
       "   model_dense_neurons  feature_size  has_edge_info  Best Loss  \n",
       "0                   64          1016          False   0.212811  "
      ]
     },
     "execution_count": 2,
     "metadata": {},
     "output_type": "execute_result"
    }
   ],
   "source": [
    "filepath = 'mlp_best_parameters.csv'\n",
    "best_params.drop('Unnamed: 0')\n",
    "best_params.to_csv()"
   ]
  },
  {
   "cell_type": "code",
   "execution_count": 3,
   "metadata": {},
   "outputs": [],
   "source": [
    "col = ['learning_rate',\n",
    "'batch_size',\n",
    "'model_layers',\n",
    "'model_embedding_size',\n",
    "'model_dense_neurons',\n",
    "'model_linear_dropout_rate',\n",
    "]"
   ]
  },
  {
   "cell_type": "code",
   "execution_count": 4,
   "metadata": {},
   "outputs": [
    {
     "data": {
      "text/html": [
       "<div>\n",
       "<style scoped>\n",
       "    .dataframe tbody tr th:only-of-type {\n",
       "        vertical-align: middle;\n",
       "    }\n",
       "\n",
       "    .dataframe tbody tr th {\n",
       "        vertical-align: top;\n",
       "    }\n",
       "\n",
       "    .dataframe thead th {\n",
       "        text-align: right;\n",
       "    }\n",
       "</style>\n",
       "<table border=\"1\" class=\"dataframe\">\n",
       "  <thead>\n",
       "    <tr style=\"text-align: right;\">\n",
       "      <th></th>\n",
       "      <th>learning_rate</th>\n",
       "      <th>batch_size</th>\n",
       "      <th>model_layers</th>\n",
       "      <th>model_embedding_size</th>\n",
       "      <th>model_dense_neurons</th>\n",
       "      <th>model_linear_dropout_rate</th>\n",
       "    </tr>\n",
       "  </thead>\n",
       "  <tbody>\n",
       "    <tr>\n",
       "      <th>0</th>\n",
       "      <td>0.000986</td>\n",
       "      <td>64</td>\n",
       "      <td>2</td>\n",
       "      <td>512</td>\n",
       "      <td>64</td>\n",
       "      <td>0.021133</td>\n",
       "    </tr>\n",
       "  </tbody>\n",
       "</table>\n",
       "</div>"
      ],
      "text/plain": [
       "   learning_rate  batch_size  model_layers  model_embedding_size  \\\n",
       "0       0.000986          64             2                   512   \n",
       "\n",
       "   model_dense_neurons  model_linear_dropout_rate  \n",
       "0                   64                   0.021133  "
      ]
     },
     "execution_count": 4,
     "metadata": {},
     "output_type": "execute_result"
    }
   ],
   "source": [
    "best_params = best_params[col]\n",
    "best_params"
   ]
  },
  {
   "cell_type": "code",
   "execution_count": 5,
   "metadata": {},
   "outputs": [],
   "source": [
    "values = best_params.loc[0, :].values.tolist()\n",
    "\n",
    "line = ''\n",
    "for value in values:\n",
    "    line+= f'{value}' + ' & '"
   ]
  },
  {
   "cell_type": "code",
   "execution_count": 6,
   "metadata": {},
   "outputs": [
    {
     "name": "stdout",
     "output_type": "stream",
     "text": [
      "0.0009861779935858 & 64.0 & 2.0 & 512.0 & 64.0 & 0.0211330536846324 & \n"
     ]
    }
   ],
   "source": [
    "print(line)"
   ]
  }
 ],
 "metadata": {
  "interpreter": {
   "hash": "c4e88f5f6f0c037f170d8b5f2f59d1377880a8e4b384253995bdaa7b6b72e05d"
  },
  "kernelspec": {
   "display_name": "Python 3.8.12 ('my_torch_geometric')",
   "language": "python",
   "name": "python3"
  },
  "language_info": {
   "codemirror_mode": {
    "name": "ipython",
    "version": 3
   },
   "file_extension": ".py",
   "mimetype": "text/x-python",
   "name": "python",
   "nbconvert_exporter": "python",
   "pygments_lexer": "ipython3",
   "version": "3.8.12"
  },
  "orig_nbformat": 4
 },
 "nbformat": 4,
 "nbformat_minor": 2
}
