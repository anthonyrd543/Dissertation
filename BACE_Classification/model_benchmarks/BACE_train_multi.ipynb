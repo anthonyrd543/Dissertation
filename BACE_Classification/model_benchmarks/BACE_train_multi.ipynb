{
 "cells": [
  {
   "cell_type": "code",
   "execution_count": 3,
   "metadata": {},
   "outputs": [],
   "source": [
    "from torch_geometric.datasets import MoleculeNet\n",
    "import torch\n",
    "import numpy as np\n",
    "import pandas as pd\n",
    "from sklearn import metrics\n",
    "import models"
   ]
  },
  {
   "cell_type": "markdown",
   "metadata": {},
   "source": [
    "## Import Dataset"
   ]
  },
  {
   "cell_type": "code",
   "execution_count": 4,
   "metadata": {},
   "outputs": [
    {
     "name": "stderr",
     "output_type": "stream",
     "text": [
      "Processing...\n",
      "Done!\n",
      "Processing...\n",
      "Done!\n"
     ]
    }
   ],
   "source": [
    "data = MoleculeNet(root=\".\", name=\"bace\")\n",
    "data = data.shuffle()"
   ]
  },
  {
   "cell_type": "code",
   "execution_count": 3,
   "metadata": {},
   "outputs": [],
   "source": [
    "#Specify device\n",
    "device = torch.device(\"cuda:1\" if torch.cuda.is_available() else \"cpu\")"
   ]
  },
  {
   "cell_type": "markdown",
   "metadata": {},
   "source": [
    "## Set Hyperparameters"
   ]
  },
  {
   "cell_type": "code",
   "execution_count": 4,
   "metadata": {},
   "outputs": [
    {
     "name": "stderr",
     "output_type": "stream",
     "text": [
      "/home/rajeckidoyle/miniconda3/envs/my_torch_geometric/lib/python3.8/site-packages/torch_geometric/deprecation.py:12: UserWarning: 'data.DataLoader' is deprecated, use 'loader.DataLoader' instead\n",
      "  warnings.warn(out)\n"
     ]
    }
   ],
   "source": [
    "import best_config\n",
    "from torch_geometric.data import DataLoader\n",
    "#Get Model Parameters\n",
    "\n",
    "train_size = best_config.GLOBALPARAMETERS['train_size']\n",
    "valid_size = train_size + best_config.GLOBALPARAMETERS['valid_size']\n",
    "\n",
    "# Wrap data in a data loader\n",
    "data_size = len(data)\n",
    "NUM_GRAPHS_PER_BATCH = 64\n",
    "train_loader = DataLoader(data[:int(data_size * train_size)], \n",
    "                    batch_size=NUM_GRAPHS_PER_BATCH, shuffle=True)\n",
    "valid_loader = DataLoader(data[int(data_size * train_size):int(data_size * valid_size)], \n",
    "                         batch_size=NUM_GRAPHS_PER_BATCH, shuffle=True)\n",
    "test_loader = DataLoader(data[int(data_size * valid_size):], \n",
    "                         batch_size=NUM_GRAPHS_PER_BATCH, shuffle=True)\n"
   ]
  },
  {
   "cell_type": "markdown",
   "metadata": {},
   "source": [
    "## Define Model"
   ]
  },
  {
   "cell_type": "markdown",
   "metadata": {},
   "source": [
    "## Training Loop"
   ]
  },
  {
   "cell_type": "code",
   "execution_count": 34,
   "metadata": {},
   "outputs": [],
   "source": [
    "from torch_geometric.data import DataLoader\n",
    "import warnings\n",
    "warnings.filterwarnings(\"ignore\")\n",
    "\n",
    "# Root mean squared error\n",
    "loss_fn = torch.nn.BCELoss()\n",
    "\n",
    "model_this_run = 'GINE'\n",
    "\n",
    "hyperparameters = eval('best_config.'+model_this_run+'_HYPERPARAMETERS')\n",
    "model_params = hyperparameters\n",
    "model_params['feature_size'] = data.num_features\n",
    "model_params['no_of_heads'] = 3\n",
    "model_params[\"edge_dim\"] = data[0].edge_attr.shape[1]\n",
    "\n",
    "def train(model, optimizer, loader):\n",
    "    model.train()\n",
    "    # Enumerate over the data\n",
    "    final_loss = 0\n",
    "    for batch in loader:\n",
    "      # Use GPU\n",
    "      batch.to(device)  \n",
    "      # Reset gradients\n",
    "      optimizer.zero_grad() \n",
    "      # Passing the node features and the connection info\n",
    "      if model_params['has_edge_info']:\n",
    "          pred = model(batch.x.float(),\n",
    "                        batch.edge_attr.float(), \n",
    "                        batch.edge_index, \n",
    "                        batch.batch)\n",
    "      else:\n",
    "          pred = model(batch.x.float(), \n",
    "                        batch.edge_index, \n",
    "                        batch.batch)\n",
    "      # Calculating the loss and gradients\n",
    "      loss = loss_fn(pred, batch.y)\n",
    "      final_loss += loss.item()\n",
    "      loss.backward()\n",
    "      # Update using the gradients\n",
    "      optimizer.step()   \n",
    "    return final_loss / len(loader)\n",
    "  \n",
    "def evaluate(model, optimizer, data_loader):\n",
    "        model.eval()\n",
    "        final_loss = 0\n",
    "        for batch in data_loader:\n",
    "            batch.to(device)\n",
    "            if model_params['has_edge_info']:\n",
    "                pred = model(batch.x.float(),\n",
    "                                batch.edge_attr.float(), \n",
    "                                batch.edge_index, \n",
    "                                batch.batch)\n",
    "            else:\n",
    "                pred = model(batch.x.float(), \n",
    "                                batch.edge_index, \n",
    "                                batch.batch)\n",
    "            loss = loss_fn(pred, batch.y)  \n",
    "            final_loss += loss.item()\n",
    "        return final_loss / len(data_loader)\n",
    "\n",
    "def get_results(binary_results):\n",
    "    accuracy = metrics.accuracy_score(binary_results[\"y_real\"],binary_results[\"y_pred\"])\n",
    "    f1 = metrics.f1_score(binary_results[\"y_real\"],binary_results[\"y_pred\"])\n",
    "    precision = metrics.precision_score(binary_results[\"y_real\"],binary_results[\"y_pred\"])\n",
    "    recall = metrics.recall_score(binary_results[\"y_real\"],binary_results[\"y_pred\"])\n",
    "    roc_auc = metrics.roc_auc_score(binary_results[\"y_real\"],binary_results[\"y_pred\"])\n",
    "    tn, fp, fn, tp = metrics.confusion_matrix(binary_results[\"y_real\"],binary_results[\"y_pred\"], labels=[0,1]).ravel()\n",
    "    specificity = tn / (tn+fp)\n",
    "\n",
    "    results = {\n",
    "        'Accuracy':accuracy,\n",
    "        'F1': f1,\n",
    "        'Precision': precision,\n",
    "        'Recall': recall,\n",
    "        'ROCAUC': roc_auc,\n",
    "        'Specificity': specificity,\n",
    "        'TN': tn,\n",
    "        'FP': fp,\n",
    "        'FN': fn,\n",
    "        \"TP\": tp,\n",
    "    }\n",
    "    return results\n",
    "\n",
    "def test(model, test_loader):\n",
    "    model.eval()\n",
    "    true_values = []\n",
    "    predictions = []\n",
    "    with torch.no_grad():\n",
    "        for batch in test_loader:\n",
    "            batch.to(device)\n",
    "            if model_params['has_edge_info']:\n",
    "                pred = model(batch.x.float(),\n",
    "                                batch.edge_attr.float(), \n",
    "                                batch.edge_index, \n",
    "                                batch.batch)\n",
    "            else:\n",
    "                pred = model(batch.x.float(), \n",
    "                                batch.edge_index, \n",
    "                                batch.batch)\n",
    "            true_values += batch.y.tolist()\n",
    "            predictions += pred.tolist()\n",
    "    df = pd.DataFrame({'y_pred':predictions,'y_real':true_values})\n",
    "    df = df.applymap(lambda x : x[0])\n",
    "    output = df[\"y_pred\"].apply(lambda x: int(round(x,0)))\n",
    "    output\n",
    "    binary_results = df.applymap(lambda x : int(round(x,0)))\n",
    "    binary_results\n",
    "    return df, binary_results, output, get_results(binary_results)\n",
    "\n",
    "    "
   ]
  },
  {
   "cell_type": "code",
   "execution_count": 35,
   "metadata": {},
   "outputs": [
    {
     "name": "stdout",
     "output_type": "stream",
     "text": [
      "Starting training run 0\n",
      "Starting training run 1\n",
      "Starting training run 2\n",
      "Starting training run 3\n",
      "Starting training run 4\n",
      "Starting training run 5\n",
      "Starting training run 6\n",
      "Starting training run 7\n",
      "Starting training run 8\n",
      "Starting training run 9\n"
     ]
    },
    {
     "data": {
      "text/html": [
       "<div>\n",
       "<style scoped>\n",
       "    .dataframe tbody tr th:only-of-type {\n",
       "        vertical-align: middle;\n",
       "    }\n",
       "\n",
       "    .dataframe tbody tr th {\n",
       "        vertical-align: top;\n",
       "    }\n",
       "\n",
       "    .dataframe thead th {\n",
       "        text-align: right;\n",
       "    }\n",
       "</style>\n",
       "<table border=\"1\" class=\"dataframe\">\n",
       "  <thead>\n",
       "    <tr style=\"text-align: right;\">\n",
       "      <th></th>\n",
       "      <th>Accuracy</th>\n",
       "      <th>F1</th>\n",
       "      <th>Precision</th>\n",
       "      <th>Recall</th>\n",
       "      <th>ROCAUC</th>\n",
       "      <th>Specificity</th>\n",
       "      <th>TN</th>\n",
       "      <th>FP</th>\n",
       "      <th>FN</th>\n",
       "      <th>TP</th>\n",
       "    </tr>\n",
       "  </thead>\n",
       "  <tbody>\n",
       "    <tr>\n",
       "      <th>0</th>\n",
       "      <td>0.725021</td>\n",
       "      <td>0.695334</td>\n",
       "      <td>0.676157</td>\n",
       "      <td>0.715631</td>\n",
       "      <td>0.723992</td>\n",
       "      <td>0.732353</td>\n",
       "      <td>498.0</td>\n",
       "      <td>182.0</td>\n",
       "      <td>151.0</td>\n",
       "      <td>380.0</td>\n",
       "    </tr>\n",
       "    <tr>\n",
       "      <th>0</th>\n",
       "      <td>0.722543</td>\n",
       "      <td>0.696751</td>\n",
       "      <td>0.668977</td>\n",
       "      <td>0.726930</td>\n",
       "      <td>0.723024</td>\n",
       "      <td>0.719118</td>\n",
       "      <td>489.0</td>\n",
       "      <td>191.0</td>\n",
       "      <td>145.0</td>\n",
       "      <td>386.0</td>\n",
       "    </tr>\n",
       "    <tr>\n",
       "      <th>0</th>\n",
       "      <td>0.721718</td>\n",
       "      <td>0.682973</td>\n",
       "      <td>0.682331</td>\n",
       "      <td>0.683616</td>\n",
       "      <td>0.717543</td>\n",
       "      <td>0.751471</td>\n",
       "      <td>511.0</td>\n",
       "      <td>169.0</td>\n",
       "      <td>168.0</td>\n",
       "      <td>363.0</td>\n",
       "    </tr>\n",
       "    <tr>\n",
       "      <th>0</th>\n",
       "      <td>0.720892</td>\n",
       "      <td>0.682331</td>\n",
       "      <td>0.681051</td>\n",
       "      <td>0.683616</td>\n",
       "      <td>0.716808</td>\n",
       "      <td>0.750000</td>\n",
       "      <td>510.0</td>\n",
       "      <td>170.0</td>\n",
       "      <td>168.0</td>\n",
       "      <td>363.0</td>\n",
       "    </tr>\n",
       "    <tr>\n",
       "      <th>0</th>\n",
       "      <td>0.715111</td>\n",
       "      <td>0.700261</td>\n",
       "      <td>0.650000</td>\n",
       "      <td>0.758945</td>\n",
       "      <td>0.719914</td>\n",
       "      <td>0.680882</td>\n",
       "      <td>463.0</td>\n",
       "      <td>217.0</td>\n",
       "      <td>128.0</td>\n",
       "      <td>403.0</td>\n",
       "    </tr>\n",
       "    <tr>\n",
       "      <th>0</th>\n",
       "      <td>0.722543</td>\n",
       "      <td>0.711340</td>\n",
       "      <td>0.654028</td>\n",
       "      <td>0.779661</td>\n",
       "      <td>0.728801</td>\n",
       "      <td>0.677941</td>\n",
       "      <td>461.0</td>\n",
       "      <td>219.0</td>\n",
       "      <td>117.0</td>\n",
       "      <td>414.0</td>\n",
       "    </tr>\n",
       "    <tr>\n",
       "      <th>0</th>\n",
       "      <td>0.703551</td>\n",
       "      <td>0.713944</td>\n",
       "      <td>0.618785</td>\n",
       "      <td>0.843691</td>\n",
       "      <td>0.718904</td>\n",
       "      <td>0.594118</td>\n",
       "      <td>404.0</td>\n",
       "      <td>276.0</td>\n",
       "      <td>83.0</td>\n",
       "      <td>448.0</td>\n",
       "    </tr>\n",
       "    <tr>\n",
       "      <th>0</th>\n",
       "      <td>0.701073</td>\n",
       "      <td>0.701812</td>\n",
       "      <td>0.623719</td>\n",
       "      <td>0.802260</td>\n",
       "      <td>0.712159</td>\n",
       "      <td>0.622059</td>\n",
       "      <td>423.0</td>\n",
       "      <td>257.0</td>\n",
       "      <td>105.0</td>\n",
       "      <td>426.0</td>\n",
       "    </tr>\n",
       "    <tr>\n",
       "      <th>0</th>\n",
       "      <td>0.706028</td>\n",
       "      <td>0.686620</td>\n",
       "      <td>0.644628</td>\n",
       "      <td>0.734463</td>\n",
       "      <td>0.709143</td>\n",
       "      <td>0.683824</td>\n",
       "      <td>465.0</td>\n",
       "      <td>215.0</td>\n",
       "      <td>141.0</td>\n",
       "      <td>390.0</td>\n",
       "    </tr>\n",
       "    <tr>\n",
       "      <th>0</th>\n",
       "      <td>0.710983</td>\n",
       "      <td>0.651394</td>\n",
       "      <td>0.691332</td>\n",
       "      <td>0.615819</td>\n",
       "      <td>0.700557</td>\n",
       "      <td>0.785294</td>\n",
       "      <td>534.0</td>\n",
       "      <td>146.0</td>\n",
       "      <td>204.0</td>\n",
       "      <td>327.0</td>\n",
       "    </tr>\n",
       "  </tbody>\n",
       "</table>\n",
       "</div>"
      ],
      "text/plain": [
       "   Accuracy        F1  Precision    Recall    ROCAUC  Specificity     TN  \\\n",
       "0  0.725021  0.695334   0.676157  0.715631  0.723992     0.732353  498.0   \n",
       "0  0.722543  0.696751   0.668977  0.726930  0.723024     0.719118  489.0   \n",
       "0  0.721718  0.682973   0.682331  0.683616  0.717543     0.751471  511.0   \n",
       "0  0.720892  0.682331   0.681051  0.683616  0.716808     0.750000  510.0   \n",
       "0  0.715111  0.700261   0.650000  0.758945  0.719914     0.680882  463.0   \n",
       "0  0.722543  0.711340   0.654028  0.779661  0.728801     0.677941  461.0   \n",
       "0  0.703551  0.713944   0.618785  0.843691  0.718904     0.594118  404.0   \n",
       "0  0.701073  0.701812   0.623719  0.802260  0.712159     0.622059  423.0   \n",
       "0  0.706028  0.686620   0.644628  0.734463  0.709143     0.683824  465.0   \n",
       "0  0.710983  0.651394   0.691332  0.615819  0.700557     0.785294  534.0   \n",
       "\n",
       "      FP     FN     TP  \n",
       "0  182.0  151.0  380.0  \n",
       "0  191.0  145.0  386.0  \n",
       "0  169.0  168.0  363.0  \n",
       "0  170.0  168.0  363.0  \n",
       "0  217.0  128.0  403.0  \n",
       "0  219.0  117.0  414.0  \n",
       "0  276.0   83.0  448.0  \n",
       "0  257.0  105.0  426.0  \n",
       "0  215.0  141.0  390.0  \n",
       "0  146.0  204.0  327.0  "
      ]
     },
     "execution_count": 35,
     "metadata": {},
     "output_type": "execute_result"
    }
   ],
   "source": [
    "summary_columns = {\n",
    "    'Accuracy':[],\n",
    "    'F1': [],\n",
    "    'Precision': [],\n",
    "    'Recall': [],\n",
    "    'ROCAUC': [],\n",
    "    'Specificity': [],\n",
    "    'TN': [],\n",
    "    'FP': [],\n",
    "    'FN': [],\n",
    "    \"TP\": [],\n",
    "}\n",
    "summary = pd.DataFrame(summary_columns)\n",
    "\n",
    "best_acc = 0\n",
    "\n",
    "filepath = '/home/rajeckidoyle/Documents/Classification/BACE_Classification/model_benchmarks/'\n",
    "\n",
    "\n",
    "for i in range(10):\n",
    "    torch.manual_seed(i)\n",
    "    print(f\"Starting training run {i}\")\n",
    "    #Create instance of model\n",
    "    model = eval('models.'+model_this_run+'(model_params)')\n",
    "    model = model.to(device)\n",
    "    optimizer = torch.optim.Adam(model.parameters(), lr=model_params['learning_rate'])\n",
    "    for epoch in range(300):\n",
    "        loss = train(model, optimizer, train_loader)\n",
    "        val_loss = evaluate(model, optimizer, valid_loader)\n",
    "    _, _, _, results = test(model, test_loader)\n",
    "    if results['Accuracy'] > best_acc:\n",
    "        best_acc = results['Accuracy']\n",
    "        torch.save(model.state_dict(), filepath+'best_models/'+model_this_run+'_model.pt')\n",
    "    results_this_run = pd.DataFrame([results])\n",
    "    summary = summary.append(results_this_run)\n",
    "\n",
    "\n",
    "summary.to_csv(filepath + 'results/'+model_this_run+'summary.csv')\n",
    "summary\n",
    "    "
   ]
  },
  {
   "cell_type": "markdown",
   "metadata": {},
   "source": [
    "## Evaluate on the Test Set"
   ]
  },
  {
   "cell_type": "markdown",
   "metadata": {},
   "source": [
    "## Model Evaluation"
   ]
  },
  {
   "cell_type": "code",
   "execution_count": 36,
   "metadata": {},
   "outputs": [
    {
     "name": "stdout",
     "output_type": "stream",
     "text": [
      "GINE(\n",
      "  (gnn_dropout): Dropout(p=0.168, inplace=False)\n",
      "  (linear_dropout): Dropout(p=0.0597, inplace=False)\n",
      "  (conv_layers): ModuleList(\n",
      "    (0): GINEConv(nn=Sequential(\n",
      "      (0): Linear(in_features=1024, out_features=1024, bias=True)\n",
      "      (1): ReLU()\n",
      "      (2): Linear(in_features=1024, out_features=1024, bias=True)\n",
      "    ))\n",
      "    (1): GINEConv(nn=Sequential(\n",
      "      (0): Linear(in_features=1024, out_features=1024, bias=True)\n",
      "      (1): ReLU()\n",
      "      (2): Linear(in_features=1024, out_features=1024, bias=True)\n",
      "    ))\n",
      "    (2): GINEConv(nn=Sequential(\n",
      "      (0): Linear(in_features=1024, out_features=1024, bias=True)\n",
      "      (1): ReLU()\n",
      "      (2): Linear(in_features=1024, out_features=1024, bias=True)\n",
      "    ))\n",
      "  )\n",
      "  (conv1): GINEConv(nn=Sequential(\n",
      "    (0): Linear(in_features=9, out_features=1024, bias=True)\n",
      "    (1): ReLU()\n",
      "    (2): Linear(in_features=1024, out_features=1024, bias=True)\n",
      "  ))\n",
      "  (linear): Linear(in_features=2048, out_features=64, bias=True)\n",
      "  (out): Linear(in_features=64, out_features=1, bias=True)\n",
      ")\n"
     ]
    }
   ],
   "source": [
    "model = eval('models.'+model_this_run+'(model_params)')\n",
    "model.load_state_dict(torch.load(f'/home/rajeckidoyle/Documents/Classification/BACE_Classification/model_benchmarks/best_models/{model_this_run}_model.pt'))\n",
    "model = model.to(device)\n",
    "\n",
    "df, binary_results, output, results = test(model, test_loader)\n",
    "\n",
    "print(model)"
   ]
  },
  {
   "cell_type": "markdown",
   "metadata": {},
   "source": [
    "### Confusion Matrix"
   ]
  },
  {
   "cell_type": "code",
   "execution_count": 37,
   "metadata": {},
   "outputs": [
    {
     "data": {
      "image/png": "[encoded data removed]",
      "text/plain": [
       "<Figure size 432x288 with 2 Axes>"
      ]
     },
     "metadata": {
      "needs_background": "light"
     },
     "output_type": "display_data"
    }
   ],
   "source": [
    "import matplotlib.pyplot as plt\n",
    "labels = [0,1]\n",
    "cm = metrics.confusion_matrix(output,df[\"y_real\"])\n",
    "metrics.ConfusionMatrixDisplay.from_predictions(binary_results[\"y_real\"],binary_results[\"y_pred\"], cmap='Blues')\n",
    "\n",
    "filepath = '/home/rajeckidoyle/Documents/Classification/BACE_Classification/model_benchmarks/results/'\n",
    "plt.savefig(filepath + model_this_run + 'confusion_matrix.jpeg', bbox_inches='tight',dpi=100)"
   ]
  },
  {
   "cell_type": "markdown",
   "metadata": {},
   "source": [
    "### ROC Curve"
   ]
  },
  {
   "cell_type": "code",
   "execution_count": 38,
   "metadata": {},
   "outputs": [],
   "source": [
    "r_fpr, r_tpr, thresholds = metrics.roc_curve(df[\"y_real\"].to_list(),df[\"y_pred\"].to_list())\n",
    "\n",
    "roc_curve_data = pd.DataFrame({'r_fpr': r_fpr, 'r_tpr': r_tpr, 'thresholds': thresholds})\n",
    "\n",
    "filepath = '/home/rajeckidoyle/Documents/Classification/BACE_Classification/model_benchmarks/results/'\n",
    "roc_curve_data.to_csv(filepath + model_this_run+'rocdata.csv')"
   ]
  },
  {
   "cell_type": "code",
   "execution_count": 39,
   "metadata": {},
   "outputs": [
    {
     "data": {
      "image/png": "[encoded data removed]",
      "text/plain": [
       "<Figure size 432x288 with 1 Axes>"
      ]
     },
     "metadata": {
      "needs_background": "light"
     },
     "output_type": "display_data"
    }
   ],
   "source": [
    "import matplotlib.pyplot as plt\n",
    "\n",
    "plt.plot(r_fpr, r_tpr)\n",
    "# Title\n",
    "plt.title('ROC Plot')\n",
    "# Axis labels\n",
    "plt.xlabel('False Positive Rate')\n",
    "plt.ylabel('True Positive Rate')\n",
    "\n",
    "filepath = '/home/rajeckidoyle/Documents/Classification/BACE_Classification/model_benchmarks/results/'\n",
    "plt.savefig(filepath + model_this_run + 'roc_curve.jpeg', bbox_inches='tight', dpi=100)"
   ]
  },
  {
   "cell_type": "markdown",
   "metadata": {},
   "source": [
    "## PR Curve"
   ]
  },
  {
   "cell_type": "code",
   "execution_count": 40,
   "metadata": {},
   "outputs": [
    {
     "data": {
      "image/png": "[encoded data removed]",
      "text/plain": [
       "<Figure size 432x288 with 1 Axes>"
      ]
     },
     "metadata": {
      "needs_background": "light"
     },
     "output_type": "display_data"
    }
   ],
   "source": [
    "from sklearn.metrics import precision_recall_curve\n",
    "precision, recall, thresholds = precision_recall_curve(df[\"y_real\"].to_list(),df[\"y_pred\"].to_list())\n",
    "metrics.PrecisionRecallDisplay.from_predictions(df[\"y_real\"].to_list(),df[\"y_pred\"].to_list())\n",
    "\n",
    "plt.title('PR Curve')\n",
    "\n",
    "filepath = '/home/rajeckidoyle/Documents/Classification/BACE_Classification/model_benchmarks/results/'\n",
    "plt.savefig(filepath + model_this_run + 'pr_curve.jpeg', bbox_inches='tight', dpi=100)"
   ]
  }
 ],
 "metadata": {
  "interpreter": {
   "hash": "c4e88f5f6f0c037f170d8b5f2f59d1377880a8e4b384253995bdaa7b6b72e05d"
  },
  "kernelspec": {
   "display_name": "Python 3.8.12 ('my_torch_geometric')",
   "language": "python",
   "name": "python3"
  },
  "language_info": {
   "codemirror_mode": {
    "name": "ipython",
    "version": 3
   },
   "file_extension": ".py",
   "mimetype": "text/x-python",
   "name": "python",
   "nbconvert_exporter": "python",
   "pygments_lexer": "ipython3",
   "version": "3.8.12"
  },
  "orig_nbformat": 4
 },
 "nbformat": 4,
 "nbformat_minor": 2
}
