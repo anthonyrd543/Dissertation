{
 "cells": [
  {
   "cell_type": "code",
   "execution_count": 84,
   "metadata": {},
   "outputs": [],
   "source": [
    "import pandas as pd\n",
    "import numpy as np"
   ]
  },
  {
   "cell_type": "code",
   "execution_count": 74,
   "metadata": {},
   "outputs": [],
   "source": [
    "#Flag to redo all splits\n",
    "\n",
    "redo = False"
   ]
  },
  {
   "cell_type": "markdown",
   "metadata": {},
   "source": [
    "## Reverse Split"
   ]
  },
  {
   "cell_type": "code",
   "execution_count": 78,
   "metadata": {},
   "outputs": [],
   "source": [
    "bace_dataset = pd.read_csv('/home/rajeckidoyle/Documents/Classification/BACE_Classification/regressionandunccertainty/bace/raw/bace.csv')"
   ]
  },
  {
   "cell_type": "code",
   "execution_count": 79,
   "metadata": {},
   "outputs": [],
   "source": [
    "\n",
    "bace_dataset = bace_dataset.sample(frac=1).reset_index(drop=True)\n",
    "data_len = len(bace_dataset)\n",
    "train_length = int(data_len*0.8)\n",
    "\n",
    "train_dataset = bace_dataset.iloc[:train_length]\n",
    "test_dataset = bace_dataset.iloc[train_length:]\n",
    "\n",
    "from generate_fingerprints import fingerprints_from_smiles_dataset\n",
    "\n",
    "train_fingerprints = fingerprints_from_smiles_dataset(train_dataset,regression=True)\n",
    "test_fingerprints = fingerprints_from_smiles_dataset(test_dataset,regression=True)"
   ]
  },
  {
   "cell_type": "code",
   "execution_count": 80,
   "metadata": {},
   "outputs": [],
   "source": [
    "filepath = '/home/rajeckidoyle/Documents/Classification/BACE_Classification/regressionandunccertainty/fingerprints/'\n",
    "train_fingerprints.to_csv(filepath + 'bace_reverse_split_train.csv',index=False)\n",
    "test_fingerprints.to_csv(filepath + 'bace_reverse_split_test.csv',index=False)"
   ]
  },
  {
   "cell_type": "markdown",
   "metadata": {},
   "source": [
    "## Aletoric Dataset"
   ]
  },
  {
   "cell_type": "code",
   "execution_count": 88,
   "metadata": {},
   "outputs": [],
   "source": [
    "train_dataset = pd.read_csv('/home/rajeckidoyle/Documents/Classification/BACE_Classification/regressionandunccertainty/fingerprints/bace_reverse_split_train.csv')\n",
    "test_dataset = pd.read_csv('/home/rajeckidoyle/Documents/Classification/BACE_Classification/regressionandunccertainty/fingerprints/bace_reverse_split_test.csv')"
   ]
  },
  {
   "cell_type": "code",
   "execution_count": 90,
   "metadata": {},
   "outputs": [],
   "source": [
    "train_dataset['pIC50'] = train_dataset['pIC50'] + np.random.normal(loc=0,scale=train_dataset['pIC50']/10)\n",
    "test_dataset['pIC50'] = test_dataset['pIC50'] + np.random.normal(loc=0,scale=test_dataset['pIC50']/10)"
   ]
  },
  {
   "cell_type": "code",
   "execution_count": 92,
   "metadata": {},
   "outputs": [],
   "source": [
    "train_filepath = '/home/rajeckidoyle/Documents/Classification/BACE_Classification/regressionandunccertainty/fingerprints/bace_fingerprints_reg_ale_train.csv'\n",
    "test_filepath = '/home/rajeckidoyle/Documents/Classification/BACE_Classification/regressionandunccertainty/fingerprints/bace_fingerprints_reg_ale_test.csv'\n",
    "if redo:\n",
    "    train_fingerprints.to_csv(train_filepath, index=False)\n",
    "    test_fingerprints.to_csv(test_filepath,index=False)"
   ]
  },
  {
   "cell_type": "markdown",
   "metadata": {},
   "source": [
    "## Epistemic Dataset"
   ]
  },
  {
   "cell_type": "code",
   "execution_count": 100,
   "metadata": {},
   "outputs": [],
   "source": [
    "bace_dataset = pd.read_csv('/home/rajeckidoyle/Documents/Classification/BACE_Classification/regressionandunccertainty/bace/raw/bace.csv')"
   ]
  },
  {
   "cell_type": "code",
   "execution_count": 101,
   "metadata": {},
   "outputs": [],
   "source": [
    "ood_samples = bace_dataset[(bace_dataset['pIC50']>9) | (bace_dataset['pIC50']<4)]\n",
    "in_dist_samples =  bace_dataset[(bace_dataset['pIC50']<=9) & (bace_dataset['pIC50']>=4)]"
   ]
  },
  {
   "cell_type": "code",
   "execution_count": 102,
   "metadata": {},
   "outputs": [
    {
     "data": {
      "image/png": "[encoded data removed]",
      "text/plain": [
       "<Figure size 432x288 with 1 Axes>"
      ]
     },
     "metadata": {
      "needs_background": "light"
     },
     "output_type": "display_data"
    },
    {
     "data": {
      "image/png": "[encoded data removed]",
      "text/plain": [
       "<Figure size 432x288 with 1 Axes>"
      ]
     },
     "metadata": {
      "needs_background": "light"
     },
     "output_type": "display_data"
    }
   ],
   "source": [
    "\n",
    "in_dist_samples =in_dist_samples.sample(frac=1).reset_index(drop=True)\n",
    "\n",
    "\n",
    "\n",
    "train_length = 1210\n",
    "\n",
    "train_dataset =in_dist_samples.iloc[:train_length]\n",
    "test_dataset =in_dist_samples.iloc[train_length:]\n",
    "\n",
    "train_dataset.hist('pIC50')\n",
    "test_dataset.hist('pIC50')"
   ]
  },
  {
   "cell_type": "code",
   "execution_count": 103,
   "metadata": {},
   "outputs": [],
   "source": [
    "test_dataset = pd.concat([test_dataset,ood_samples])"
   ]
  },
  {
   "cell_type": "code",
   "execution_count": 104,
   "metadata": {},
   "outputs": [
    {
     "data": {
      "text/plain": [
       "array([[<AxesSubplot:title={'center':'pIC50'}>]], dtype=object)"
      ]
     },
     "execution_count": 104,
     "metadata": {},
     "output_type": "execute_result"
    },
    {
     "data": {
      "image/png": "[encoded data removed]",
      "text/plain": [
       "<Figure size 432x288 with 1 Axes>"
      ]
     },
     "metadata": {
      "needs_background": "light"
     },
     "output_type": "display_data"
    }
   ],
   "source": [
    "test_dataset.hist('pIC50')"
   ]
  },
  {
   "cell_type": "code",
   "execution_count": 105,
   "metadata": {},
   "outputs": [],
   "source": [
    "from generate_fingerprints import fingerprints_from_smiles_dataset\n",
    "\n",
    "train_fingerprints = fingerprints_from_smiles_dataset(train_dataset,regression=True)\n",
    "test_fingerprints = fingerprints_from_smiles_dataset(test_dataset,regression=True)"
   ]
  },
  {
   "cell_type": "code",
   "execution_count": 106,
   "metadata": {},
   "outputs": [],
   "source": [
    "if redo:\n",
    "    train_filepath = '/home/rajeckidoyle/Documents/Classification/BACE_Classification/regressionandunccertainty/fingerprints/bace_fingerprints_reg_epi_train.csv'\n",
    "    test_filepath = '/home/rajeckidoyle/Documents/Classification/BACE_Classification/regressionandunccertainty/fingerprints/bace_fingerprints_reg_epi_test.csv'\n",
    "\n",
    "    train_fingerprints.to_csv(train_filepath, index=False)\n",
    "    test_fingerprints.to_csv(test_filepath,index=False)"
   ]
  }
 ],
 "metadata": {
  "interpreter": {
   "hash": "c4e88f5f6f0c037f170d8b5f2f59d1377880a8e4b384253995bdaa7b6b72e05d"
  },
  "kernelspec": {
   "display_name": "Python 3.8.12 ('my_torch_geometric')",
   "language": "python",
   "name": "python3"
  },
  "language_info": {
   "codemirror_mode": {
    "name": "ipython",
    "version": 3
   },
   "file_extension": ".py",
   "mimetype": "text/x-python",
   "name": "python",
   "nbconvert_exporter": "python",
   "pygments_lexer": "ipython3",
   "version": "3.8.12"
  },
  "orig_nbformat": 4
 },
 "nbformat": 4,
 "nbformat_minor": 2
}
