{
 "cells": [
  {
   "cell_type": "code",
   "execution_count": 1,
   "metadata": {},
   "outputs": [],
   "source": [
    "from torch_geometric.datasets import MoleculeNet\n",
    "import torch\n",
    "import numpy as np\n",
    "import pandas as pd\n",
    "from sklearn import metrics\n",
    "import scipy.stats as stats\n",
    "import models"
   ]
  },
  {
   "cell_type": "markdown",
   "metadata": {},
   "source": [
    "## Import Dataset"
   ]
  },
  {
   "cell_type": "code",
   "execution_count": 2,
   "metadata": {},
   "outputs": [],
   "source": [
    "import torchvision\n",
    "from torch.utils.data import Dataset, DataLoader\n",
    "import numpy as np\n",
    "import math\n",
    "\n",
    "class FingerprintDataset(Dataset):\n",
    "    def __init__(self,split):\n",
    "        # Initialize data, download, etc.\n",
    "        # read with numpy or pandas\n",
    "        xy = np.loadtxt(f'./fingerprints/bace_fingerprints_reg_ale_{split}.csv', delimiter=',', dtype=np.float32, skiprows=1)\n",
    "\n",
    "        self.x = torch.from_numpy(xy[:,1:])\n",
    "        self.y = torch.from_numpy(xy[:,[0]])\n",
    "        self.n_samples = xy.shape[0]\n",
    "\n",
    "    # support indexing such that dataset[i] can be used to get i-th sample\n",
    "    def __getitem__(self, index):\n",
    "        return self.x[index], self.y[index]\n",
    "\n",
    "    # we can call len(dataset) to return the size\n",
    "    def __len__(self):\n",
    "        return self.n_samples"
   ]
  },
  {
   "cell_type": "code",
   "execution_count": 3,
   "metadata": {},
   "outputs": [],
   "source": [
    "train_dataset = FingerprintDataset(split='train')\n",
    "test_dataset = FingerprintDataset(split='test')"
   ]
  },
  {
   "cell_type": "code",
   "execution_count": 4,
   "metadata": {},
   "outputs": [],
   "source": [
    "#Specify device\n",
    "device = torch.device(\"cuda:1\" if torch.cuda.is_available() else \"cpu\")"
   ]
  },
  {
   "cell_type": "markdown",
   "metadata": {},
   "source": [
    "## Set Hyperparameters"
   ]
  },
  {
   "cell_type": "code",
   "execution_count": 5,
   "metadata": {},
   "outputs": [],
   "source": [
    "import best_config\n",
    "\n",
    "no_of_epochs = best_config.GLOBALPARAMETERS['no_of_epochs']"
   ]
  },
  {
   "cell_type": "code",
   "execution_count": 6,
   "metadata": {},
   "outputs": [],
   "source": [
    "#Get Model Parameters\n",
    "hyperparameters = eval('best_config.'+'MLP'+'_HYPERPARAMETERS')\n",
    "\n",
    "model_params = hyperparameters\n",
    "model_params['feature_size'] = train_dataset.x.shape[1]"
   ]
  },
  {
   "cell_type": "markdown",
   "metadata": {},
   "source": [
    "## Define Model"
   ]
  },
  {
   "cell_type": "code",
   "execution_count": 7,
   "metadata": {},
   "outputs": [],
   "source": [
    "from torch.utils.data import DataLoader\n",
    "import warnings\n",
    "warnings.filterwarnings(\"ignore\")\n",
    "\n",
    "from torch.utils.data import DataLoader\n",
    "\n",
    "# Root mean squared error\n",
    "loss_fn = torch.nn.MSELoss()\n",
    "\n",
    "NUM_FINGERPRINTS_PER_BATCH = model_params['batch_size']\n",
    "train_loader = DataLoader(train_dataset, \n",
    "                    batch_size=NUM_FINGERPRINTS_PER_BATCH, shuffle=True)\n",
    "test_loader = DataLoader(test_dataset, \n",
    "                    batch_size=NUM_FINGERPRINTS_PER_BATCH, shuffle=True)"
   ]
  },
  {
   "cell_type": "markdown",
   "metadata": {},
   "source": [
    "## Training Loop"
   ]
  },
  {
   "cell_type": "code",
   "execution_count": 8,
   "metadata": {},
   "outputs": [],
   "source": [
    "class Engine:\n",
    "    def __init__(self, model, model_params, optimizer, device):\n",
    "        self.model = model\n",
    "        self.model_params = model_params\n",
    "        self.optimizer = optimizer\n",
    "        self.device = device\n",
    "        self.loss_fn = torch.nn.MSELoss()\n",
    "\n",
    "    def train(self, loader):\n",
    "        self.model.train()\n",
    "        # Enumerate over the data\n",
    "        final_loss = 0\n",
    "        for i, (fingerprint, labels) in enumerate(loader):\n",
    "            self.optimizer.zero_grad()  \n",
    "            fingerprint = fingerprint.to(self.device)\n",
    "            labels = labels.to(self.device)\n",
    "            # Forward pass\n",
    "            outputs = self.model(fingerprint)\n",
    "            loss = self.loss_fn(outputs, labels)\n",
    "            # Backward and optimize\n",
    "            final_loss += loss.item()\n",
    "            loss.backward()\n",
    "            self.optimizer.step() \n",
    "        return final_loss / len(loader)\n",
    "    \n",
    "    def evaluate(self, loader):\n",
    "            self.model.eval()\n",
    "            # Enumerate over the data\n",
    "            final_loss = 0\n",
    "            for i, (fingerprint, labels) in enumerate(loader):  \n",
    "                fingerprint = fingerprint.to(self.device)\n",
    "                labels = labels.to(self.device)\n",
    "                # Forward pass\n",
    "                outputs = self.model(fingerprint)\n",
    "                loss = self.loss_fn(outputs, labels)\n",
    "                final_loss += loss.item()\n",
    "            return final_loss / len(loader)\n",
    "    \n",
    "    def test(self, loader):\n",
    "        model.eval()\n",
    "        true_values = []\n",
    "        predictions = []\n",
    "        with torch.no_grad():\n",
    "            n_correct = 0\n",
    "            n_samples = 0\n",
    "            for fingerprint, labels in loader:\n",
    "                fingerprint = fingerprint.to(device)\n",
    "                labels = labels.to(device)\n",
    "                output = model(fingerprint)\n",
    "                true_values += labels.tolist()\n",
    "                predictions += output.tolist()\n",
    "        df = pd.DataFrame({'y_pred':predictions,'y_real':true_values})\n",
    "        df = df.applymap(lambda x : x[0])\n",
    "        return df\n",
    "    \n",
    "def get_results(df):\n",
    "    mse = metrics.mean_squared_error(df[\"y_real\"],df[\"y_pred\"])\n",
    "    sc = stats.spearmanr(df[\"y_real\"],df[\"y_pred\"])[0]\n",
    "    pc = np.corrcoef(df['y_real'],df['y_pred'])[0,1]\n",
    "    r = metrics.r2_score(df[\"y_real\"],df[\"y_pred\"])\n",
    "\n",
    "    results = {\n",
    "        'Mean Square Error':mse,\n",
    "        'Spearman':sc,\n",
    "        'Pearson':pc,\n",
    "        'R':r,\n",
    "    }\n",
    "    results_df = pd.DataFrame([results])\n",
    "    return results_df"
   ]
  },
  {
   "cell_type": "code",
   "execution_count": 9,
   "metadata": {},
   "outputs": [
    {
     "name": "stdout",
     "output_type": "stream",
     "text": [
      "Starting training 0\n"
     ]
    }
   ],
   "source": [
    "results = {\n",
    "            'Mean Square Error':[],\n",
    "            'Spearman':[],\n",
    "            'Pearson':[],\n",
    "            'R':[],\n",
    "        }\n",
    "summary_df = pd.DataFrame(results)\n",
    "for i in range(1):\n",
    "    print(f\"Starting training {i}\")\n",
    "    model = eval('models.'+'MLP_REGRESSION'+'(model_params)')\n",
    "    model = model.to(device)\n",
    "    optimizer = torch.optim.Adam(model.parameters(), lr=model_params['learning_rate'])  \n",
    "    eng = Engine(model, model_params, optimizer, device)\n",
    "    for epoch in range(no_of_epochs):\n",
    "        loss = eng.train(train_loader)\n",
    "    df = eng.test(test_loader)\n",
    "    summary_df = summary_df.append(get_results(df))\n",
    "    \n",
    "filepath = '/home/rajeckidoyle/Documents/Classification/BACE_Classification/regressionandunccertainty/baseline_results/results'\n",
    "summary_df.to_csv(filepath+'MLP_summary.csv')\n"
   ]
  },
  {
   "cell_type": "code",
   "execution_count": 10,
   "metadata": {},
   "outputs": [],
   "source": [
    "filepath = '/home/rajeckidoyle/Documents/Classification/BACE_Classification/regressionandunccertainty/results/ground_truth/'\n",
    "summary_df.to_csv(filepath+'MLP_summary.csv')"
   ]
  }
 ],
 "metadata": {
  "interpreter": {
   "hash": "c4e88f5f6f0c037f170d8b5f2f59d1377880a8e4b384253995bdaa7b6b72e05d"
  },
  "kernelspec": {
   "display_name": "Python 3.8.12 ('my_torch_geometric')",
   "language": "python",
   "name": "python3"
  },
  "language_info": {
   "codemirror_mode": {
    "name": "ipython",
    "version": 3
   },
   "file_extension": ".py",
   "mimetype": "text/x-python",
   "name": "python",
   "nbconvert_exporter": "python",
   "pygments_lexer": "ipython3",
   "version": "3.8.12"
  },
  "orig_nbformat": 4
 },
 "nbformat": 4,
 "nbformat_minor": 2
}
