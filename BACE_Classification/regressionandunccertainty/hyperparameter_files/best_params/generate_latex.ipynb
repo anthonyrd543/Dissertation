{
 "cells": [
  {
   "cell_type": "code",
   "execution_count": 2,
   "metadata": {},
   "outputs": [],
   "source": [
    "import pandas as pd"
   ]
  },
  {
   "cell_type": "code",
   "execution_count": 23,
   "metadata": {},
   "outputs": [],
   "source": [
    "reg_params = pd.read_csv('mlp_reg_best_parameters.csv')\n",
    "mle_params = pd.read_csv('mlp_mle_best_parameters.csv')\n",
    "mdn_params = pd.read_csv('mlp_mdn_best_parameters.csv')\n",
    "qr_params = pd.read_csv('mlp_qr_best_parameters.csv')"
   ]
  },
  {
   "cell_type": "code",
   "execution_count": 33,
   "metadata": {},
   "outputs": [
    {
     "name": "stdout",
     "output_type": "stream",
     "text": [
      "\\begin{tabular}{lllllllll}\n",
      " & learning_rate & batch_size & model_layers & model_embedding_size & model_embedding_dropout_rate & model_dense_neurons & model_linear_dropout_rate & No. of Gaussians \\\\\n",
      "0 & 0.000933 & 16.0 & 1.0 & 2.56e+02 & 0.0114 & 64.0 & 0.0598 & N/A, \\\\\n",
      "0 & 0.000138 & 64.0 & 1.0 & 1.28e+02 & 0.119 & 64.0 & 0.078 & N/A, \\\\\n",
      "0 & 2.98e-05 & 16.0 & 1.0 & 64.0 & 0.0144 & 2.56e+02 & 0.0805 & N/A, \\\\\n",
      "0 & 4.13e-05 & 32.0 & 1.0 & 2.56e+02 & 0.181 & 2.56e+02 & 0.193 & 3 \\\\\n",
      "\\end{tabular}\n",
      "\n"
     ]
    }
   ],
   "source": [
    "col = ['learning_rate',\n",
    "       'batch_size', \n",
    "       'model_layers',  \n",
    "       'model_embedding_size',\n",
    "       'model_embedding_dropout_rate',\n",
    "       'model_dense_neurons',\n",
    "       'model_linear_dropout_rate',\n",
    "       ]\n",
    "\n",
    "list_of_hyperparams = [reg_params[col],\n",
    "                       mle_params[col],\n",
    "                       qr_params[col],\n",
    "                       mdn_params[col],\n",
    "                       ]\n",
    "\n",
    "df = pd.concat(list_of_hyperparams)\n",
    "df = df.applymap(lambda x : f'{float(x):.3}')\n",
    "df['No. of Gaussians'] = ['N/A,','N/A,','N/A,',3]\n",
    "print(df.style.to_latex())\n"
   ]
  },
  {
   "cell_type": "code",
   "execution_count": null,
   "metadata": {},
   "outputs": [],
   "source": []
  }
 ],
 "metadata": {
  "interpreter": {
   "hash": "c4e88f5f6f0c037f170d8b5f2f59d1377880a8e4b384253995bdaa7b6b72e05d"
  },
  "kernelspec": {
   "display_name": "Python 3.8.12 ('my_torch_geometric')",
   "language": "python",
   "name": "python3"
  },
  "language_info": {
   "codemirror_mode": {
    "name": "ipython",
    "version": 3
   },
   "file_extension": ".py",
   "mimetype": "text/x-python",
   "name": "python",
   "nbconvert_exporter": "python",
   "pygments_lexer": "ipython3",
   "version": "3.8.12"
  },
  "orig_nbformat": 4
 },
 "nbformat": 4,
 "nbformat_minor": 2
}
