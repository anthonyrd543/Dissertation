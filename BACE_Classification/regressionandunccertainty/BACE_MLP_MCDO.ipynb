{
 "cells": [
  {
   "cell_type": "code",
   "execution_count": 30,
   "metadata": {},
   "outputs": [],
   "source": [
    "from torch_geometric.datasets import MoleculeNet\n",
    "import torch\n",
    "import numpy as np\n",
    "import pandas as pd"
   ]
  },
  {
   "cell_type": "markdown",
   "metadata": {},
   "source": [
    "## Import Dataset"
   ]
  },
  {
   "cell_type": "code",
   "execution_count": 31,
   "metadata": {},
   "outputs": [],
   "source": [
    "import torchvision\n",
    "from torch.utils.data import Dataset, DataLoader\n",
    "import numpy as np\n",
    "import math\n",
    "\n",
    "class FingerprintDataset(Dataset):\n",
    "    def __init__(self,split):\n",
    "        # Initialize data, download, etc.\n",
    "        # read with numpy or pandas\n",
    "        xy = np.loadtxt(f'./fingerprints/bace_reverse_split_{split}.csv', delimiter=',', dtype=np.float32, skiprows=1)\n",
    "\n",
    "        self.x = torch.from_numpy(xy[:,1:])\n",
    "        self.y = torch.from_numpy(xy[:,[0]])\n",
    "        self.n_samples = xy.shape[0]\n",
    "\n",
    "    # support indexing such that dataset[i] can be used to get i-th sample\n",
    "    def __getitem__(self, index):\n",
    "        return self.x[index], self.y[index]\n",
    "\n",
    "    # we can call len(dataset) to return the size\n",
    "    def __len__(self):\n",
    "        return self.n_samples"
   ]
  },
  {
   "cell_type": "code",
   "execution_count": 32,
   "metadata": {},
   "outputs": [],
   "source": [
    "train_dataset = FingerprintDataset(split='train')\n",
    "test_dataset = FingerprintDataset(split='test')"
   ]
  },
  {
   "cell_type": "code",
   "execution_count": 33,
   "metadata": {},
   "outputs": [],
   "source": [
    "#Specify device\n",
    "device = torch.device(\"cuda:1\" if torch.cuda.is_available() else \"cpu\")"
   ]
  },
  {
   "cell_type": "markdown",
   "metadata": {},
   "source": [
    "## Set Hyperparameters"
   ]
  },
  {
   "cell_type": "code",
   "execution_count": 34,
   "metadata": {},
   "outputs": [],
   "source": [
    "import best_config\n",
    "\n",
    "no_of_epochs = best_config.GLOBALPARAMETERS['no_of_epochs']\n",
    "train_size = best_config.GLOBALPARAMETERS['train_size']\n",
    "valid_size = best_config.GLOBALPARAMETERS['valid_size']"
   ]
  },
  {
   "cell_type": "code",
   "execution_count": 35,
   "metadata": {},
   "outputs": [],
   "source": [
    "#Get Model Parameters\n",
    "hyperparameters = eval('best_config.'+'MLP_MCDO'+'_HYPERPARAMETERS')\n",
    "\n",
    "model_params = hyperparameters\n",
    "model_params['feature_size'] = train_dataset.x.shape[1]"
   ]
  },
  {
   "cell_type": "code",
   "execution_count": 36,
   "metadata": {},
   "outputs": [
    {
     "data": {
      "text/plain": [
       "array([[<AxesSubplot:title={'center':'0'}>]], dtype=object)"
      ]
     },
     "execution_count": 36,
     "metadata": {},
     "output_type": "execute_result"
    },
    {
     "data": {
      "image/png": "[encoded data removed]",
      "text/plain": [
       "<Figure size 432x288 with 1 Axes>"
      ]
     },
     "metadata": {
      "needs_background": "light"
     },
     "output_type": "display_data"
    }
   ],
   "source": [
    "train_df= pd.DataFrame(train_dataset.y.cpu().tolist())\n",
    "#train_df.applymap(lambda x: x[0])\n",
    "train_df.hist()"
   ]
  },
  {
   "cell_type": "markdown",
   "metadata": {},
   "source": [
    "## Define Model"
   ]
  },
  {
   "cell_type": "code",
   "execution_count": 37,
   "metadata": {},
   "outputs": [],
   "source": [
    "def count_parameters(model):\n",
    "    return sum(p.numel() for p in model.parameters() if p.requires_grad)"
   ]
  },
  {
   "cell_type": "code",
   "execution_count": 38,
   "metadata": {},
   "outputs": [
    {
     "data": {
      "text/plain": [
       "{'has_edge_info': False,\n",
       " 'batch_size': 16,\n",
       " 'learning_rate': 0.0002007339899573065,\n",
       " 'model_layers': 2,\n",
       " 'model_embedding_size': 256,\n",
       " 'model_dense_neurons': 256,\n",
       " 'model_linear_dropout_rate': 0.05,\n",
       " 'model_embedding_dropout_rate': 0.05,\n",
       " 'feature_size': 1024}"
      ]
     },
     "execution_count": 38,
     "metadata": {},
     "output_type": "execute_result"
    }
   ],
   "source": [
    "model_params"
   ]
  },
  {
   "cell_type": "code",
   "execution_count": 39,
   "metadata": {},
   "outputs": [
    {
     "name": "stdout",
     "output_type": "stream",
     "text": [
      "Loading model...\n",
      "MLP_REGRESSION(\n",
      "  (conv_layers): ModuleList(\n",
      "    (0): Linear(in_features=256, out_features=256, bias=True)\n",
      "  )\n",
      "  (bn_layers): ModuleList(\n",
      "    (0): BatchNorm1d(256, eps=1e-05, momentum=0.1, affine=True, track_running_stats=True)\n",
      "  )\n",
      "  (initial_conv): Linear(in_features=1024, out_features=256, bias=True)\n",
      "  (embedding_dropout): Dropout(p=0.05, inplace=False)\n",
      "  (linear_dropout): Dropout(p=0.05, inplace=False)\n",
      "  (linear): Linear(in_features=256, out_features=256, bias=True)\n",
      "  (out): Linear(in_features=256, out_features=1, bias=True)\n",
      ")\n",
      "394753\n"
     ]
    }
   ],
   "source": [
    "import models\n",
    "print(\"Loading model...\")\n",
    "\n",
    "#Create instance of model\n",
    "model = eval('models.'+'MLP_REGRESSION'+'(model_params)')\n",
    "print(model)\n",
    "print(count_parameters(model))"
   ]
  },
  {
   "cell_type": "code",
   "execution_count": 40,
   "metadata": {},
   "outputs": [],
   "source": [
    "model = model.to(device)"
   ]
  },
  {
   "cell_type": "code",
   "execution_count": 41,
   "metadata": {},
   "outputs": [],
   "source": [
    "from torch.utils.data import DataLoader\n",
    "import warnings\n",
    "warnings.filterwarnings(\"ignore\")\n",
    "\n",
    "# Root mean squared error\n",
    "loss_fn = torch.nn.MSELoss()\n",
    "optimizer = torch.optim.Adam(model.parameters(), lr=0.007, weight_decay=0.000001)  \n",
    "\n",
    "NUM_FINGERPRINTS_PER_BATCH = model_params['batch_size']\n",
    "train_loader = DataLoader(train_dataset, \n",
    "                    batch_size=NUM_FINGERPRINTS_PER_BATCH, shuffle=True)\n",
    "test_loader = DataLoader(test_dataset, \n",
    "                    batch_size=NUM_FINGERPRINTS_PER_BATCH, shuffle=True)"
   ]
  },
  {
   "cell_type": "markdown",
   "metadata": {},
   "source": [
    "## Training Loop"
   ]
  },
  {
   "cell_type": "code",
   "execution_count": 42,
   "metadata": {},
   "outputs": [],
   "source": [
    "class Engine:\n",
    "    def __init__(self, model, model_params, optimizer, device):\n",
    "        self.model = model\n",
    "        self.model_params = model_params\n",
    "        self.optimizer = optimizer\n",
    "        self.device = device\n",
    "        self.loss_fn = torch.nn.MSELoss()\n",
    "\n",
    "    def train(self, loader):\n",
    "        self.model.train()\n",
    "        # Enumerate over the data\n",
    "        final_loss = 0\n",
    "        for i, (fingerprint, labels) in enumerate(loader):  \n",
    "            self.optimizer.zero_grad()\n",
    "            fingerprint = fingerprint.to(self.device)\n",
    "            labels = labels.to(self.device)\n",
    "            \n",
    "            # Forward pass\n",
    "            mu = self.model(fingerprint)\n",
    "            loss = self.loss_fn(mu, labels)\n",
    "            # Backward and optimize\n",
    "            final_loss += loss.item()\n",
    "            loss.backward()\n",
    "            self.optimizer.step() \n",
    "        return final_loss / len(loader)\n",
    "    \n",
    "    def evaluate(self, loader):\n",
    "            self.model.eval()\n",
    "            # Enumerate over the data\n",
    "            final_loss = 0\n",
    "            for i, (fingerprint, labels) in enumerate(loader):  \n",
    "                fingerprint = fingerprint.to(self.device)\n",
    "                labels = labels.to(self.device)\n",
    "                \n",
    "                # Forward pass\n",
    "                mu = self.model(fingerprint)\n",
    "                loss = self.loss_fn(mu, labels)\n",
    "                final_loss += loss.item()\n",
    "            return final_loss / len(loader)"
   ]
  },
  {
   "cell_type": "code",
   "execution_count": 43,
   "metadata": {},
   "outputs": [
    {
     "name": "stdout",
     "output_type": "stream",
     "text": [
      "Starting training...\n",
      "Epoch 0 | Train Loss 18.405886127760535\n",
      "Epoch 10 | Train Loss 0.2678776789260538\n",
      "Epoch 20 | Train Loss 0.18680818991637543\n",
      "Epoch 30 | Train Loss 0.1317868880241325\n",
      "Epoch 40 | Train Loss 0.1215555283093923\n",
      "Epoch 50 | Train Loss 0.1088424626933901\n",
      "Epoch 60 | Train Loss 0.1055427210307435\n",
      "Epoch 70 | Train Loss 0.11807585125298876\n",
      "Epoch 80 | Train Loss 0.1195209702770961\n",
      "Epoch 90 | Train Loss 0.11496547119397867\n",
      "Epoch 100 | Train Loss 0.09841107809916139\n",
      "Epoch 110 | Train Loss 0.09572310125651329\n",
      "Epoch 120 | Train Loss 0.09400435154767413\n",
      "Epoch 130 | Train Loss 0.10321950022817443\n",
      "Epoch 140 | Train Loss 0.11163617165661172\n",
      "Epoch 150 | Train Loss 0.09259100799987975\n",
      "Epoch 160 | Train Loss 0.09361731437476058\n",
      "Epoch 170 | Train Loss 0.09423124670100055\n",
      "Epoch 180 | Train Loss 0.08521131798624992\n",
      "Epoch 190 | Train Loss 0.0935509018845072\n"
     ]
    }
   ],
   "source": [
    "optimizer = torch.optim.Adam(model.parameters(), lr=model_params['learning_rate'])  \n",
    "\n",
    "eng = Engine(model, model_params, optimizer, device)\n",
    "\n",
    "print(\"Starting training...\")\n",
    "losses = []\n",
    "for epoch in range(no_of_epochs):\n",
    "    loss = eng.train(train_loader)\n",
    "    losses.append(loss)\n",
    "    if epoch % 10 == 0:\n",
    "        print(f\"Epoch {epoch} | Train Loss {loss}\")"
   ]
  },
  {
   "cell_type": "markdown",
   "metadata": {},
   "source": [
    "## Evaluate on the Test Set"
   ]
  },
  {
   "cell_type": "code",
   "execution_count": 44,
   "metadata": {},
   "outputs": [
    {
     "data": {
      "text/html": [
       "<div>\n",
       "<style scoped>\n",
       "    .dataframe tbody tr th:only-of-type {\n",
       "        vertical-align: middle;\n",
       "    }\n",
       "\n",
       "    .dataframe tbody tr th {\n",
       "        vertical-align: top;\n",
       "    }\n",
       "\n",
       "    .dataframe thead th {\n",
       "        text-align: right;\n",
       "    }\n",
       "</style>\n",
       "<table border=\"1\" class=\"dataframe\">\n",
       "  <thead>\n",
       "    <tr style=\"text-align: right;\">\n",
       "      <th></th>\n",
       "      <th>y_pred</th>\n",
       "      <th>y_real</th>\n",
       "    </tr>\n",
       "  </thead>\n",
       "  <tbody>\n",
       "    <tr>\n",
       "      <th>0</th>\n",
       "      <td>6.808861</td>\n",
       "      <td>7.148742</td>\n",
       "    </tr>\n",
       "    <tr>\n",
       "      <th>1</th>\n",
       "      <td>4.847393</td>\n",
       "      <td>4.000000</td>\n",
       "    </tr>\n",
       "    <tr>\n",
       "      <th>2</th>\n",
       "      <td>4.312698</td>\n",
       "      <td>4.850781</td>\n",
       "    </tr>\n",
       "    <tr>\n",
       "      <th>3</th>\n",
       "      <td>7.051374</td>\n",
       "      <td>7.221849</td>\n",
       "    </tr>\n",
       "    <tr>\n",
       "      <th>4</th>\n",
       "      <td>6.272474</td>\n",
       "      <td>6.886056</td>\n",
       "    </tr>\n",
       "    <tr>\n",
       "      <th>...</th>\n",
       "      <td>...</td>\n",
       "      <td>...</td>\n",
       "    </tr>\n",
       "    <tr>\n",
       "      <th>298</th>\n",
       "      <td>3.818512</td>\n",
       "      <td>3.943095</td>\n",
       "    </tr>\n",
       "    <tr>\n",
       "      <th>299</th>\n",
       "      <td>6.748466</td>\n",
       "      <td>7.060481</td>\n",
       "    </tr>\n",
       "    <tr>\n",
       "      <th>300</th>\n",
       "      <td>7.441253</td>\n",
       "      <td>6.920819</td>\n",
       "    </tr>\n",
       "    <tr>\n",
       "      <th>301</th>\n",
       "      <td>8.361559</td>\n",
       "      <td>8.045757</td>\n",
       "    </tr>\n",
       "    <tr>\n",
       "      <th>302</th>\n",
       "      <td>8.389736</td>\n",
       "      <td>8.221848</td>\n",
       "    </tr>\n",
       "  </tbody>\n",
       "</table>\n",
       "<p>303 rows × 2 columns</p>\n",
       "</div>"
      ],
      "text/plain": [
       "       y_pred    y_real\n",
       "0    6.808861  7.148742\n",
       "1    4.847393  4.000000\n",
       "2    4.312698  4.850781\n",
       "3    7.051374  7.221849\n",
       "4    6.272474  6.886056\n",
       "..        ...       ...\n",
       "298  3.818512  3.943095\n",
       "299  6.748466  7.060481\n",
       "300  7.441253  6.920819\n",
       "301  8.361559  8.045757\n",
       "302  8.389736  8.221848\n",
       "\n",
       "[303 rows x 2 columns]"
      ]
     },
     "execution_count": 44,
     "metadata": {},
     "output_type": "execute_result"
    }
   ],
   "source": [
    "import pandas as pd\n",
    "model.eval()\n",
    "true_values = []\n",
    "predictions = []\n",
    "with torch.no_grad():\n",
    "    n_correct = 0\n",
    "    n_samples = 0\n",
    "    for fingerprint, labels in test_loader:\n",
    "        fingerprint = fingerprint.to(device)\n",
    "        labels = labels.to(device)\n",
    "        mu = model(fingerprint)\n",
    "        true_values += labels.tolist()\n",
    "        predictions += mu.tolist()\n",
    "df = pd.DataFrame({'y_pred':predictions,'y_real':true_values})\n",
    "df = df.applymap(lambda x : x[0])\n",
    "df"
   ]
  },
  {
   "cell_type": "code",
   "execution_count": 45,
   "metadata": {},
   "outputs": [
    {
     "data": {
      "text/html": [
       "<div>\n",
       "<style scoped>\n",
       "    .dataframe tbody tr th:only-of-type {\n",
       "        vertical-align: middle;\n",
       "    }\n",
       "\n",
       "    .dataframe tbody tr th {\n",
       "        vertical-align: top;\n",
       "    }\n",
       "\n",
       "    .dataframe thead th {\n",
       "        text-align: right;\n",
       "    }\n",
       "</style>\n",
       "<table border=\"1\" class=\"dataframe\">\n",
       "  <thead>\n",
       "    <tr style=\"text-align: right;\">\n",
       "      <th></th>\n",
       "      <th>y_pred</th>\n",
       "      <th>y_real</th>\n",
       "      <th>variance</th>\n",
       "    </tr>\n",
       "  </thead>\n",
       "  <tbody>\n",
       "    <tr>\n",
       "      <th>0</th>\n",
       "      <td>3.370590</td>\n",
       "      <td>2.977298</td>\n",
       "      <td>0.090482</td>\n",
       "    </tr>\n",
       "    <tr>\n",
       "      <th>1</th>\n",
       "      <td>3.113509</td>\n",
       "      <td>3.053144</td>\n",
       "      <td>0.095061</td>\n",
       "    </tr>\n",
       "    <tr>\n",
       "      <th>2</th>\n",
       "      <td>3.767004</td>\n",
       "      <td>3.392007</td>\n",
       "      <td>0.103414</td>\n",
       "    </tr>\n",
       "    <tr>\n",
       "      <th>3</th>\n",
       "      <td>2.953115</td>\n",
       "      <td>3.515237</td>\n",
       "      <td>0.117086</td>\n",
       "    </tr>\n",
       "    <tr>\n",
       "      <th>4</th>\n",
       "      <td>3.886057</td>\n",
       "      <td>3.521885</td>\n",
       "      <td>0.119541</td>\n",
       "    </tr>\n",
       "    <tr>\n",
       "      <th>...</th>\n",
       "      <td>...</td>\n",
       "      <td>...</td>\n",
       "      <td>...</td>\n",
       "    </tr>\n",
       "    <tr>\n",
       "      <th>298</th>\n",
       "      <td>8.958608</td>\n",
       "      <td>8.658302</td>\n",
       "      <td>0.285906</td>\n",
       "    </tr>\n",
       "    <tr>\n",
       "      <th>299</th>\n",
       "      <td>8.721247</td>\n",
       "      <td>8.697102</td>\n",
       "      <td>0.271274</td>\n",
       "    </tr>\n",
       "    <tr>\n",
       "      <th>300</th>\n",
       "      <td>7.853872</td>\n",
       "      <td>8.707878</td>\n",
       "      <td>0.269590</td>\n",
       "    </tr>\n",
       "    <tr>\n",
       "      <th>301</th>\n",
       "      <td>8.698970</td>\n",
       "      <td>8.912098</td>\n",
       "      <td>0.288108</td>\n",
       "    </tr>\n",
       "    <tr>\n",
       "      <th>302</th>\n",
       "      <td>8.698970</td>\n",
       "      <td>9.564557</td>\n",
       "      <td>0.280291</td>\n",
       "    </tr>\n",
       "  </tbody>\n",
       "</table>\n",
       "<p>303 rows × 3 columns</p>\n",
       "</div>"
      ],
      "text/plain": [
       "       y_pred    y_real  variance\n",
       "0    3.370590  2.977298  0.090482\n",
       "1    3.113509  3.053144  0.095061\n",
       "2    3.767004  3.392007  0.103414\n",
       "3    2.953115  3.515237  0.117086\n",
       "4    3.886057  3.521885  0.119541\n",
       "..        ...       ...       ...\n",
       "298  8.958608  8.658302  0.285906\n",
       "299  8.721247  8.697102  0.271274\n",
       "300  7.853872  8.707878  0.269590\n",
       "301  8.698970  8.912098  0.288108\n",
       "302  8.698970  9.564557  0.280291\n",
       "\n",
       "[303 rows x 3 columns]"
      ]
     },
     "execution_count": 45,
     "metadata": {},
     "output_type": "execute_result"
    }
   ],
   "source": [
    "df = pd.DataFrame({\n",
    "      \"y_pred\": [],\n",
    "      'y_real':[],\n",
    "      'variance':[],\n",
    "      })\n",
    "for fingerprint, label in test_loader:\n",
    "      fingerprint = fingerprint.to(device)\n",
    "      samples = 100\n",
    "      model.train()\n",
    "      preds = [model(fingerprint) for i in range(samples)]\n",
    "      preds = torch.stack(preds)\n",
    "      preds = preds.cpu()\n",
    "      means = preds.mean(axis=0).detach().numpy()\n",
    "      stds =  preds.std(axis=0).detach().numpy()\n",
    "      label = label.detach().numpy()\n",
    "      means, stds\n",
    "      y_vals = [label, means, stds]\n",
    "      data = {\n",
    "            \"y_pred\": list(y_vals[0].squeeze()),\n",
    "            'y_real': list(y_vals[1].squeeze()),\n",
    "            \"variance\": list(y_vals[2].squeeze())\n",
    "            }\n",
    "      data = pd.DataFrame(data)\n",
    "      df = df.append(pd.DataFrame(data))\n",
    "df = df.sort_values('y_real').reset_index(drop=True)\n",
    "df"
   ]
  },
  {
   "cell_type": "code",
   "execution_count": 46,
   "metadata": {},
   "outputs": [
    {
     "data": {
      "image/png": "[encoded data removed]",
      "text/plain": [
       "<Figure size 432x288 with 2 Axes>"
      ]
     },
     "metadata": {
      "needs_background": "light"
     },
     "output_type": "display_data"
    }
   ],
   "source": [
    "import matplotlib.pyplot as plt\n",
    "import numpy as np\n",
    "\n",
    "# Generate data...\n",
    "x = df[\"y_real\"]\n",
    "y = df[\"y_pred\"]\n",
    "color = df['variance']\n",
    "plt.plot(np.unique(x), np.poly1d(np.polyfit(x, y, 1))(np.unique(x)))\n",
    "\n",
    "sc = plt.scatter(x, y, c=color, s=10, cmap='magma')\n",
    "cbar = plt.colorbar(sc)\n",
    "cbar.set_label('Predicted Variance')\n",
    "plt.xlabel('True pIC50')\n",
    "plt.ylabel('Predicted pIC50')\n",
    "plt.title('MC Dropout Predicted Values against True Values')\n",
    "plt.clim(0, 0.5) \n",
    "plt.savefig('/home/rajeckidoyle/Documents/Classification/BACE_Classification/regressionandunccertainty/results/ground_truth/pvtMCDO.jpeg', bbox_inches = 'tight', dpi=300)"
   ]
  },
  {
   "cell_type": "code",
   "execution_count": 47,
   "metadata": {},
   "outputs": [
    {
     "data": {
      "image/png": "[encoded data removed]",
      "text/plain": [
       "<Figure size 432x288 with 1 Axes>"
      ]
     },
     "metadata": {
      "needs_background": "light"
     },
     "output_type": "display_data"
    }
   ],
   "source": [
    "x = abs(df['y_pred']-6.5)\n",
    "y = df['variance']\n",
    "\n",
    "plt.scatter(x,y, s=10)\n",
    "plt.plot(np.unique(x), np.poly1d(np.polyfit(x, y, 1))(np.unique(x)), c='r')\n",
    "plt.xlabel('Distance from Train Median')\n",
    "plt.ylabel('Predicted Variance')\n",
    "plt.title('Predicted Variance against Distance from Median')\n",
    "plt.savefig('/home/rajeckidoyle/Documents/Classification/BACE_Classification/regressionandunccertainty/results/ground_truth/varvtMCDO.jpeg', bbox_inches = 'tight', dpi=300)"
   ]
  },
  {
   "cell_type": "code",
   "execution_count": 48,
   "metadata": {},
   "outputs": [],
   "source": [
    "df['y_pred_dist'] = abs(df['y_pred']-6.5)"
   ]
  },
  {
   "cell_type": "code",
   "execution_count": 49,
   "metadata": {},
   "outputs": [
    {
     "data": {
      "image/png": "[encoded data removed]",
      "text/plain": [
       "<Figure size 648x360 with 1 Axes>"
      ]
     },
     "metadata": {
      "needs_background": "light"
     },
     "output_type": "display_data"
    }
   ],
   "source": [
    "import matplotlib.pyplot as plt\n",
    "\n",
    "df = df.sort_values('y_pred').reset_index(drop=True)\n",
    "\n",
    "x = df.index\n",
    "# Compute upper and lower bounds using chosen uncertainty measure: here\n",
    "# it is a fraction of the standard deviation of measurements at each\n",
    "# time point based on the unbiased sample variance\n",
    "mu = df['y_pred']\n",
    "error = 2*(df['variance']**0.5)\n",
    "lower = mu - error\n",
    "upper = mu + error\n",
    "\n",
    "# Draw plot with error band and extra formatting to match seaborn style\n",
    "fig, ax = plt.subplots(figsize=(9,5))\n",
    "ax.scatter(x, df['y_real'], label='pred mean', color='g', s=1)\n",
    "ax.plot(x, mu, label='pred mean')\n",
    "ax.plot(x, lower, color='tab:blue', alpha=0.1)\n",
    "ax.plot(x, upper, color='tab:blue', alpha=0.1)\n",
    "ax.fill_between(x, lower, upper, alpha=0.2)\n",
    "ax.set_xlabel('index')\n",
    "ax.set_ylabel('pIC50')\n",
    "ax.spines['top'].set_visible(False)\n",
    "ax.spines['right'].set_visible(False)\n",
    "plt.title('MCDO Predictions with Error Bars')\n",
    "plt.savefig('/home/rajeckidoyle/Documents/Classification/BACE_Classification/regressionandunccertainty/results/ground_truth/MCDOerrbar.jpeg', bbox_inches = 'tight', dpi=300)"
   ]
  },
  {
   "cell_type": "code",
   "execution_count": 50,
   "metadata": {},
   "outputs": [
    {
     "data": {
      "text/html": [
       "<div>\n",
       "<style scoped>\n",
       "    .dataframe tbody tr th:only-of-type {\n",
       "        vertical-align: middle;\n",
       "    }\n",
       "\n",
       "    .dataframe tbody tr th {\n",
       "        vertical-align: top;\n",
       "    }\n",
       "\n",
       "    .dataframe thead th {\n",
       "        text-align: right;\n",
       "    }\n",
       "</style>\n",
       "<table border=\"1\" class=\"dataframe\">\n",
       "  <thead>\n",
       "    <tr style=\"text-align: right;\">\n",
       "      <th></th>\n",
       "      <th>Mean Square Error</th>\n",
       "      <th>Spearman</th>\n",
       "      <th>Pearson</th>\n",
       "      <th>R</th>\n",
       "      <th>Variance Rho</th>\n",
       "    </tr>\n",
       "  </thead>\n",
       "  <tbody>\n",
       "    <tr>\n",
       "      <th>0</th>\n",
       "      <td>0.486165</td>\n",
       "      <td>0.845231</td>\n",
       "      <td>0.869632</td>\n",
       "      <td>0.714605</td>\n",
       "      <td>-0.332255</td>\n",
       "    </tr>\n",
       "  </tbody>\n",
       "</table>\n",
       "</div>"
      ],
      "text/plain": [
       "   Mean Square Error  Spearman   Pearson         R  Variance Rho\n",
       "0           0.486165  0.845231  0.869632  0.714605     -0.332255"
      ]
     },
     "execution_count": 50,
     "metadata": {},
     "output_type": "execute_result"
    }
   ],
   "source": [
    "from sklearn import metrics\n",
    "from scipy.stats import stats\n",
    "df['y_pred_dist'] = abs(df['y_pred']-6.5)\n",
    "\n",
    "def get_results(df):\n",
    "    mse = metrics.mean_squared_error(df[\"y_real\"],df[\"y_pred\"])\n",
    "    sc = stats.spearmanr(df[\"y_real\"],df[\"y_pred\"])[0]\n",
    "    pc = np.corrcoef(df['y_real'],df['y_pred'])[0,1]\n",
    "    r = metrics.r2_score(df[\"y_real\"],df[\"y_pred\"])\n",
    "    varcorr = np.corrcoef(df['y_pred_dist'], df['variance'])[0,1]\n",
    "\n",
    "    results = {\n",
    "        'Mean Square Error':mse,\n",
    "        'Spearman':sc,\n",
    "        'Pearson':pc,\n",
    "        'R':r,\n",
    "        'Variance Rho': varcorr,\n",
    "    }\n",
    "    results_df = pd.DataFrame([results])\n",
    "    return results_df\n",
    "\n",
    "get_results(df).to_csv('/home/rajeckidoyle/Documents/Classification/BACE_Classification/regressionandunccertainty/results/ground_truth/MCDOresults.csv')\n",
    "get_results(df)"
   ]
  }
 ],
 "metadata": {
  "interpreter": {
   "hash": "c4e88f5f6f0c037f170d8b5f2f59d1377880a8e4b384253995bdaa7b6b72e05d"
  },
  "kernelspec": {
   "display_name": "Python 3.8.12 ('my_torch_geometric')",
   "language": "python",
   "name": "python3"
  },
  "language_info": {
   "codemirror_mode": {
    "name": "ipython",
    "version": 3
   },
   "file_extension": ".py",
   "mimetype": "text/x-python",
   "name": "python",
   "nbconvert_exporter": "python",
   "pygments_lexer": "ipython3",
   "version": "3.8.12"
  },
  "orig_nbformat": 4
 },
 "nbformat": 4,
 "nbformat_minor": 2
}
