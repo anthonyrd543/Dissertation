{
 "cells": [
  {
   "cell_type": "code",
   "execution_count": 1,
   "metadata": {},
   "outputs": [],
   "source": [
    "from torch_geometric.datasets import MoleculeNet\n",
    "import torch\n",
    "import numpy as np"
   ]
  },
  {
   "cell_type": "markdown",
   "metadata": {},
   "source": [
    "## Import Dataset"
   ]
  },
  {
   "cell_type": "code",
   "execution_count": 2,
   "metadata": {},
   "outputs": [],
   "source": [
    "import torchvision\n",
    "from torch.utils.data import Dataset, DataLoader\n",
    "import numpy as np\n",
    "import math\n",
    "\n",
    "class FingerprintDataset(Dataset):\n",
    "    def __init__(self,split):\n",
    "        # Initialize data, download, etc.\n",
    "        # read with numpy or pandas\n",
    "        xy = np.loadtxt(f'./fingerprints/bace_fingerprints_reg_ale_{split}.csv', delimiter=',', dtype=np.float32, skiprows=1)\n",
    "\n",
    "        self.x = torch.from_numpy(xy[:,1:])\n",
    "        self.y = torch.from_numpy(xy[:,[0]])\n",
    "        self.n_samples = xy.shape[0]\n",
    "\n",
    "    # support indexing such that dataset[i] can be used to get i-th sample\n",
    "    def __getitem__(self, index):\n",
    "        return self.x[index], self.y[index]\n",
    "\n",
    "    # we can call len(dataset) to return the size\n",
    "    def __len__(self):\n",
    "        return self.n_samples"
   ]
  },
  {
   "cell_type": "code",
   "execution_count": 3,
   "metadata": {},
   "outputs": [],
   "source": [
    "data = FingerprintDataset()"
   ]
  },
  {
   "cell_type": "code",
   "execution_count": 4,
   "metadata": {},
   "outputs": [],
   "source": [
    "#Specify device\n",
    "device = torch.device(\"cuda:1\" if torch.cuda.is_available() else \"cpu\")"
   ]
  },
  {
   "cell_type": "markdown",
   "metadata": {},
   "source": [
    "## Set Hyperparameters"
   ]
  },
  {
   "cell_type": "code",
   "execution_count": 5,
   "metadata": {},
   "outputs": [],
   "source": [
    "import best_config\n",
    "\n",
    "no_of_epochs = best_config.GLOBALPARAMETERS['no_of_epochs']\n",
    "train_size = best_config.GLOBALPARAMETERS['train_size']\n",
    "valid_size = best_config.GLOBALPARAMETERS['valid_size']"
   ]
  },
  {
   "cell_type": "code",
   "execution_count": 6,
   "metadata": {},
   "outputs": [],
   "source": [
    "#Get Model Parameters\n",
    "hyperparameters = eval('best_config.'+best_config.GLOBALPARAMETERS['model_this_run']+'_HYPERPARAMETERS')\n",
    "\n",
    "model_params = hyperparameters\n",
    "model_params['feature_size'] = data.x.shape[1]"
   ]
  },
  {
   "cell_type": "markdown",
   "metadata": {},
   "source": [
    "## Define Model"
   ]
  },
  {
   "cell_type": "code",
   "execution_count": 7,
   "metadata": {},
   "outputs": [],
   "source": [
    "def count_parameters(model):\n",
    "    return sum(p.numel() for p in model.parameters() if p.requires_grad)"
   ]
  },
  {
   "cell_type": "code",
   "execution_count": 8,
   "metadata": {},
   "outputs": [
    {
     "data": {
      "text/plain": [
       "{'has_edge_info': False,\n",
       " 'batch_size': 16,\n",
       " 'learning_rate': 0.0002007339899573065,\n",
       " 'model_layers': 2,\n",
       " 'model_embedding_size': 256,\n",
       " 'model_dense_neurons': 256,\n",
       " 'model_linear_dropout_rate': 0.052950804012409605,\n",
       " 'model_embedding_dropout_rate': 0.1591852948412082,\n",
       " 'feature_size': 1016}"
      ]
     },
     "execution_count": 8,
     "metadata": {},
     "output_type": "execute_result"
    }
   ],
   "source": [
    "model_params"
   ]
  },
  {
   "cell_type": "code",
   "execution_count": 21,
   "metadata": {},
   "outputs": [
    {
     "name": "stdout",
     "output_type": "stream",
     "text": [
      "Loading model...\n",
      "MLP_REGRESSION(\n",
      "  (conv_layers): ModuleList(\n",
      "    (0): Linear(in_features=256, out_features=256, bias=True)\n",
      "  )\n",
      "  (bn_layers): ModuleList(\n",
      "    (0): BatchNorm1d(256, eps=1e-05, momentum=0.1, affine=True, track_running_stats=True)\n",
      "  )\n",
      "  (initial_conv): Linear(in_features=1016, out_features=256, bias=True)\n",
      "  (embedding_dropout): Dropout(p=0.1591852948412082, inplace=False)\n",
      "  (linear_dropout): Dropout(p=0.052950804012409605, inplace=False)\n",
      "  (linear): Linear(in_features=256, out_features=256, bias=True)\n",
      "  (out): Linear(in_features=256, out_features=1, bias=True)\n",
      ")\n",
      "392705\n"
     ]
    }
   ],
   "source": [
    "import models\n",
    "print(\"Loading model...\")\n",
    "\n",
    "#Create instance of model\n",
    "model = eval('models.'+best_config.GLOBALPARAMETERS['model_this_run']+'(model_params)')\n",
    "print(model)\n",
    "print(count_parameters(model))"
   ]
  },
  {
   "cell_type": "code",
   "execution_count": 22,
   "metadata": {},
   "outputs": [],
   "source": [
    "model = model.to(device)"
   ]
  },
  {
   "cell_type": "code",
   "execution_count": 11,
   "metadata": {},
   "outputs": [],
   "source": [
    "from torch.utils.data import DataLoader\n",
    "import warnings\n",
    "warnings.filterwarnings(\"ignore\")\n",
    "\n",
    "# Root mean squared error\n",
    "loss_fn = torch.nn.MSELoss()\n",
    "optimizer = torch.optim.Adam(model.parameters(), lr=0.007)  \n",
    "\n",
    "train = int(train_size * len(data))\n",
    "valid = int(valid_size * len(data))\n",
    "test = len(data) - train - valid\n",
    "train_dataset, valid_dataset, test_dataset = torch.utils.data.random_split(data, [train, valid, test])\n",
    "\n",
    "NUM_FINGERPRINTS_PER_BATCH = model_params['batch_size']\n",
    "train_loader = DataLoader(train_dataset, \n",
    "                    batch_size=NUM_FINGERPRINTS_PER_BATCH, shuffle=True)\n",
    "valid_loader = DataLoader(valid_dataset, \n",
    "                    batch_size=NUM_FINGERPRINTS_PER_BATCH, shuffle=True)\n",
    "test_loader = DataLoader(test_dataset, \n",
    "                    batch_size=NUM_FINGERPRINTS_PER_BATCH, shuffle=True)"
   ]
  },
  {
   "cell_type": "markdown",
   "metadata": {},
   "source": [
    "## Training Loop"
   ]
  },
  {
   "cell_type": "code",
   "execution_count": 12,
   "metadata": {},
   "outputs": [],
   "source": [
    "class Engine:\n",
    "    def __init__(self, model, model_params, optimizer, device):\n",
    "        self.model = model\n",
    "        self.model_params = model_params\n",
    "        self.optimizer = optimizer\n",
    "        self.device = device\n",
    "        self.loss_fn = torch.nn.MSELoss()\n",
    "\n",
    "    def train(self, loader):\n",
    "        self.model.train()\n",
    "        # Enumerate over the data\n",
    "        final_loss = 0\n",
    "        for i, (fingerprint, labels) in enumerate(loader):\n",
    "            self.optimizer.zero_grad()  \n",
    "            fingerprint = fingerprint.to(self.device)\n",
    "            labels = labels.to(self.device)\n",
    "            # Forward pass\n",
    "            outputs = self.model(fingerprint)\n",
    "            loss = self.loss_fn(outputs, labels)\n",
    "            # Backward and optimize\n",
    "            final_loss += loss.item()\n",
    "            loss.backward()\n",
    "            self.optimizer.step() \n",
    "        return final_loss / len(loader)\n",
    "    \n",
    "    def evaluate(self, loader):\n",
    "            self.model.eval()\n",
    "            # Enumerate over the data\n",
    "            final_loss = 0\n",
    "            for i, (fingerprint, labels) in enumerate(loader):  \n",
    "                fingerprint = fingerprint.to(self.device)\n",
    "                labels = labels.to(self.device)\n",
    "                # Forward pass\n",
    "                outputs = self.model(fingerprint)\n",
    "                loss = self.loss_fn(outputs, labels)\n",
    "                final_loss += loss.item()\n",
    "            return final_loss / len(loader)"
   ]
  },
  {
   "cell_type": "code",
   "execution_count": 23,
   "metadata": {},
   "outputs": [
    {
     "name": "stdout",
     "output_type": "stream",
     "text": [
      "Starting training...\n",
      "Epoch 0 | Train Loss 39.24533738761112 | Valid Loss 22.291720817829\n",
      "Epoch 10 | Train Loss 0.33278132307118385 | Valid Loss 0.6388765481011621\n",
      "Epoch 20 | Train Loss 0.1599465400494378 | Valid Loss 0.7147385873671236\n",
      "Epoch 30 | Train Loss 0.13122887421270896 | Valid Loss 0.7150231445657795\n",
      "Epoch 40 | Train Loss 0.10382089339967432 | Valid Loss 0.7287509837027254\n",
      "Epoch 50 | Train Loss 0.10457871655194924 | Valid Loss 0.7549272220710228\n",
      "Epoch 60 | Train Loss 0.11774768641796605 | Valid Loss 0.7831422737960158\n",
      "Epoch 70 | Train Loss 0.10718968433552775 | Valid Loss 0.7789111455966686\n",
      "Epoch 80 | Train Loss 0.08746786685339336 | Valid Loss 0.7536397504395452\n",
      "Epoch 90 | Train Loss 0.1095028362911323 | Valid Loss 0.7707150074942358\n",
      "Epoch 100 | Train Loss 0.09162365876395127 | Valid Loss 0.7277672966492588\n",
      "Epoch 110 | Train Loss 0.07901122819246917 | Valid Loss 0.7390290231540285\n",
      "Epoch 120 | Train Loss 0.09550573265758054 | Valid Loss 0.7739702493980013\n",
      "Epoch 130 | Train Loss 0.10987045859982228 | Valid Loss 0.7416144979411158\n",
      "Epoch 140 | Train Loss 0.09704765163618943 | Valid Loss 0.7609412700965487\n",
      "Epoch 150 | Train Loss 0.08086802691606612 | Valid Loss 0.7585851159589044\n",
      "Epoch 160 | Train Loss 0.11488661324155741 | Valid Loss 0.7669456631972872\n",
      "Epoch 170 | Train Loss 0.08230461841770287 | Valid Loss 0.7699579421816201\n",
      "Epoch 180 | Train Loss 0.09092758621635108 | Valid Loss 0.7479316838856401\n",
      "Epoch 190 | Train Loss 0.08974429117194538 | Valid Loss 0.7956311373875059\n"
     ]
    }
   ],
   "source": [
    "optimizer = torch.optim.Adam(model.parameters(), lr=model_params['learning_rate'])  \n",
    "\n",
    "eng = Engine(model, model_params, optimizer, device)\n",
    "\n",
    "print(\"Starting training...\")\n",
    "losses = []\n",
    "for epoch in range(no_of_epochs):\n",
    "    loss = eng.train(train_loader)\n",
    "    val_loss = eng.evaluate(valid_loader)\n",
    "    losses.append(loss)\n",
    "    if epoch % 10 == 0:\n",
    "        print(f\"Epoch {epoch} | Train Loss {loss} | Valid Loss {val_loss}\")"
   ]
  },
  {
   "cell_type": "markdown",
   "metadata": {},
   "source": [
    "## Evaluate on the Test Set"
   ]
  },
  {
   "cell_type": "code",
   "execution_count": 24,
   "metadata": {},
   "outputs": [
    {
     "data": {
      "text/html": [
       "<div>\n",
       "<style scoped>\n",
       "    .dataframe tbody tr th:only-of-type {\n",
       "        vertical-align: middle;\n",
       "    }\n",
       "\n",
       "    .dataframe tbody tr th {\n",
       "        vertical-align: top;\n",
       "    }\n",
       "\n",
       "    .dataframe thead th {\n",
       "        text-align: right;\n",
       "    }\n",
       "</style>\n",
       "<table border=\"1\" class=\"dataframe\">\n",
       "  <thead>\n",
       "    <tr style=\"text-align: right;\">\n",
       "      <th></th>\n",
       "      <th>y_pred</th>\n",
       "      <th>y_real</th>\n",
       "    </tr>\n",
       "  </thead>\n",
       "  <tbody>\n",
       "    <tr>\n",
       "      <th>0</th>\n",
       "      <td>4.940637</td>\n",
       "      <td>4.517127</td>\n",
       "    </tr>\n",
       "    <tr>\n",
       "      <th>1</th>\n",
       "      <td>7.685897</td>\n",
       "      <td>7.283997</td>\n",
       "    </tr>\n",
       "    <tr>\n",
       "      <th>2</th>\n",
       "      <td>7.508466</td>\n",
       "      <td>8.508638</td>\n",
       "    </tr>\n",
       "    <tr>\n",
       "      <th>3</th>\n",
       "      <td>6.024779</td>\n",
       "      <td>6.200659</td>\n",
       "    </tr>\n",
       "    <tr>\n",
       "      <th>4</th>\n",
       "      <td>4.669238</td>\n",
       "      <td>4.273273</td>\n",
       "    </tr>\n",
       "    <tr>\n",
       "      <th>...</th>\n",
       "      <td>...</td>\n",
       "      <td>...</td>\n",
       "    </tr>\n",
       "    <tr>\n",
       "      <th>602</th>\n",
       "      <td>4.404504</td>\n",
       "      <td>6.089910</td>\n",
       "    </tr>\n",
       "    <tr>\n",
       "      <th>603</th>\n",
       "      <td>6.887865</td>\n",
       "      <td>7.216096</td>\n",
       "    </tr>\n",
       "    <tr>\n",
       "      <th>604</th>\n",
       "      <td>6.636211</td>\n",
       "      <td>6.838632</td>\n",
       "    </tr>\n",
       "    <tr>\n",
       "      <th>605</th>\n",
       "      <td>3.511655</td>\n",
       "      <td>4.721246</td>\n",
       "    </tr>\n",
       "    <tr>\n",
       "      <th>606</th>\n",
       "      <td>5.611599</td>\n",
       "      <td>5.958607</td>\n",
       "    </tr>\n",
       "  </tbody>\n",
       "</table>\n",
       "<p>607 rows × 2 columns</p>\n",
       "</div>"
      ],
      "text/plain": [
       "       y_pred    y_real\n",
       "0    4.940637  4.517127\n",
       "1    7.685897  7.283997\n",
       "2    7.508466  8.508638\n",
       "3    6.024779  6.200659\n",
       "4    4.669238  4.273273\n",
       "..        ...       ...\n",
       "602  4.404504  6.089910\n",
       "603  6.887865  7.216096\n",
       "604  6.636211  6.838632\n",
       "605  3.511655  4.721246\n",
       "606  5.611599  5.958607\n",
       "\n",
       "[607 rows x 2 columns]"
      ]
     },
     "execution_count": 24,
     "metadata": {},
     "output_type": "execute_result"
    }
   ],
   "source": [
    "import pandas as pd \n",
    "model.eval()\n",
    "true_values = []\n",
    "predictions = []\n",
    "with torch.no_grad():\n",
    "    n_correct = 0\n",
    "    n_samples = 0\n",
    "    for fingerprint, labels in test_loader:\n",
    "        fingerprint = fingerprint.to(device)\n",
    "        labels = labels.to(device)\n",
    "        output = model(fingerprint)\n",
    "        true_values += labels.tolist()\n",
    "        predictions += output.tolist()\n",
    "df = pd.DataFrame({'y_pred':predictions,'y_real':true_values})\n",
    "df = df.applymap(lambda x : x[0])\n",
    "df"
   ]
  },
  {
   "cell_type": "markdown",
   "metadata": {},
   "source": [
    "## Model Evaluation"
   ]
  },
  {
   "cell_type": "code",
   "execution_count": 25,
   "metadata": {},
   "outputs": [],
   "source": [
    "from sklearn import metrics"
   ]
  },
  {
   "cell_type": "code",
   "execution_count": 26,
   "metadata": {},
   "outputs": [
    {
     "name": "stdout",
     "output_type": "stream",
     "text": [
      "0.7310768272508715 0.6659203266979639 0.6051962904620835\n"
     ]
    }
   ],
   "source": [
    "mse = metrics.mean_squared_error(df[\"y_real\"],df[\"y_pred\"])\n",
    "mae = metrics.mean_absolute_error(df[\"y_real\"],df[\"y_pred\"])\n",
    "r = metrics.r2_score(df[\"y_real\"],df[\"y_pred\"])\n",
    "\n",
    "print(mse, mae, r)"
   ]
  },
  {
   "cell_type": "code",
   "execution_count": 27,
   "metadata": {},
   "outputs": [
    {
     "data": {
      "text/plain": [
       "<AxesSubplot:xlabel='y_pred', ylabel='y_real'>"
      ]
     },
     "execution_count": 27,
     "metadata": {},
     "output_type": "execute_result"
    },
    {
     "data": {
      "image/png": "[encoded data removed]",
      "text/plain": [
       "<Figure size 432x288 with 1 Axes>"
      ]
     },
     "metadata": {
      "needs_background": "light"
     },
     "output_type": "display_data"
    }
   ],
   "source": [
    "df.plot.scatter(x='y_pred',y='y_real')"
   ]
  },
  {
   "cell_type": "code",
   "execution_count": 28,
   "metadata": {},
   "outputs": [
    {
     "data": {
      "text/plain": [
       "0.801521830980872"
      ]
     },
     "execution_count": 28,
     "metadata": {},
     "output_type": "execute_result"
    }
   ],
   "source": [
    "rho = np.corrcoef(df['y_real'],df['y_pred'])[0,1]\n",
    "rho"
   ]
  },
  {
   "cell_type": "code",
   "execution_count": 29,
   "metadata": {},
   "outputs": [
    {
     "data": {
      "text/plain": [
       "<matplotlib.collections.PathCollection at 0x7f1380c5cac0>"
      ]
     },
     "execution_count": 29,
     "metadata": {},
     "output_type": "execute_result"
    },
    {
     "data": {
      "image/png": "[encoded data removed]",
      "text/plain": [
       "<Figure size 432x288 with 1 Axes>"
      ]
     },
     "metadata": {
      "needs_background": "light"
     },
     "output_type": "display_data"
    }
   ],
   "source": [
    "import matplotlib.pyplot as plt\n",
    "\n",
    "sorted_data = df.sort_values('y_real')\n",
    "\n",
    "index = [i for i in range(len(df))]\n",
    "plt.plot(index, sorted_data['y_real'])\n",
    "plt.scatter(index, sorted_data['y_pred'], s=1)"
   ]
  }
 ],
 "metadata": {
  "interpreter": {
   "hash": "c4e88f5f6f0c037f170d8b5f2f59d1377880a8e4b384253995bdaa7b6b72e05d"
  },
  "kernelspec": {
   "display_name": "Python 3.8.12 ('my_torch_geometric')",
   "language": "python",
   "name": "python3"
  },
  "language_info": {
   "codemirror_mode": {
    "name": "ipython",
    "version": 3
   },
   "file_extension": ".py",
   "mimetype": "text/x-python",
   "name": "python",
   "nbconvert_exporter": "python",
   "pygments_lexer": "ipython3",
   "version": "3.8.12"
  },
  "orig_nbformat": 4
 },
 "nbformat": 4,
 "nbformat_minor": 2
}
