{
 "cells": [
  {
   "cell_type": "code",
   "execution_count": 2,
   "metadata": {},
   "outputs": [],
   "source": [
    "from torch_geometric.datasets import MoleculeNet\n",
    "import torch\n",
    "import numpy as np\n",
    "import pandas as pd\n",
    "import matplotlib.pyplot as plt"
   ]
  },
  {
   "cell_type": "markdown",
   "metadata": {},
   "source": [
    "## Import Dataset"
   ]
  },
  {
   "cell_type": "code",
   "execution_count": 3,
   "metadata": {},
   "outputs": [],
   "source": [
    "import torchvision\n",
    "from torch.utils.data import Dataset, DataLoader\n",
    "import numpy as np\n",
    "import math\n",
    "\n",
    "class FingerprintDataset(Dataset):\n",
    "    def __init__(self,split):\n",
    "        # Initialize data, download, etc.\n",
    "        # read with numpy or pandas\n",
    "        xy = np.loadtxt(f'./fingerprints/bace_fingerprints_reg_epi_{split}.csv', delimiter=',', dtype=np.float32, skiprows=1)\n",
    "\n",
    "        self.x = torch.from_numpy(xy[:,1:])\n",
    "        self.y = torch.from_numpy(xy[:,[0]])\n",
    "        self.n_samples = xy.shape[0]\n",
    "\n",
    "    # support indexing such that dataset[i] can be used to get i-th sample\n",
    "    def __getitem__(self, index):\n",
    "        return self.x[index], self.y[index]\n",
    "\n",
    "    # we can call len(dataset) to return the size\n",
    "    def __len__(self):\n",
    "        return self.n_samples"
   ]
  },
  {
   "cell_type": "code",
   "execution_count": 4,
   "metadata": {},
   "outputs": [],
   "source": [
    "train_dataset = FingerprintDataset(split='train')\n",
    "test_dataset = FingerprintDataset(split='test')"
   ]
  },
  {
   "cell_type": "code",
   "execution_count": 5,
   "metadata": {},
   "outputs": [],
   "source": [
    "#Specify device\n",
    "device = torch.device(\"cuda:1\" if torch.cuda.is_available() else \"cpu\")"
   ]
  },
  {
   "cell_type": "markdown",
   "metadata": {},
   "source": [
    "## Set Hyperparameters"
   ]
  },
  {
   "cell_type": "code",
   "execution_count": 6,
   "metadata": {},
   "outputs": [],
   "source": [
    "import best_config\n",
    "\n",
    "no_of_epochs = best_config.GLOBALPARAMETERS['no_of_epochs']\n",
    "train_size = best_config.GLOBALPARAMETERS['train_size']\n",
    "valid_size = best_config.GLOBALPARAMETERS['valid_size']"
   ]
  },
  {
   "cell_type": "code",
   "execution_count": 7,
   "metadata": {},
   "outputs": [],
   "source": [
    "#Get Model Parameters\n",
    "hyperparameters = eval('best_config.'+'MLP_DE'+'_HYPERPARAMETERS')\n",
    "\n",
    "model_params = hyperparameters\n",
    "model_params['feature_size'] = train_dataset.x.shape[1]"
   ]
  },
  {
   "cell_type": "markdown",
   "metadata": {},
   "source": [
    "## Define Model"
   ]
  },
  {
   "cell_type": "code",
   "execution_count": 8,
   "metadata": {},
   "outputs": [],
   "source": [
    "def count_parameters(model):\n",
    "    return sum(p.numel() for p in model.parameters() if p.requires_grad)"
   ]
  },
  {
   "cell_type": "code",
   "execution_count": 9,
   "metadata": {},
   "outputs": [
    {
     "data": {
      "text/plain": [
       "{'has_edge_info': False,\n",
       " 'batch_size': 16,\n",
       " 'learning_rate': 0.000933,\n",
       " 'model_layers': 2,\n",
       " 'model_embedding_size': 256,\n",
       " 'model_dense_neurons': 64,\n",
       " 'model_linear_dropout_rate': 0.0598,\n",
       " 'model_embedding_dropout_rate': 0.0114,\n",
       " 'no_of_models': 5,\n",
       " 'feature_size': 1024}"
      ]
     },
     "execution_count": 9,
     "metadata": {},
     "output_type": "execute_result"
    }
   ],
   "source": [
    "model_params"
   ]
  },
  {
   "cell_type": "code",
   "execution_count": 10,
   "metadata": {},
   "outputs": [],
   "source": [
    "from torch.utils.data import DataLoader\n",
    "import warnings\n",
    "warnings.filterwarnings(\"ignore\")\n",
    "\n",
    "# Root mean squared error\n",
    "loss_fn = torch.nn.MSELoss()  \n",
    "\n",
    "NUM_FINGERPRINTS_PER_BATCH = model_params['batch_size']\n",
    "train_loader = DataLoader(train_dataset, \n",
    "                    batch_size=NUM_FINGERPRINTS_PER_BATCH, shuffle=True)\n",
    "test_loader = DataLoader(test_dataset, \n",
    "                    batch_size=NUM_FINGERPRINTS_PER_BATCH, shuffle=True)"
   ]
  },
  {
   "cell_type": "markdown",
   "metadata": {},
   "source": [
    "## Training Loop"
   ]
  },
  {
   "cell_type": "code",
   "execution_count": 11,
   "metadata": {},
   "outputs": [
    {
     "name": "stdout",
     "output_type": "stream",
     "text": [
      "Loading model...\n"
     ]
    }
   ],
   "source": [
    "num_models = model_params['no_of_models']\n",
    "\n",
    "import models\n",
    "print(\"Loading model...\")\n",
    "\n",
    "#Create instance of model\n",
    "deep_ensemble = []\n",
    "\n",
    "for i in range(num_models):\n",
    "    model = eval('models.'+best_config.GLOBALPARAMETERS['model_this_run']+'(model_params)')\n",
    "    model.to(device)\n",
    "    deep_ensemble.append(model)"
   ]
  },
  {
   "cell_type": "code",
   "execution_count": 12,
   "metadata": {},
   "outputs": [
    {
     "name": "stdout",
     "output_type": "stream",
     "text": [
      "Starting training...\n",
      "Epoch 0 | Train Loss 4.724811135781444\n",
      "Epoch 10 | Train Loss 0.35779501487697024\n",
      "Epoch 20 | Train Loss 0.0728457707029424\n",
      "Epoch 30 | Train Loss -0.06082208049483597\n",
      "Epoch 40 | Train Loss -0.15814426399669373\n",
      "Epoch 50 | Train Loss -0.20692661192366169\n",
      "Epoch 60 | Train Loss -0.2525382684543729\n",
      "Epoch 70 | Train Loss -0.30858376167322465\n",
      "Epoch 80 | Train Loss -0.3391117286035105\n",
      "Epoch 90 | Train Loss -0.355665484472717\n",
      "Epoch 100 | Train Loss -0.3813647880660075\n",
      "Epoch 110 | Train Loss -0.3934222064618216\n",
      "Epoch 120 | Train Loss -0.4232038240830757\n",
      "Epoch 130 | Train Loss -0.41331172210997663\n",
      "Epoch 140 | Train Loss -0.46749984100461006\n",
      "Epoch 150 | Train Loss -0.4527262987838567\n",
      "Epoch 160 | Train Loss -0.4632832486574589\n",
      "Epoch 170 | Train Loss -0.5263130939222481\n",
      "Epoch 180 | Train Loss -0.523745711686972\n",
      "Epoch 190 | Train Loss -0.5586024829235517\n"
     ]
    }
   ],
   "source": [
    "optimizers = [torch.optim.Adam(m.parameters(), lr=model_params['learning_rate']) for m in deep_ensemble]\n",
    "\n",
    "loss_fn = torch.nn.GaussianNLLLoss(eps=1e-02)\n",
    "\n",
    "print(\"Starting training...\")\n",
    "for epoch in range(no_of_epochs):\n",
    "    batch_loss = 0\n",
    "    #train loop          \n",
    "    for j, (fingerprint, labels) in enumerate(train_loader):\n",
    "        fingerprint = fingerprint.to(device)\n",
    "        labels = labels.to(device)\n",
    "        mus = []\n",
    "        vars = []\n",
    "        ensemble_loss = 0\n",
    "        for i, model in enumerate(deep_ensemble):\n",
    "            model.train()\n",
    "            optimizers[i].zero_grad()\n",
    "            mu, var = model(fingerprint)\n",
    "            loss = loss_fn(mu, labels, var)\n",
    "            ensemble_loss += loss.item()\n",
    "\n",
    "            loss.backward()\n",
    "            optimizers[i].step()\n",
    "            \n",
    "            mus.append(mu)\n",
    "            vars.append(var)\n",
    "        mean_ensemble_loss = ensemble_loss / len(deep_ensemble)\n",
    "        batch_loss += mean_ensemble_loss\n",
    "    train_loss = batch_loss / len(train_loader)\n",
    "    '''\n",
    "    #validation loop\n",
    "    val_batch_loss = 0\n",
    "    for j, (fingerprint, labels) in enumerate(valid_loader):\n",
    "        fingerprint = fingerprint.to(device)\n",
    "        labels = labels.to(device)\n",
    "        val_losses = []\n",
    "        mus = []\n",
    "        vars = []\n",
    "        ensemble_loss = 0\n",
    "        for i, model in enumerate(deep_ensemble):\n",
    "            model = model.to(device)\n",
    "            model.eval()\n",
    "            mu, var = model(fingerprint)\n",
    "            loss = loss_fn(mu, labels, var)\n",
    "            ensemble_loss += loss.item()\n",
    "            \n",
    "            mus.append(mu)\n",
    "            vars.append(var)\n",
    "        mean_ensemble_loss = ensemble_loss / len(deep_ensemble)\n",
    "        val_batch_loss += mean_ensemble_loss\n",
    "    val_loss = val_batch_loss / len(valid_loader)'''\n",
    "\n",
    "\n",
    "\n",
    "    if epoch % 10 == 0:\n",
    "        print(f\"Epoch {epoch} | Train Loss {train_loss}\")"
   ]
  },
  {
   "cell_type": "markdown",
   "metadata": {},
   "source": [
    "## Evaluate on the Test Set"
   ]
  },
  {
   "cell_type": "code",
   "execution_count": 13,
   "metadata": {},
   "outputs": [
    {
     "data": {
      "text/html": [
       "<div>\n",
       "<style scoped>\n",
       "    .dataframe tbody tr th:only-of-type {\n",
       "        vertical-align: middle;\n",
       "    }\n",
       "\n",
       "    .dataframe tbody tr th {\n",
       "        vertical-align: top;\n",
       "    }\n",
       "\n",
       "    .dataframe thead th {\n",
       "        text-align: right;\n",
       "    }\n",
       "</style>\n",
       "<table border=\"1\" class=\"dataframe\">\n",
       "  <thead>\n",
       "    <tr style=\"text-align: right;\">\n",
       "      <th></th>\n",
       "      <th>y_pred</th>\n",
       "      <th>y_real</th>\n",
       "      <th>variance</th>\n",
       "    </tr>\n",
       "  </thead>\n",
       "  <tbody>\n",
       "    <tr>\n",
       "      <th>0</th>\n",
       "      <td>3.352617</td>\n",
       "      <td>3.826211</td>\n",
       "      <td>0.155310</td>\n",
       "    </tr>\n",
       "    <tr>\n",
       "      <th>1</th>\n",
       "      <td>3.603801</td>\n",
       "      <td>3.856649</td>\n",
       "      <td>0.203593</td>\n",
       "    </tr>\n",
       "    <tr>\n",
       "      <th>2</th>\n",
       "      <td>2.544546</td>\n",
       "      <td>3.901630</td>\n",
       "      <td>0.210650</td>\n",
       "    </tr>\n",
       "    <tr>\n",
       "      <th>3</th>\n",
       "      <td>3.370590</td>\n",
       "      <td>3.915434</td>\n",
       "      <td>0.211447</td>\n",
       "    </tr>\n",
       "    <tr>\n",
       "      <th>4</th>\n",
       "      <td>3.082494</td>\n",
       "      <td>3.974444</td>\n",
       "      <td>0.176841</td>\n",
       "    </tr>\n",
       "    <tr>\n",
       "      <th>...</th>\n",
       "      <td>...</td>\n",
       "      <td>...</td>\n",
       "      <td>...</td>\n",
       "    </tr>\n",
       "    <tr>\n",
       "      <th>298</th>\n",
       "      <td>8.161151</td>\n",
       "      <td>8.736588</td>\n",
       "      <td>0.175938</td>\n",
       "    </tr>\n",
       "    <tr>\n",
       "      <th>299</th>\n",
       "      <td>9.154902</td>\n",
       "      <td>9.044492</td>\n",
       "      <td>0.235949</td>\n",
       "    </tr>\n",
       "    <tr>\n",
       "      <th>300</th>\n",
       "      <td>8.698970</td>\n",
       "      <td>9.322044</td>\n",
       "      <td>0.376358</td>\n",
       "    </tr>\n",
       "    <tr>\n",
       "      <th>301</th>\n",
       "      <td>9.522879</td>\n",
       "      <td>11.335876</td>\n",
       "      <td>3.814221</td>\n",
       "    </tr>\n",
       "    <tr>\n",
       "      <th>302</th>\n",
       "      <td>10.522879</td>\n",
       "      <td>15.228255</td>\n",
       "      <td>8.640379</td>\n",
       "    </tr>\n",
       "  </tbody>\n",
       "</table>\n",
       "<p>303 rows × 3 columns</p>\n",
       "</div>"
      ],
      "text/plain": [
       "        y_pred     y_real  variance\n",
       "0     3.352617   3.826211  0.155310\n",
       "1     3.603801   3.856649  0.203593\n",
       "2     2.544546   3.901630  0.210650\n",
       "3     3.370590   3.915434  0.211447\n",
       "4     3.082494   3.974444  0.176841\n",
       "..         ...        ...       ...\n",
       "298   8.161151   8.736588  0.175938\n",
       "299   9.154902   9.044492  0.235949\n",
       "300   8.698970   9.322044  0.376358\n",
       "301   9.522879  11.335876  3.814221\n",
       "302  10.522879  15.228255  8.640379\n",
       "\n",
       "[303 rows x 3 columns]"
      ]
     },
     "execution_count": 13,
     "metadata": {},
     "output_type": "execute_result"
    }
   ],
   "source": [
    "df = pd.DataFrame({\n",
    "      \"y_pred\": [],\n",
    "      'y_real':[],\n",
    "      'variance':[],\n",
    "      })\n",
    "model.eval()\n",
    "with torch.no_grad():\n",
    "    test_batch_loss = 0\n",
    "    for fingerprint, labels in test_loader:\n",
    "        fingerprint = fingerprint.to(device)\n",
    "        labels = labels.to(device)\n",
    "        test_losses = []\n",
    "        mus = []\n",
    "        vars = []\n",
    "        ensemble_loss = 0\n",
    "        for i, model in enumerate(deep_ensemble):\n",
    "            model.eval()\n",
    "            mu, var = model(fingerprint)\n",
    "            loss = loss_fn(mu, labels, var)\n",
    "            ensemble_loss += loss.item()            \n",
    "            mus.append(mu)\n",
    "            vars.append(var)\n",
    "        mean_ensemble_loss = ensemble_loss / len(deep_ensemble)\n",
    "        test_batch_loss += mean_ensemble_loss\n",
    "        test_loss = test_batch_loss / len(test_loader)\n",
    "\n",
    "        #For epistemic uncertainty we calculate the std on the mus!\n",
    "        means = torch.stack(mus).mean(axis=0)\n",
    "        stds = torch.stack(mus).std(axis=0)\n",
    "        \n",
    "        means = means.cpu()\n",
    "        stds = stds.cpu()\n",
    "        labels = labels.cpu()\n",
    "        \n",
    "        means = means.detach().numpy()\n",
    "        stds = stds.detach().numpy()**(1/2)\n",
    "        labels = labels.detach().numpy()\n",
    "        \n",
    "        y_vals = [labels, means, stds**2]\n",
    "        data = {\n",
    "            \"y_pred\": list(y_vals[0].squeeze()),\n",
    "            'y_real': list(y_vals[1].squeeze()),\n",
    "            \"variance\": list(y_vals[2].squeeze())\n",
    "            }\n",
    "        data = pd.DataFrame(data)\n",
    "        df = df.append(pd.DataFrame(data))\n",
    "df = df.sort_values('y_real').reset_index(drop=True)\n",
    "df"
   ]
  },
  {
   "cell_type": "code",
   "execution_count": 14,
   "metadata": {},
   "outputs": [
    {
     "data": {
      "text/plain": [
       "array([[<AxesSubplot:title={'center':'variance'}>]], dtype=object)"
      ]
     },
     "execution_count": 14,
     "metadata": {},
     "output_type": "execute_result"
    },
    {
     "data": {
      "image/png": "[encoded data removed]",
      "text/plain": [
       "<Figure size 432x288 with 1 Axes>"
      ]
     },
     "metadata": {
      "needs_background": "light"
     },
     "output_type": "display_data"
    }
   ],
   "source": [
    "df.hist('variance')"
   ]
  },
  {
   "cell_type": "code",
   "execution_count": 15,
   "metadata": {},
   "outputs": [
    {
     "data": {
      "image/png": "[encoded data removed]",
      "text/plain": [
       "<Figure size 432x288 with 2 Axes>"
      ]
     },
     "metadata": {
      "needs_background": "light"
     },
     "output_type": "display_data"
    }
   ],
   "source": [
    "import matplotlib.pyplot as plt\n",
    "import numpy as np\n",
    "\n",
    "# Generate data...\n",
    "x = df[\"y_real\"]\n",
    "y = df[\"y_pred\"]\n",
    "color = df['variance']\n",
    "plt.plot(np.unique(x), np.poly1d(np.polyfit(x, y, 1))(np.unique(x)))\n",
    "\n",
    "sc = plt.scatter(x, y, c=color, s=10, cmap='magma')\n",
    "cbar = plt.colorbar(sc)\n",
    "cbar.set_label('Predicted Variance')\n",
    "plt.xlabel('True pIC50')\n",
    "plt.ylabel('Predicted pIC50')\n",
    "plt.title('Deep Ensemble')\n",
    "plt.clim(0, 0.5) \n",
    "plt.title('Deep Ensemble Predicted Values Against True Values')\n",
    "plt.savefig('/home/rajeckidoyle/Documents/Classification/BACE_Classification/regressionandunccertainty/results/pvtDE.jpeg', bbox_inches = 'tight', dpi=300)"
   ]
  },
  {
   "cell_type": "code",
   "execution_count": 16,
   "metadata": {},
   "outputs": [
    {
     "data": {
      "image/png": "[encoded data removed]",
      "text/plain": [
       "<Figure size 432x288 with 1 Axes>"
      ]
     },
     "metadata": {
      "needs_background": "light"
     },
     "output_type": "display_data"
    }
   ],
   "source": [
    "from scipy import stats\n",
    "df = df[(np.abs(stats.zscore(df)) < 3).all(axis=1)]\n",
    "\n",
    "x = abs(df['y_pred']-6.5)\n",
    "y = df['variance']\n",
    "\n",
    "plt.scatter(x,y, s=10)\n",
    "plt.plot(np.unique(x), np.poly1d(np.polyfit(x, y, 1))(np.unique(x)), c='r')\n",
    "plt.xlabel('Distance from Train Median')\n",
    "plt.ylabel('Predicted Variance')\n",
    "plt.title('Predicted Variance against distance from Median')\n",
    "plt.savefig('/home/rajeckidoyle/Documents/Classification/BACE_Classification/regressionandunccertainty/results/varvtDE.jpeg', bbox_inches = 'tight', dpi=300)"
   ]
  },
  {
   "cell_type": "code",
   "execution_count": 17,
   "metadata": {},
   "outputs": [
    {
     "ename": "KeyError",
     "evalue": "'lower'",
     "output_type": "error",
     "traceback": [
      "\u001b[0;31m---------------------------------------------------------------------------\u001b[0m",
      "\u001b[0;31mKeyError\u001b[0m                                  Traceback (most recent call last)",
      "File \u001b[0;32m~/miniconda3/envs/my_torch_geometric/lib/python3.8/site-packages/pandas/core/indexes/base.py:3621\u001b[0m, in \u001b[0;36mIndex.get_loc\u001b[0;34m(self, key, method, tolerance)\u001b[0m\n\u001b[1;32m   <a href='file:///home/rajeckidoyle/miniconda3/envs/my_torch_geometric/lib/python3.8/site-packages/pandas/core/indexes/base.py?line=3619'>3620</a>\u001b[0m \u001b[39mtry\u001b[39;00m:\n\u001b[0;32m-> <a href='file:///home/rajeckidoyle/miniconda3/envs/my_torch_geometric/lib/python3.8/site-packages/pandas/core/indexes/base.py?line=3620'>3621</a>\u001b[0m     \u001b[39mreturn\u001b[39;00m \u001b[39mself\u001b[39;49m\u001b[39m.\u001b[39;49m_engine\u001b[39m.\u001b[39;49mget_loc(casted_key)\n\u001b[1;32m   <a href='file:///home/rajeckidoyle/miniconda3/envs/my_torch_geometric/lib/python3.8/site-packages/pandas/core/indexes/base.py?line=3621'>3622</a>\u001b[0m \u001b[39mexcept\u001b[39;00m \u001b[39mKeyError\u001b[39;00m \u001b[39mas\u001b[39;00m err:\n",
      "File \u001b[0;32m~/miniconda3/envs/my_torch_geometric/lib/python3.8/site-packages/pandas/_libs/index.pyx:136\u001b[0m, in \u001b[0;36mpandas._libs.index.IndexEngine.get_loc\u001b[0;34m()\u001b[0m\n",
      "File \u001b[0;32m~/miniconda3/envs/my_torch_geometric/lib/python3.8/site-packages/pandas/_libs/index.pyx:163\u001b[0m, in \u001b[0;36mpandas._libs.index.IndexEngine.get_loc\u001b[0;34m()\u001b[0m\n",
      "File \u001b[0;32mpandas/_libs/hashtable_class_helper.pxi:5198\u001b[0m, in \u001b[0;36mpandas._libs.hashtable.PyObjectHashTable.get_item\u001b[0;34m()\u001b[0m\n",
      "File \u001b[0;32mpandas/_libs/hashtable_class_helper.pxi:5206\u001b[0m, in \u001b[0;36mpandas._libs.hashtable.PyObjectHashTable.get_item\u001b[0;34m()\u001b[0m\n",
      "\u001b[0;31mKeyError\u001b[0m: 'lower'",
      "\nThe above exception was the direct cause of the following exception:\n",
      "\u001b[0;31mKeyError\u001b[0m                                  Traceback (most recent call last)",
      "\u001b[1;32m/home/rajeckidoyle/Documents/Classification/BACE_Classification/regressionandunccertainty/BACE_MLP_DE.ipynb Cell 21'\u001b[0m in \u001b[0;36m<cell line: 6>\u001b[0;34m()\u001b[0m\n\u001b[1;32m      <a href='vscode-notebook-cell://ssh-remote%2Bphoenix.maths/home/rajeckidoyle/Documents/Classification/BACE_Classification/regressionandunccertainty/BACE_MLP_DE.ipynb#ch0000020vscode-remote?line=1'>2</a>\u001b[0m \u001b[39m# Compute upper and lower bounds using chosen uncertainty measure: here\u001b[39;00m\n\u001b[1;32m      <a href='vscode-notebook-cell://ssh-remote%2Bphoenix.maths/home/rajeckidoyle/Documents/Classification/BACE_Classification/regressionandunccertainty/BACE_MLP_DE.ipynb#ch0000020vscode-remote?line=2'>3</a>\u001b[0m \u001b[39m# it is a fraction of the standard deviation of measurements at each\u001b[39;00m\n\u001b[1;32m      <a href='vscode-notebook-cell://ssh-remote%2Bphoenix.maths/home/rajeckidoyle/Documents/Classification/BACE_Classification/regressionandunccertainty/BACE_MLP_DE.ipynb#ch0000020vscode-remote?line=3'>4</a>\u001b[0m \u001b[39m# time point based on the unbiased sample variance\u001b[39;00m\n\u001b[1;32m      <a href='vscode-notebook-cell://ssh-remote%2Bphoenix.maths/home/rajeckidoyle/Documents/Classification/BACE_Classification/regressionandunccertainty/BACE_MLP_DE.ipynb#ch0000020vscode-remote?line=4'>5</a>\u001b[0m mu \u001b[39m=\u001b[39m df[\u001b[39m'\u001b[39m\u001b[39my_pred\u001b[39m\u001b[39m'\u001b[39m]\n\u001b[0;32m----> <a href='vscode-notebook-cell://ssh-remote%2Bphoenix.maths/home/rajeckidoyle/Documents/Classification/BACE_Classification/regressionandunccertainty/BACE_MLP_DE.ipynb#ch0000020vscode-remote?line=5'>6</a>\u001b[0m lower \u001b[39m=\u001b[39m df[\u001b[39m'\u001b[39;49m\u001b[39mlower\u001b[39;49m\u001b[39m'\u001b[39;49m]\n\u001b[1;32m      <a href='vscode-notebook-cell://ssh-remote%2Bphoenix.maths/home/rajeckidoyle/Documents/Classification/BACE_Classification/regressionandunccertainty/BACE_MLP_DE.ipynb#ch0000020vscode-remote?line=6'>7</a>\u001b[0m upper \u001b[39m=\u001b[39m  df[\u001b[39m'\u001b[39m\u001b[39mupper\u001b[39m\u001b[39m'\u001b[39m]\n\u001b[1;32m      <a href='vscode-notebook-cell://ssh-remote%2Bphoenix.maths/home/rajeckidoyle/Documents/Classification/BACE_Classification/regressionandunccertainty/BACE_MLP_DE.ipynb#ch0000020vscode-remote?line=8'>9</a>\u001b[0m \u001b[39m# Draw plot with error band and extra formatting to match seaborn style\u001b[39;00m\n",
      "File \u001b[0;32m~/miniconda3/envs/my_torch_geometric/lib/python3.8/site-packages/pandas/core/frame.py:3505\u001b[0m, in \u001b[0;36mDataFrame.__getitem__\u001b[0;34m(self, key)\u001b[0m\n\u001b[1;32m   <a href='file:///home/rajeckidoyle/miniconda3/envs/my_torch_geometric/lib/python3.8/site-packages/pandas/core/frame.py?line=3502'>3503</a>\u001b[0m \u001b[39mif\u001b[39;00m \u001b[39mself\u001b[39m\u001b[39m.\u001b[39mcolumns\u001b[39m.\u001b[39mnlevels \u001b[39m>\u001b[39m \u001b[39m1\u001b[39m:\n\u001b[1;32m   <a href='file:///home/rajeckidoyle/miniconda3/envs/my_torch_geometric/lib/python3.8/site-packages/pandas/core/frame.py?line=3503'>3504</a>\u001b[0m     \u001b[39mreturn\u001b[39;00m \u001b[39mself\u001b[39m\u001b[39m.\u001b[39m_getitem_multilevel(key)\n\u001b[0;32m-> <a href='file:///home/rajeckidoyle/miniconda3/envs/my_torch_geometric/lib/python3.8/site-packages/pandas/core/frame.py?line=3504'>3505</a>\u001b[0m indexer \u001b[39m=\u001b[39m \u001b[39mself\u001b[39;49m\u001b[39m.\u001b[39;49mcolumns\u001b[39m.\u001b[39;49mget_loc(key)\n\u001b[1;32m   <a href='file:///home/rajeckidoyle/miniconda3/envs/my_torch_geometric/lib/python3.8/site-packages/pandas/core/frame.py?line=3505'>3506</a>\u001b[0m \u001b[39mif\u001b[39;00m is_integer(indexer):\n\u001b[1;32m   <a href='file:///home/rajeckidoyle/miniconda3/envs/my_torch_geometric/lib/python3.8/site-packages/pandas/core/frame.py?line=3506'>3507</a>\u001b[0m     indexer \u001b[39m=\u001b[39m [indexer]\n",
      "File \u001b[0;32m~/miniconda3/envs/my_torch_geometric/lib/python3.8/site-packages/pandas/core/indexes/base.py:3623\u001b[0m, in \u001b[0;36mIndex.get_loc\u001b[0;34m(self, key, method, tolerance)\u001b[0m\n\u001b[1;32m   <a href='file:///home/rajeckidoyle/miniconda3/envs/my_torch_geometric/lib/python3.8/site-packages/pandas/core/indexes/base.py?line=3620'>3621</a>\u001b[0m     \u001b[39mreturn\u001b[39;00m \u001b[39mself\u001b[39m\u001b[39m.\u001b[39m_engine\u001b[39m.\u001b[39mget_loc(casted_key)\n\u001b[1;32m   <a href='file:///home/rajeckidoyle/miniconda3/envs/my_torch_geometric/lib/python3.8/site-packages/pandas/core/indexes/base.py?line=3621'>3622</a>\u001b[0m \u001b[39mexcept\u001b[39;00m \u001b[39mKeyError\u001b[39;00m \u001b[39mas\u001b[39;00m err:\n\u001b[0;32m-> <a href='file:///home/rajeckidoyle/miniconda3/envs/my_torch_geometric/lib/python3.8/site-packages/pandas/core/indexes/base.py?line=3622'>3623</a>\u001b[0m     \u001b[39mraise\u001b[39;00m \u001b[39mKeyError\u001b[39;00m(key) \u001b[39mfrom\u001b[39;00m \u001b[39merr\u001b[39;00m\n\u001b[1;32m   <a href='file:///home/rajeckidoyle/miniconda3/envs/my_torch_geometric/lib/python3.8/site-packages/pandas/core/indexes/base.py?line=3623'>3624</a>\u001b[0m \u001b[39mexcept\u001b[39;00m \u001b[39mTypeError\u001b[39;00m:\n\u001b[1;32m   <a href='file:///home/rajeckidoyle/miniconda3/envs/my_torch_geometric/lib/python3.8/site-packages/pandas/core/indexes/base.py?line=3624'>3625</a>\u001b[0m     \u001b[39m# If we have a listlike key, _check_indexing_error will raise\u001b[39;00m\n\u001b[1;32m   <a href='file:///home/rajeckidoyle/miniconda3/envs/my_torch_geometric/lib/python3.8/site-packages/pandas/core/indexes/base.py?line=3625'>3626</a>\u001b[0m     \u001b[39m#  InvalidIndexError. Otherwise we fall through and re-raise\u001b[39;00m\n\u001b[1;32m   <a href='file:///home/rajeckidoyle/miniconda3/envs/my_torch_geometric/lib/python3.8/site-packages/pandas/core/indexes/base.py?line=3626'>3627</a>\u001b[0m     \u001b[39m#  the TypeError.\u001b[39;00m\n\u001b[1;32m   <a href='file:///home/rajeckidoyle/miniconda3/envs/my_torch_geometric/lib/python3.8/site-packages/pandas/core/indexes/base.py?line=3627'>3628</a>\u001b[0m     \u001b[39mself\u001b[39m\u001b[39m.\u001b[39m_check_indexing_error(key)\n",
      "\u001b[0;31mKeyError\u001b[0m: 'lower'"
     ]
    }
   ],
   "source": [
    "x = df.index\n",
    "# Compute upper and lower bounds using chosen uncertainty measure: here\n",
    "# it is a fraction of the standard deviation of measurements at each\n",
    "# time point based on the unbiased sample variance\n",
    "mu = df['y_pred']\n",
    "lower = df['lower']\n",
    "upper =  df['upper']\n",
    "\n",
    "# Draw plot with error band and extra formatting to match seaborn style\n",
    "fig, ax = plt.subplots(figsize=(9,5))\n",
    "ax.scatter(x, df['y_real'], label='pred mean', s=1)\n",
    "ax.plot(x, mu, label='pred mean')\n",
    "ax.plot(x, lower, color='tab:blue', alpha=0.1)\n",
    "ax.plot(x, upper, color='tab:blue', alpha=0.1)\n",
    "ax.fill_between(x, lower, upper, alpha=0.2)\n",
    "ax.set_xlabel('index')\n",
    "ax.set_ylabel('pIC50')\n",
    "ax.spines['top'].set_visible(False)\n",
    "ax.spines['right'].set_visible(False)\n",
    "plt.show()"
   ]
  },
  {
   "cell_type": "markdown",
   "metadata": {},
   "source": [
    "## Model Evaluation"
   ]
  },
  {
   "cell_type": "code",
   "execution_count": null,
   "metadata": {},
   "outputs": [],
   "source": [
    "from sklearn import metrics"
   ]
  },
  {
   "cell_type": "code",
   "execution_count": null,
   "metadata": {},
   "outputs": [
    {
     "data": {
      "text/plain": [
       "(0.923489660489072, 0.6890594879252798, 0.4247052725122282)"
      ]
     },
     "execution_count": 18,
     "metadata": {},
     "output_type": "execute_result"
    }
   ],
   "source": [
    "mse = metrics.mean_squared_error(df[\"y_real\"],df[\"y_pred\"])\n",
    "mae = metrics.mean_absolute_error(df[\"y_real\"],df[\"y_pred\"])\n",
    "r = metrics.r2_score(df[\"y_real\"],df[\"y_pred\"])\n",
    "\n",
    "mse, mae, r"
   ]
  },
  {
   "cell_type": "code",
   "execution_count": null,
   "metadata": {},
   "outputs": [
    {
     "data": {
      "text/plain": [
       "<AxesSubplot:xlabel='y_pred', ylabel='y_real'>"
      ]
     },
     "execution_count": 19,
     "metadata": {},
     "output_type": "execute_result"
    },
    {
     "data": {
      "image/png": "[encoded data removed]",
      "text/plain": [
       "<Figure size 432x288 with 1 Axes>"
      ]
     },
     "metadata": {
      "needs_background": "light"
     },
     "output_type": "display_data"
    }
   ],
   "source": [
    "df.plot.scatter(x='y_pred',y='y_real', s=10)"
   ]
  },
  {
   "cell_type": "code",
   "execution_count": null,
   "metadata": {},
   "outputs": [
    {
     "data": {
      "text/plain": [
       "0.8569637856455015"
      ]
     },
     "execution_count": 20,
     "metadata": {},
     "output_type": "execute_result"
    }
   ],
   "source": [
    "rho = np.corrcoef(df['y_real'],df['y_pred'])[0,1]\n",
    "rho"
   ]
  },
  {
   "cell_type": "code",
   "execution_count": null,
   "metadata": {},
   "outputs": [
    {
     "data": {
      "text/plain": [
       "<matplotlib.collections.PathCollection at 0x7f50e284e400>"
      ]
     },
     "execution_count": 21,
     "metadata": {},
     "output_type": "execute_result"
    },
    {
     "data": {
      "image/png": "[encoded data removed]",
      "text/plain": [
       "<Figure size 432x288 with 1 Axes>"
      ]
     },
     "metadata": {
      "needs_background": "light"
     },
     "output_type": "display_data"
    }
   ],
   "source": [
    "import matplotlib.pyplot as plt\n",
    "\n",
    "data_sorted_by_real = df.sort_values('y_real')\n",
    "data_sorted_by_real = data_sorted_by_real.reset_index(drop = True)\n",
    "\n",
    "plt.plot(data_sorted_by_real['y_real'].index, data_sorted_by_real['y_real'])\n",
    "plt.scatter(data_sorted_by_real['y_real'].index, data_sorted_by_real['y_pred'], s=1)"
   ]
  },
  {
   "cell_type": "code",
   "execution_count": null,
   "metadata": {},
   "outputs": [
    {
     "data": {
      "text/html": [
       "<div>\n",
       "<style scoped>\n",
       "    .dataframe tbody tr th:only-of-type {\n",
       "        vertical-align: middle;\n",
       "    }\n",
       "\n",
       "    .dataframe tbody tr th {\n",
       "        vertical-align: top;\n",
       "    }\n",
       "\n",
       "    .dataframe thead th {\n",
       "        text-align: right;\n",
       "    }\n",
       "</style>\n",
       "<table border=\"1\" class=\"dataframe\">\n",
       "  <thead>\n",
       "    <tr style=\"text-align: right;\">\n",
       "      <th></th>\n",
       "      <th>Mean Square Error</th>\n",
       "      <th>Spearman</th>\n",
       "      <th>Pearson</th>\n",
       "      <th>R</th>\n",
       "      <th>Variance Rho</th>\n",
       "    </tr>\n",
       "  </thead>\n",
       "  <tbody>\n",
       "    <tr>\n",
       "      <th>0</th>\n",
       "      <td>0.92349</td>\n",
       "      <td>0.849173</td>\n",
       "      <td>0.856964</td>\n",
       "      <td>0.424705</td>\n",
       "      <td>-0.041876</td>\n",
       "    </tr>\n",
       "  </tbody>\n",
       "</table>\n",
       "</div>"
      ],
      "text/plain": [
       "   Mean Square Error  Spearman   Pearson         R  Variance Rho\n",
       "0            0.92349  0.849173  0.856964  0.424705     -0.041876"
      ]
     },
     "execution_count": 22,
     "metadata": {},
     "output_type": "execute_result"
    }
   ],
   "source": [
    "from sklearn import metrics\n",
    "from scipy.stats import stats\n",
    "df['y_pred_dist'] = abs(df['y_pred']-6.5)\n",
    "\n",
    "def get_results(df):\n",
    "    mse = metrics.mean_squared_error(df[\"y_real\"],df[\"y_pred\"])\n",
    "    sc = stats.spearmanr(df[\"y_real\"],df[\"y_pred\"])[0]\n",
    "    pc = np.corrcoef(df['y_real'],df['y_pred'])[0,1]\n",
    "    r = metrics.r2_score(df[\"y_real\"],df[\"y_pred\"])\n",
    "    varcorr = np.corrcoef(df['y_pred_dist'], df['variance'])[0,1]\n",
    "\n",
    "    results = {\n",
    "        'Mean Square Error':mse,\n",
    "        'Spearman':sc,\n",
    "        'Pearson':pc,\n",
    "        'R':r,\n",
    "        'Variance Rho': varcorr,\n",
    "    }\n",
    "    results_df = pd.DataFrame([results])\n",
    "    return results_df\n",
    "\n",
    "get_results(df).to_csv('/home/rajeckidoyle/Documents/Classification/BACE_Classification/regressionandunccertainty/results/DEresults.csv')\n",
    "get_results(df)"
   ]
  }
 ],
 "metadata": {
  "interpreter": {
   "hash": "c4e88f5f6f0c037f170d8b5f2f59d1377880a8e4b384253995bdaa7b6b72e05d"
  },
  "kernelspec": {
   "display_name": "Python 3.8.12 ('my_torch_geometric')",
   "language": "python",
   "name": "python3"
  },
  "language_info": {
   "codemirror_mode": {
    "name": "ipython",
    "version": 3
   },
   "file_extension": ".py",
   "mimetype": "text/x-python",
   "name": "python",
   "nbconvert_exporter": "python",
   "pygments_lexer": "ipython3",
   "version": "3.8.12"
  },
  "orig_nbformat": 4
 },
 "nbformat": 4,
 "nbformat_minor": 2
}
