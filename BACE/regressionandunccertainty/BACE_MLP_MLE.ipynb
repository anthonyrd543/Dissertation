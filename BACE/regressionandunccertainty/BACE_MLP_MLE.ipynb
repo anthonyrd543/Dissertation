{
 "cells": [
  {
   "cell_type": "code",
   "execution_count": 1,
   "metadata": {},
   "outputs": [
    {
     "name": "stderr",
     "output_type": "stream",
     "text": [
      "/home/rajeckidoyle/miniconda3/envs/my_torch_geometric/lib/python3.8/site-packages/torch/cuda/__init__.py:82: UserWarning: CUDA initialization: Unexpected error from cudaGetDeviceCount(). Did you run some cuda functions before calling NumCudaDevices() that might have already set an error? Error 804: forward compatibility was attempted on non supported HW (Triggered internally at  /opt/conda/conda-bld/pytorch_1646755903507/work/c10/cuda/CUDAFunctions.cpp:112.)\n",
      "  return torch._C._cuda_getDeviceCount() > 0\n"
     ]
    }
   ],
   "source": [
    "from torch_geometric.datasets import MoleculeNet\n",
    "import torch\n",
    "import numpy as np"
   ]
  },
  {
   "cell_type": "markdown",
   "metadata": {},
   "source": [
    "## Import Dataset"
   ]
  },
  {
   "cell_type": "code",
   "execution_count": 2,
   "metadata": {},
   "outputs": [],
   "source": [
    "import torchvision\n",
    "from torch.utils.data import Dataset, DataLoader\n",
    "import numpy as np\n",
    "import math\n",
    "\n",
    "class FingerprintDataset(Dataset):\n",
    "    def __init__(self,split):\n",
    "        # Initialize data, download, etc.\n",
    "        # read with numpy or pandas\n",
    "        xy = np.loadtxt(f'./fingerprints/bace_reverse_split_{split}.csv', delimiter=',', dtype=np.float32, skiprows=1)\n",
    "\n",
    "        self.x = torch.from_numpy(xy[:,1:])\n",
    "        self.y = torch.from_numpy(xy[:,[0]])\n",
    "        self.n_samples = xy.shape[0]\n",
    "\n",
    "    # support indexing such that dataset[i] can be used to get i-th sample\n",
    "    def __getitem__(self, index):\n",
    "        return self.x[index], self.y[index]\n",
    "\n",
    "    # we can call len(dataset) to return the size\n",
    "    def __len__(self):\n",
    "        return self.n_samples"
   ]
  },
  {
   "cell_type": "code",
   "execution_count": 3,
   "metadata": {},
   "outputs": [],
   "source": [
    "train_dataset = FingerprintDataset(split='train')\n",
    "test_dataset = FingerprintDataset(split='test')"
   ]
  },
  {
   "cell_type": "code",
   "execution_count": 4,
   "metadata": {},
   "outputs": [],
   "source": [
    "#Specify device\n",
    "device = torch.device(\"cuda:2\" if torch.cuda.is_available() else \"cpu\")"
   ]
  },
  {
   "cell_type": "markdown",
   "metadata": {},
   "source": [
    "## Set Hyperparameters"
   ]
  },
  {
   "cell_type": "code",
   "execution_count": 5,
   "metadata": {},
   "outputs": [],
   "source": [
    "import best_config\n",
    "\n",
    "no_of_epochs = best_config.GLOBALPARAMETERS['no_of_epochs']\n",
    "train_size = best_config.GLOBALPARAMETERS['train_size']\n",
    "valid_size = best_config.GLOBALPARAMETERS['valid_size']"
   ]
  },
  {
   "cell_type": "code",
   "execution_count": 6,
   "metadata": {},
   "outputs": [],
   "source": [
    "#Get Model Parameters\n",
    "hyperparameters = eval('best_config.'+'MLP_MLE_HYPERPARAMETERS')\n",
    "\n",
    "model_params = hyperparameters\n",
    "model_params['feature_size'] = train_dataset.x.shape[1]"
   ]
  },
  {
   "cell_type": "markdown",
   "metadata": {},
   "source": [
    "## Define Model"
   ]
  },
  {
   "cell_type": "code",
   "execution_count": 7,
   "metadata": {},
   "outputs": [],
   "source": [
    "def count_parameters(model):\n",
    "    return sum(p.numel() for p in model.parameters() if p.requires_grad)"
   ]
  },
  {
   "cell_type": "code",
   "execution_count": 8,
   "metadata": {},
   "outputs": [
    {
     "data": {
      "text/plain": [
       "{'has_edge_info': False,\n",
       " 'batch_size': 64,\n",
       " 'learning_rate': 0.000138,\n",
       " 'model_layers': 3,\n",
       " 'model_embedding_size': 128,\n",
       " 'model_dense_neurons': 64,\n",
       " 'model_linear_dropout_rate': 0.078,\n",
       " 'model_embedding_dropout_rate': 0.119,\n",
       " 'feature_size': 1024}"
      ]
     },
     "execution_count": 8,
     "metadata": {},
     "output_type": "execute_result"
    }
   ],
   "source": [
    "model_params"
   ]
  },
  {
   "cell_type": "code",
   "execution_count": 9,
   "metadata": {},
   "outputs": [
    {
     "name": "stdout",
     "output_type": "stream",
     "text": [
      "Loading model...\n",
      "MLP_MLE(\n",
      "  (conv_layers): ModuleList(\n",
      "    (0): Linear(in_features=128, out_features=128, bias=True)\n",
      "    (1): Linear(in_features=128, out_features=128, bias=True)\n",
      "  )\n",
      "  (bn_layers): ModuleList(\n",
      "    (0): BatchNorm1d(128, eps=1e-05, momentum=0.1, affine=True, track_running_stats=True)\n",
      "    (1): BatchNorm1d(128, eps=1e-05, momentum=0.1, affine=True, track_running_stats=True)\n",
      "  )\n",
      "  (initial_conv): Linear(in_features=1024, out_features=128, bias=True)\n",
      "  (embedding_dropout): Dropout(p=0.119, inplace=False)\n",
      "  (linear_dropout): Dropout(p=0.078, inplace=False)\n",
      "  (readout1): Linear(in_features=128, out_features=64, bias=True)\n",
      "  (mu): Linear(in_features=64, out_features=1, bias=True)\n",
      "  (readout2): Linear(in_features=128, out_features=64, bias=True)\n",
      "  (var): Linear(in_features=64, out_features=1, bias=True)\n",
      ")\n",
      "181378\n"
     ]
    }
   ],
   "source": [
    "import models\n",
    "print(\"Loading model...\")\n",
    "\n",
    "#Create instance of model\n",
    "model = eval('models.'+best_config.GLOBALPARAMETERS['model_this_run']+'(model_params)')\n",
    "print(model)\n",
    "print(count_parameters(model))"
   ]
  },
  {
   "cell_type": "code",
   "execution_count": 10,
   "metadata": {},
   "outputs": [],
   "source": [
    "model = model.to(device)"
   ]
  },
  {
   "cell_type": "code",
   "execution_count": 11,
   "metadata": {},
   "outputs": [],
   "source": [
    "from torch.utils.data import DataLoader\n",
    "import warnings\n",
    "warnings.filterwarnings(\"ignore\")\n",
    "\n",
    "# Root mean squared error\n",
    "loss_fn = torch.nn.MSELoss()\n",
    "optimizer = torch.optim.Adam(model.parameters(), lr=0.007, weight_decay=0.0001)  \n",
    "\n",
    "NUM_FINGERPRINTS_PER_BATCH = model_params['batch_size']\n",
    "train_loader = DataLoader(train_dataset, \n",
    "                    batch_size=NUM_FINGERPRINTS_PER_BATCH, shuffle=True)\n",
    "test_loader = DataLoader(test_dataset, \n",
    "                    batch_size=NUM_FINGERPRINTS_PER_BATCH, shuffle=True)"
   ]
  },
  {
   "cell_type": "markdown",
   "metadata": {},
   "source": [
    "## Training Loop"
   ]
  },
  {
   "cell_type": "code",
   "execution_count": 12,
   "metadata": {},
   "outputs": [],
   "source": [
    "class Engine:\n",
    "    def __init__(self, model, model_params, optimizer, device):\n",
    "        self.model = model\n",
    "        self.model_params = model_params\n",
    "        self.optimizer = optimizer\n",
    "        self.device = device\n",
    "        self.loss_fn = torch.nn.GaussianNLLLoss()\n",
    "\n",
    "    def train(self, loader):\n",
    "        self.model.train()\n",
    "        # Enumerate over the data\n",
    "        final_loss = 0\n",
    "        for i, (fingerprint, labels) in enumerate(loader):  \n",
    "            self.optimizer.zero_grad()\n",
    "            fingerprint = fingerprint.to(self.device)\n",
    "            labels = labels.to(self.device)\n",
    "            \n",
    "            # Forward pass\n",
    "            mu, var = self.model(fingerprint)\n",
    "            loss = self.loss_fn(mu, labels, var)\n",
    "            # Backward and optimize\n",
    "            final_loss += loss.item()\n",
    "            loss.backward()\n",
    "            self.optimizer.step() \n",
    "        return final_loss / len(loader)\n",
    "    \n",
    "    def evaluate(self, loader):\n",
    "            self.model.eval()\n",
    "            # Enumerate over the data\n",
    "            final_loss = 0\n",
    "            for i, (fingerprint, labels) in enumerate(loader):  \n",
    "                fingerprint = fingerprint.to(self.device)\n",
    "                labels = labels.to(self.device)\n",
    "                \n",
    "                # Forward pass\n",
    "                mu, var = self.model(fingerprint)\n",
    "                loss = self.loss_fn(mu, labels, var)\n",
    "                final_loss += loss.item()\n",
    "            return final_loss / len(loader)"
   ]
  },
  {
   "cell_type": "code",
   "execution_count": 13,
   "metadata": {},
   "outputs": [
    {
     "name": "stdout",
     "output_type": "stream",
     "text": [
      "Starting training...\n",
      "Epoch 0 | Train Loss 22.298431597257917\n",
      "Epoch 10 | Train Loss 3.067951051812423\n",
      "Epoch 20 | Train Loss 1.6693914124840183\n",
      "Epoch 30 | Train Loss 1.4219325529901605\n",
      "Epoch 40 | Train Loss 1.1837761213904934\n",
      "Epoch 50 | Train Loss 0.7951712608337402\n",
      "Epoch 60 | Train Loss 0.5801834275847987\n",
      "Epoch 70 | Train Loss 0.511479200501191\n",
      "Epoch 80 | Train Loss 0.6939821666792819\n",
      "Epoch 90 | Train Loss 0.45104108515538666\n",
      "Epoch 100 | Train Loss 0.49798082521087245\n",
      "Epoch 110 | Train Loss 0.39577235203040273\n",
      "Epoch 120 | Train Loss 0.2967727270565535\n",
      "Epoch 130 | Train Loss 0.2595456731750777\n",
      "Epoch 140 | Train Loss 0.25453166276412575\n",
      "Epoch 150 | Train Loss 0.21136845868865126\n",
      "Epoch 160 | Train Loss 0.13795338433824086\n",
      "Epoch 170 | Train Loss 0.12913032895640322\n",
      "Epoch 180 | Train Loss 0.0837442529828925\n",
      "Epoch 190 | Train Loss 0.11246119640571506\n"
     ]
    }
   ],
   "source": [
    "optimizer = torch.optim.Adam(model.parameters(), lr=model_params['learning_rate'])  \n",
    "\n",
    "eng = Engine(model, model_params, optimizer, device)\n",
    "\n",
    "print(\"Starting training...\")\n",
    "losses = []\n",
    "for epoch in range(no_of_epochs):\n",
    "    loss = eng.train(train_loader)\n",
    "    losses.append(loss)\n",
    "    if epoch % 10 == 0:\n",
    "        print(f\"Epoch {epoch} | Train Loss {loss}\")"
   ]
  },
  {
   "cell_type": "markdown",
   "metadata": {},
   "source": [
    "## Evaluate on the Test Set"
   ]
  },
  {
   "cell_type": "code",
   "execution_count": 14,
   "metadata": {},
   "outputs": [
    {
     "data": {
      "text/html": [
       "<div>\n",
       "<style scoped>\n",
       "    .dataframe tbody tr th:only-of-type {\n",
       "        vertical-align: middle;\n",
       "    }\n",
       "\n",
       "    .dataframe tbody tr th {\n",
       "        vertical-align: top;\n",
       "    }\n",
       "\n",
       "    .dataframe thead th {\n",
       "        text-align: right;\n",
       "    }\n",
       "</style>\n",
       "<table border=\"1\" class=\"dataframe\">\n",
       "  <thead>\n",
       "    <tr style=\"text-align: right;\">\n",
       "      <th></th>\n",
       "      <th>y_pred</th>\n",
       "      <th>y_real</th>\n",
       "      <th>variance</th>\n",
       "    </tr>\n",
       "  </thead>\n",
       "  <tbody>\n",
       "    <tr>\n",
       "      <th>0</th>\n",
       "      <td>7.124595</td>\n",
       "      <td>7.301030</td>\n",
       "      <td>0.251700</td>\n",
       "    </tr>\n",
       "    <tr>\n",
       "      <th>1</th>\n",
       "      <td>6.289748</td>\n",
       "      <td>6.142667</td>\n",
       "      <td>0.293115</td>\n",
       "    </tr>\n",
       "    <tr>\n",
       "      <th>2</th>\n",
       "      <td>7.248589</td>\n",
       "      <td>7.443697</td>\n",
       "      <td>0.338207</td>\n",
       "    </tr>\n",
       "    <tr>\n",
       "      <th>3</th>\n",
       "      <td>7.865430</td>\n",
       "      <td>9.000000</td>\n",
       "      <td>0.878268</td>\n",
       "    </tr>\n",
       "    <tr>\n",
       "      <th>4</th>\n",
       "      <td>7.912282</td>\n",
       "      <td>8.698970</td>\n",
       "      <td>0.841239</td>\n",
       "    </tr>\n",
       "    <tr>\n",
       "      <th>...</th>\n",
       "      <td>...</td>\n",
       "      <td>...</td>\n",
       "      <td>...</td>\n",
       "    </tr>\n",
       "    <tr>\n",
       "      <th>298</th>\n",
       "      <td>4.644324</td>\n",
       "      <td>4.546682</td>\n",
       "      <td>0.249798</td>\n",
       "    </tr>\n",
       "    <tr>\n",
       "      <th>299</th>\n",
       "      <td>5.762573</td>\n",
       "      <td>6.568636</td>\n",
       "      <td>0.611176</td>\n",
       "    </tr>\n",
       "    <tr>\n",
       "      <th>300</th>\n",
       "      <td>6.910586</td>\n",
       "      <td>7.167491</td>\n",
       "      <td>0.565869</td>\n",
       "    </tr>\n",
       "    <tr>\n",
       "      <th>301</th>\n",
       "      <td>7.541218</td>\n",
       "      <td>7.774691</td>\n",
       "      <td>0.828692</td>\n",
       "    </tr>\n",
       "    <tr>\n",
       "      <th>302</th>\n",
       "      <td>6.602444</td>\n",
       "      <td>6.508638</td>\n",
       "      <td>0.242701</td>\n",
       "    </tr>\n",
       "  </tbody>\n",
       "</table>\n",
       "<p>303 rows × 3 columns</p>\n",
       "</div>"
      ],
      "text/plain": [
       "       y_pred    y_real  variance\n",
       "0    7.124595  7.301030  0.251700\n",
       "1    6.289748  6.142667  0.293115\n",
       "2    7.248589  7.443697  0.338207\n",
       "3    7.865430  9.000000  0.878268\n",
       "4    7.912282  8.698970  0.841239\n",
       "..        ...       ...       ...\n",
       "298  4.644324  4.546682  0.249798\n",
       "299  5.762573  6.568636  0.611176\n",
       "300  6.910586  7.167491  0.565869\n",
       "301  7.541218  7.774691  0.828692\n",
       "302  6.602444  6.508638  0.242701\n",
       "\n",
       "[303 rows x 3 columns]"
      ]
     },
     "execution_count": 14,
     "metadata": {},
     "output_type": "execute_result"
    }
   ],
   "source": [
    "import pandas as pd \n",
    "model.eval()\n",
    "true_values = []\n",
    "predictions = []\n",
    "variance = []\n",
    "with torch.no_grad():\n",
    "    n_correct = 0\n",
    "    n_samples = 0\n",
    "    for fingerprint, labels in test_loader:\n",
    "        fingerprint = fingerprint.to(device)\n",
    "        labels = labels.to(device)\n",
    "        mu, var = model(fingerprint)\n",
    "        true_values += labels.tolist()\n",
    "        predictions += mu.tolist()\n",
    "        variance += var.tolist()\n",
    "df = pd.DataFrame({'y_pred':predictions,'y_real':true_values, 'variance': variance})\n",
    "df = df.applymap(lambda x : x[0])\n",
    "df"
   ]
  },
  {
   "cell_type": "code",
   "execution_count": 24,
   "metadata": {},
   "outputs": [],
   "source": [
    "df.to_csv('/home/rajeckidoyle/Documents/Classification/BACE_Classification/regressionandunccertainty/results/datasets/MLE.csv')"
   ]
  },
  {
   "cell_type": "markdown",
   "metadata": {},
   "source": [
    "## Model Evaluation"
   ]
  },
  {
   "cell_type": "code",
   "execution_count": 15,
   "metadata": {},
   "outputs": [],
   "source": [
    "from sklearn import metrics"
   ]
  },
  {
   "cell_type": "code",
   "execution_count": 16,
   "metadata": {},
   "outputs": [
    {
     "data": {
      "text/plain": [
       "(0.45344289589327674, 0.4907983679189147, 0.7615611410954888)"
      ]
     },
     "execution_count": 16,
     "metadata": {},
     "output_type": "execute_result"
    }
   ],
   "source": [
    "mse = metrics.mean_squared_error(df[\"y_real\"],df[\"y_pred\"])\n",
    "mae = metrics.mean_absolute_error(df[\"y_real\"],df[\"y_pred\"])\n",
    "r = metrics.r2_score(df[\"y_real\"],df[\"y_pred\"])\n",
    "\n",
    "mse, mae, r"
   ]
  },
  {
   "cell_type": "code",
   "execution_count": 17,
   "metadata": {},
   "outputs": [
    {
     "data": {
      "image/png": "[encoded data removed]",
      "text/plain": [
       "<Figure size 432x288 with 2 Axes>"
      ]
     },
     "metadata": {
      "needs_background": "light"
     },
     "output_type": "display_data"
    }
   ],
   "source": [
    "import matplotlib.pyplot as plt\n",
    "import numpy as np\n",
    "\n",
    "# Generate data...\n",
    "x = df[\"y_real\"]\n",
    "y = df[\"y_pred\"]\n",
    "color = df['variance']\n",
    "plt.plot(np.unique(x), np.poly1d(np.polyfit(x, y, 1))(np.unique(x)))\n",
    "\n",
    "sc = plt.scatter(x, y, c=color, s=10, cmap='magma')\n",
    "cbar = plt.colorbar(sc)\n",
    "cbar.set_label('Predicted Variance')\n",
    "plt.xlabel('True pIC50')\n",
    "plt.ylabel('Predicted pIC50')\n",
    "plt.title('MLE Predicted Values Against True Values')\n",
    "plt.savefig('/home/rajeckidoyle/Documents/Classification/BACE_Classification/regressionandunccertainty/results/ground_truth/pvtMLE.jpeg', bbox_inches = 'tight', dpi=300)"
   ]
  },
  {
   "cell_type": "code",
   "execution_count": 18,
   "metadata": {},
   "outputs": [
    {
     "data": {
      "text/plain": [
       "0.6279811472262452"
      ]
     },
     "execution_count": 18,
     "metadata": {},
     "output_type": "execute_result"
    }
   ],
   "source": [
    "rho = np.corrcoef(df['y_real'],df['variance'])[0,1]\n",
    "rho"
   ]
  },
  {
   "cell_type": "code",
   "execution_count": 19,
   "metadata": {},
   "outputs": [
    {
     "data": {
      "image/png": "[encoded data removed]",
      "text/plain": [
       "<Figure size 432x288 with 1 Axes>"
      ]
     },
     "metadata": {
      "needs_background": "light"
     },
     "output_type": "display_data"
    }
   ],
   "source": [
    "plt.scatter(df['y_real'], df['variance'], s=10)\n",
    "plt.xlabel('True pIC50)')\n",
    "plt.ylabel('Predicted Variance')\n",
    "plt.plot(np.unique(df['y_real']), np.poly1d(np.polyfit(df['y_real'], df['variance'], 1))(np.unique(df['y_real'])), c='r')\n",
    "plt.title('MLE Predicted Variance Against True Values')\n",
    "plt.savefig('/home/rajeckidoyle/Documents/Classification/BACE_Classification/regressionandunccertainty/results/ground_truth/varvtMLE.jpeg', bbox_inches = 'tight', dpi=300)"
   ]
  },
  {
   "cell_type": "code",
   "execution_count": 20,
   "metadata": {},
   "outputs": [
    {
     "data": {
      "image/png": "[encoded data removed]",
      "text/plain": [
       "<Figure size 648x360 with 1 Axes>"
      ]
     },
     "metadata": {
      "needs_background": "light"
     },
     "output_type": "display_data"
    }
   ],
   "source": [
    "data_sorted_by_pred = df.sort_values('y_pred').reset_index()\n",
    "# Define variables to plot\n",
    "mu = data_sorted_by_pred['y_pred']\n",
    "x = mu.index\n",
    "# Compute upper and lower bounds using chosen uncertainty measure: here\n",
    "# it is a fraction of the standard deviation of measurements at each\n",
    "# time point based on the unbiased sample variance\n",
    "y_std = df['variance']\n",
    "error = y_std\n",
    "lower = mu - error\n",
    "upper = mu + error\n",
    "\n",
    "# Draw plot with error band and extra formatting to match seaborn style\n",
    "fig, ax = plt.subplots(figsize=(9,5))\n",
    "ax.scatter(x, data_sorted_by_pred['y_real'], label='pred mean', s=1)\n",
    "ax.plot(x, mu, label='pred mean')\n",
    "ax.plot(x, lower, color='tab:blue', alpha=0.1)\n",
    "ax.plot(x, upper, color='tab:blue', alpha=0.1)\n",
    "ax.fill_between(x, lower, upper, alpha=0.2)\n",
    "ax.set_xlabel('index')\n",
    "ax.set_ylabel('pIC50')\n",
    "ax.spines['top'].set_visible(False)\n",
    "ax.spines['right'].set_visible(False)\n",
    "plt.show()"
   ]
  },
  {
   "cell_type": "code",
   "execution_count": 21,
   "metadata": {},
   "outputs": [],
   "source": [
    "from sklearn import metrics\n",
    "from scipy.stats import stats\n",
    "def get_results(df):\n",
    "    mse = metrics.mean_squared_error(df[\"y_real\"],df[\"y_pred\"])\n",
    "    sc = stats.spearmanr(df[\"y_real\"],df[\"y_pred\"])[0]\n",
    "    pc = np.corrcoef(df['y_real'],df['y_pred'])[0,1]\n",
    "    r = metrics.r2_score(df[\"y_real\"],df[\"y_pred\"])\n",
    "    varcorr = np.corrcoef(df['y_real'], df['variance'])[0,1]\n",
    "\n",
    "    results = {\n",
    "        'Mean Square Error':mse,\n",
    "        'Spearman':sc,\n",
    "        'Pearson':pc,\n",
    "        'R':r,\n",
    "        'Variance Rho': varcorr,\n",
    "    }\n",
    "    results_df = pd.DataFrame([results])\n",
    "    return results_df\n",
    "\n",
    "get_results(df).to_csv('/home/rajeckidoyle/Documents/Classification/BACE_Classification/regressionandunccertainty/results/ground_truth/MLEresults.csv')"
   ]
  },
  {
   "cell_type": "code",
   "execution_count": 22,
   "metadata": {},
   "outputs": [
    {
     "data": {
      "text/html": [
       "<div>\n",
       "<style scoped>\n",
       "    .dataframe tbody tr th:only-of-type {\n",
       "        vertical-align: middle;\n",
       "    }\n",
       "\n",
       "    .dataframe tbody tr th {\n",
       "        vertical-align: top;\n",
       "    }\n",
       "\n",
       "    .dataframe thead th {\n",
       "        text-align: right;\n",
       "    }\n",
       "</style>\n",
       "<table border=\"1\" class=\"dataframe\">\n",
       "  <thead>\n",
       "    <tr style=\"text-align: right;\">\n",
       "      <th></th>\n",
       "      <th>Mean Square Error</th>\n",
       "      <th>Spearman</th>\n",
       "      <th>Pearson</th>\n",
       "      <th>R</th>\n",
       "      <th>Variance Rho</th>\n",
       "    </tr>\n",
       "  </thead>\n",
       "  <tbody>\n",
       "    <tr>\n",
       "      <th>0</th>\n",
       "      <td>0.453443</td>\n",
       "      <td>0.858556</td>\n",
       "      <td>0.874845</td>\n",
       "      <td>0.761561</td>\n",
       "      <td>0.627981</td>\n",
       "    </tr>\n",
       "  </tbody>\n",
       "</table>\n",
       "</div>"
      ],
      "text/plain": [
       "   Mean Square Error  Spearman   Pearson         R  Variance Rho\n",
       "0           0.453443  0.858556  0.874845  0.761561      0.627981"
      ]
     },
     "execution_count": 22,
     "metadata": {},
     "output_type": "execute_result"
    }
   ],
   "source": [
    "get_results(df)"
   ]
  }
 ],
 "metadata": {
  "interpreter": {
   "hash": "c4e88f5f6f0c037f170d8b5f2f59d1377880a8e4b384253995bdaa7b6b72e05d"
  },
  "kernelspec": {
   "display_name": "Python 3.8.12 ('my_torch_geometric')",
   "language": "python",
   "name": "python3"
  },
  "language_info": {
   "codemirror_mode": {
    "name": "ipython",
    "version": 3
   },
   "file_extension": ".py",
   "mimetype": "text/x-python",
   "name": "python",
   "nbconvert_exporter": "python",
   "pygments_lexer": "ipython3",
   "version": "3.8.12"
  },
  "orig_nbformat": 4
 },
 "nbformat": 4,
 "nbformat_minor": 2
}
