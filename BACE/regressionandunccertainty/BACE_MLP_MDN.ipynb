{
 "cells": [
  {
   "cell_type": "code",
   "execution_count": 1,
   "metadata": {},
   "outputs": [
    {
     "name": "stderr",
     "output_type": "stream",
     "text": [
      "/home/rajeckidoyle/miniconda3/envs/my_torch_geometric/lib/python3.8/site-packages/torch/cuda/__init__.py:82: UserWarning: CUDA initialization: Unexpected error from cudaGetDeviceCount(). Did you run some cuda functions before calling NumCudaDevices() that might have already set an error? Error 804: forward compatibility was attempted on non supported HW (Triggered internally at  /opt/conda/conda-bld/pytorch_1646755903507/work/c10/cuda/CUDAFunctions.cpp:112.)\n",
      "  return torch._C._cuda_getDeviceCount() > 0\n"
     ]
    }
   ],
   "source": [
    "from torch_geometric.datasets import MoleculeNet\n",
    "import torch\n",
    "import numpy as np"
   ]
  },
  {
   "cell_type": "markdown",
   "metadata": {},
   "source": [
    "## Import Dataset"
   ]
  },
  {
   "cell_type": "code",
   "execution_count": 2,
   "metadata": {},
   "outputs": [],
   "source": [
    "import torchvision\n",
    "from torch.utils.data import Dataset, DataLoader\n",
    "import numpy as np\n",
    "import math\n",
    "\n",
    "class FingerprintDataset(Dataset):\n",
    "    def __init__(self,split):\n",
    "        # Initialize data, download, etc.\n",
    "        # read with numpy or pandas\n",
    "        xy = np.loadtxt(f'./fingerprints/bace_reverse_split_{split}.csv', delimiter=',', dtype=np.float32, skiprows=1)\n",
    "\n",
    "        self.x = torch.from_numpy(xy[:,1:])\n",
    "        self.y = torch.from_numpy(xy[:,[0]])\n",
    "        self.n_samples = xy.shape[0]\n",
    "\n",
    "    # support indexing such that dataset[i] can be used to get i-th sample\n",
    "    def __getitem__(self, index):\n",
    "        return self.x[index], self.y[index]\n",
    "\n",
    "    # we can call len(dataset) to return the size\n",
    "    def __len__(self):\n",
    "        return self.n_samples"
   ]
  },
  {
   "cell_type": "code",
   "execution_count": 3,
   "metadata": {},
   "outputs": [],
   "source": [
    "train_dataset = FingerprintDataset(split='train')\n",
    "test_dataset = FingerprintDataset(split='test')"
   ]
  },
  {
   "cell_type": "code",
   "execution_count": 4,
   "metadata": {},
   "outputs": [],
   "source": [
    "#Specify device\n",
    "device = torch.device(\"cuda:1\" if torch.cuda.is_available() else \"cpu\")"
   ]
  },
  {
   "cell_type": "markdown",
   "metadata": {},
   "source": [
    "## Set Hyperparameters"
   ]
  },
  {
   "cell_type": "code",
   "execution_count": 5,
   "metadata": {},
   "outputs": [],
   "source": [
    "import best_config\n",
    "\n",
    "no_of_epochs = best_config.GLOBALPARAMETERS['no_of_epochs']\n",
    "train_size = best_config.GLOBALPARAMETERS['train_size']\n",
    "valid_size = best_config.GLOBALPARAMETERS['valid_size']"
   ]
  },
  {
   "cell_type": "code",
   "execution_count": 6,
   "metadata": {},
   "outputs": [],
   "source": [
    "#Get Model Parameters\n",
    "hyperparameters = eval('best_config.'+'MLP_MDN'+'_HYPERPARAMETERS')\n",
    "\n",
    "model_params = hyperparameters\n",
    "model_params['feature_size'] = train_dataset.x.shape[1]"
   ]
  },
  {
   "cell_type": "markdown",
   "metadata": {},
   "source": [
    "## Define Model"
   ]
  },
  {
   "cell_type": "code",
   "execution_count": 7,
   "metadata": {},
   "outputs": [],
   "source": [
    "def count_parameters(model):\n",
    "    return sum(p.numel() for p in model.parameters() if p.requires_grad)"
   ]
  },
  {
   "cell_type": "code",
   "execution_count": 8,
   "metadata": {},
   "outputs": [
    {
     "data": {
      "text/plain": [
       "{'has_edge_info': False,\n",
       " 'batch_size': 32,\n",
       " 'learning_rate': 4.13e-05,\n",
       " 'model_layers': 3,\n",
       " 'model_embedding_size': 64,\n",
       " 'model_dense_neurons': 256,\n",
       " 'model_linear_dropout_rate': 0.181,\n",
       " 'model_embedding_dropout_rate': 0.193,\n",
       " 'no_of_gaussians': 3,\n",
       " 'feature_size': 1024}"
      ]
     },
     "execution_count": 8,
     "metadata": {},
     "output_type": "execute_result"
    }
   ],
   "source": [
    "model_params"
   ]
  },
  {
   "cell_type": "code",
   "execution_count": 9,
   "metadata": {},
   "outputs": [
    {
     "name": "stdout",
     "output_type": "stream",
     "text": [
      "Loading model...\n",
      "MLP_MDN(\n",
      "  (conv_layers): ModuleList(\n",
      "    (0): Linear(in_features=64, out_features=64, bias=True)\n",
      "    (1): Linear(in_features=64, out_features=64, bias=True)\n",
      "  )\n",
      "  (bn_layers): ModuleList(\n",
      "    (0): BatchNorm1d(64, eps=1e-05, momentum=0.1, affine=True, track_running_stats=True)\n",
      "    (1): BatchNorm1d(64, eps=1e-05, momentum=0.1, affine=True, track_running_stats=True)\n",
      "  )\n",
      "  (initial_conv): Linear(in_features=1024, out_features=64, bias=True)\n",
      "  (embedding_dropout): Dropout(p=0.193, inplace=False)\n",
      "  (linear_dropout): Dropout(p=0.181, inplace=False)\n",
      "  (readout1): Linear(in_features=64, out_features=256, bias=True)\n",
      "  (mu): Linear(in_features=256, out_features=3, bias=True)\n",
      "  (readout2): Linear(in_features=64, out_features=256, bias=True)\n",
      "  (sigma): Linear(in_features=256, out_features=3, bias=True)\n",
      "  (readout3): Linear(in_features=64, out_features=256, bias=True)\n",
      "  (alpha): Linear(in_features=256, out_features=3, bias=True)\n",
      ")\n",
      "126409\n"
     ]
    }
   ],
   "source": [
    "import models\n",
    "print(\"Loading model...\")\n",
    "\n",
    "#Create instance of model\n",
    "model = eval('models.'+'MLP_MDN'+'(model_params)')\n",
    "print(model)\n",
    "print(count_parameters(model))"
   ]
  },
  {
   "cell_type": "code",
   "execution_count": 10,
   "metadata": {},
   "outputs": [],
   "source": [
    "model = model.to(device)"
   ]
  },
  {
   "cell_type": "code",
   "execution_count": 11,
   "metadata": {},
   "outputs": [],
   "source": [
    "from torch.utils.data import DataLoader\n",
    "import warnings\n",
    "warnings.filterwarnings(\"ignore\")\n",
    "\n",
    "# Root mean squared error\n",
    "# Root mean squared error\n",
    "loss_fn = torch.nn.MSELoss()\n",
    "optimizer = torch.optim.Adam(model.parameters(), lr=0.007, weight_decay=0.0001)  \n",
    "\n",
    "# Root mean squared error\n",
    "loss_fn = torch.nn.MSELoss()\n",
    "optimizer = torch.optim.Adam(model.parameters(), lr=0.007, weight_decay=0.0001)  \n",
    "\n",
    "NUM_FINGERPRINTS_PER_BATCH = model_params['batch_size']\n",
    "train_loader = DataLoader(train_dataset, \n",
    "                    batch_size=NUM_FINGERPRINTS_PER_BATCH, shuffle=True)\n",
    "test_loader = DataLoader(test_dataset, \n",
    "                    batch_size=NUM_FINGERPRINTS_PER_BATCH, shuffle=True)"
   ]
  },
  {
   "cell_type": "markdown",
   "metadata": {},
   "source": [
    "## Training Loop"
   ]
  },
  {
   "cell_type": "code",
   "execution_count": 12,
   "metadata": {},
   "outputs": [],
   "source": [
    "class Engine:\n",
    "    def __init__(self, model, model_params, optimizer, device, loss_fn):\n",
    "        self.model = model\n",
    "        self.model_params = model_params\n",
    "        self.optimizer = optimizer\n",
    "        self.device = device\n",
    "        self.loss_fn = loss_fn\n",
    "\n",
    "    def train(self, loader):\n",
    "        self.model.train()\n",
    "        # Enumerate over the data\n",
    "        final_loss = 0\n",
    "        for i, (fingerprint, labels) in enumerate(loader):  \n",
    "            fingerprint = fingerprint.to(self.device)\n",
    "            labels = labels.to(self.device)\n",
    "            \n",
    "            # Forward pass\n",
    "            mus, sigmas, alphas = self.model(fingerprint)\n",
    "            loss = self.loss_fn(mus, labels, sigmas, alphas)\n",
    "            # Backward and optimize\n",
    "            self.optimizer.zero_grad()\n",
    "            final_loss += loss.item()\n",
    "            loss.backward()\n",
    "            self.optimizer.step() \n",
    "        return final_loss / len(loader)\n",
    "    '''\n",
    "    def evaluate(self, loader):\n",
    "            self.model.eval()\n",
    "            # Enumerate over the data\n",
    "            final_loss = 0\n",
    "            for i, (fingerprint, labels) in enumerate(loader):  \n",
    "                fingerprint = fingerprint.to(self.device)\n",
    "                labels = labels.to(self.device)\n",
    "                \n",
    "                # Forward pass\n",
    "                mus, sigmas, alphas = self.model(fingerprint)\n",
    "                loss = self.loss_fn(mus, labels, sigmas, alphas)\n",
    "                # Backward and optimize\n",
    "                final_loss += loss.item()\n",
    "            return final_loss / len(loader)\n",
    "    '''"
   ]
  },
  {
   "cell_type": "code",
   "execution_count": 13,
   "metadata": {},
   "outputs": [],
   "source": [
    "from torch.distributions.mixture_same_family import MixtureSameFamily\n",
    "from torch.distributions import Categorical, Normal\n",
    "\n",
    "def mdn_loss(mu, y, sigma, alphas):\n",
    "    gmm = MixtureSameFamily(\n",
    "            mixture_distribution=Categorical(probs=alphas),\n",
    "            component_distribution=Normal(\n",
    "                loc=mu,       \n",
    "                scale=sigma))\n",
    "    log_likelihood = gmm.log_prob(y.t())\n",
    "    return -torch.mean(log_likelihood, axis=1)"
   ]
  },
  {
   "cell_type": "code",
   "execution_count": 14,
   "metadata": {},
   "outputs": [
    {
     "name": "stdout",
     "output_type": "stream",
     "text": [
      "Starting training...\n",
      "Epoch 0 | Train Loss 15.20319860859921\n",
      "Epoch 10 | Train Loss 4.699041341480456\n",
      "Epoch 20 | Train Loss 3.402106372933639\n",
      "Epoch 30 | Train Loss 3.1024567390743054\n",
      "Epoch 40 | Train Loss 2.9193517785323295\n",
      "Epoch 50 | Train Loss 2.6884438866063167\n",
      "Epoch 60 | Train Loss 2.3239567028848747\n",
      "Epoch 70 | Train Loss 1.8894260839412087\n",
      "Epoch 80 | Train Loss 1.6654293380285565\n",
      "Epoch 90 | Train Loss 1.5975309892704612\n",
      "Epoch 100 | Train Loss 1.5243908480594033\n",
      "Epoch 110 | Train Loss 1.4375865867263393\n",
      "Epoch 120 | Train Loss 1.4182850749869096\n",
      "Epoch 130 | Train Loss 1.3708910440143787\n",
      "Epoch 140 | Train Loss 1.2979595127858614\n",
      "Epoch 150 | Train Loss 1.2844376814992804\n",
      "Epoch 160 | Train Loss 1.2768574466830807\n",
      "Epoch 170 | Train Loss 1.2492343532411676\n",
      "Epoch 180 | Train Loss 1.2143408263984479\n",
      "Epoch 190 | Train Loss 1.1914145632794029\n"
     ]
    }
   ],
   "source": [
    "optimizer = torch.optim.Adam(model.parameters(), lr=model_params['learning_rate'])  \n",
    "\n",
    "eng = Engine(model, model_params, optimizer, device, mdn_loss)\n",
    "\n",
    "print(\"Starting training...\")\n",
    "losses = []\n",
    "for epoch in range(no_of_epochs):\n",
    "    loss = eng.train(train_loader)\n",
    "    losses.append(loss)\n",
    "    if epoch % 10 == 0:\n",
    "        print(f\"Epoch {epoch} | Train Loss {loss}\")"
   ]
  },
  {
   "cell_type": "markdown",
   "metadata": {},
   "source": [
    "## Evaluate on the Test Set"
   ]
  },
  {
   "cell_type": "code",
   "execution_count": 15,
   "metadata": {},
   "outputs": [
    {
     "data": {
      "text/html": [
       "<div>\n",
       "<style scoped>\n",
       "    .dataframe tbody tr th:only-of-type {\n",
       "        vertical-align: middle;\n",
       "    }\n",
       "\n",
       "    .dataframe tbody tr th {\n",
       "        vertical-align: top;\n",
       "    }\n",
       "\n",
       "    .dataframe thead th {\n",
       "        text-align: right;\n",
       "    }\n",
       "</style>\n",
       "<table border=\"1\" class=\"dataframe\">\n",
       "  <thead>\n",
       "    <tr style=\"text-align: right;\">\n",
       "      <th></th>\n",
       "      <th>y_pred</th>\n",
       "      <th>y_real</th>\n",
       "      <th>variance</th>\n",
       "    </tr>\n",
       "  </thead>\n",
       "  <tbody>\n",
       "    <tr>\n",
       "      <th>0</th>\n",
       "      <td>6.759809</td>\n",
       "      <td>6.841638</td>\n",
       "      <td>0.544959</td>\n",
       "    </tr>\n",
       "    <tr>\n",
       "      <th>1</th>\n",
       "      <td>3.602256</td>\n",
       "      <td>4.533133</td>\n",
       "      <td>0.529036</td>\n",
       "    </tr>\n",
       "    <tr>\n",
       "      <th>2</th>\n",
       "      <td>6.699072</td>\n",
       "      <td>7.040958</td>\n",
       "      <td>0.623414</td>\n",
       "    </tr>\n",
       "    <tr>\n",
       "      <th>3</th>\n",
       "      <td>4.656194</td>\n",
       "      <td>5.244125</td>\n",
       "      <td>0.571655</td>\n",
       "    </tr>\n",
       "    <tr>\n",
       "      <th>4</th>\n",
       "      <td>6.946276</td>\n",
       "      <td>8.080922</td>\n",
       "      <td>0.661765</td>\n",
       "    </tr>\n",
       "    <tr>\n",
       "      <th>...</th>\n",
       "      <td>...</td>\n",
       "      <td>...</td>\n",
       "      <td>...</td>\n",
       "    </tr>\n",
       "    <tr>\n",
       "      <th>298</th>\n",
       "      <td>5.645339</td>\n",
       "      <td>5.207608</td>\n",
       "      <td>0.687781</td>\n",
       "    </tr>\n",
       "    <tr>\n",
       "      <th>299</th>\n",
       "      <td>5.122633</td>\n",
       "      <td>5.515700</td>\n",
       "      <td>0.655970</td>\n",
       "    </tr>\n",
       "    <tr>\n",
       "      <th>300</th>\n",
       "      <td>7.182846</td>\n",
       "      <td>7.017729</td>\n",
       "      <td>0.579458</td>\n",
       "    </tr>\n",
       "    <tr>\n",
       "      <th>301</th>\n",
       "      <td>4.090981</td>\n",
       "      <td>4.026872</td>\n",
       "      <td>0.584409</td>\n",
       "    </tr>\n",
       "    <tr>\n",
       "      <th>302</th>\n",
       "      <td>5.550453</td>\n",
       "      <td>5.187087</td>\n",
       "      <td>1.077208</td>\n",
       "    </tr>\n",
       "  </tbody>\n",
       "</table>\n",
       "<p>303 rows × 3 columns</p>\n",
       "</div>"
      ],
      "text/plain": [
       "       y_pred    y_real  variance\n",
       "0    6.759809  6.841638  0.544959\n",
       "1    3.602256  4.533133  0.529036\n",
       "2    6.699072  7.040958  0.623414\n",
       "3    4.656194  5.244125  0.571655\n",
       "4    6.946276  8.080922  0.661765\n",
       "..        ...       ...       ...\n",
       "298  5.645339  5.207608  0.687781\n",
       "299  5.122633  5.515700  0.655970\n",
       "300  7.182846  7.017729  0.579458\n",
       "301  4.090981  4.026872  0.584409\n",
       "302  5.550453  5.187087  1.077208\n",
       "\n",
       "[303 rows x 3 columns]"
      ]
     },
     "execution_count": 15,
     "metadata": {},
     "output_type": "execute_result"
    }
   ],
   "source": [
    "from torch.distributions.mixture_same_family import MixtureSameFamily\n",
    "from torch.distributions import Categorical, Normal\n",
    "\n",
    "import pandas as pd \n",
    "model.eval()\n",
    "true_values = []\n",
    "predictions = []\n",
    "variance = []\n",
    "alphas = []\n",
    "with torch.no_grad():\n",
    "    for fingerprint, labels in test_loader:\n",
    "        fingerprint = fingerprint.to(device)\n",
    "        labels = labels.to(device)\n",
    "        mus, sigmas, alphas = model(fingerprint)\n",
    "        gmm = MixtureSameFamily(\n",
    "            mixture_distribution=Categorical(probs=alphas),\n",
    "            component_distribution=Normal(\n",
    "                loc=mus,       \n",
    "                scale=sigmas))\n",
    "        mean = gmm.mean.cpu().tolist()\n",
    "        var = gmm.variance.cpu().tolist()\n",
    "        labels = labels.cpu().tolist()\n",
    "        predictions += mean\n",
    "        true_values += labels\n",
    "        variance += var\n",
    "df = pd.DataFrame({'y_pred':predictions,'y_real':true_values, 'variance': variance})\n",
    "df['y_real'] = df['y_real'].apply(lambda x : x[0])\n",
    "df"
   ]
  },
  {
   "cell_type": "code",
   "execution_count": 23,
   "metadata": {},
   "outputs": [],
   "source": [
    "df.to_csv('/home/rajeckidoyle/Documents/Classification/BACE_Classification/regressionandunccertainty/results/datasets/MDN.csv')"
   ]
  },
  {
   "cell_type": "markdown",
   "metadata": {},
   "source": [
    "## Model Evaluation"
   ]
  },
  {
   "cell_type": "code",
   "execution_count": 16,
   "metadata": {},
   "outputs": [],
   "source": [
    "from sklearn import metrics"
   ]
  },
  {
   "cell_type": "code",
   "execution_count": 17,
   "metadata": {},
   "outputs": [
    {
     "data": {
      "image/png": "[encoded data removed]",
      "text/plain": [
       "<Figure size 432x288 with 2 Axes>"
      ]
     },
     "metadata": {
      "needs_background": "light"
     },
     "output_type": "display_data"
    }
   ],
   "source": [
    "import matplotlib.pyplot as plt\n",
    "import numpy as np\n",
    "\n",
    "# Generate data...\n",
    "x = df[\"y_real\"]\n",
    "y = df[\"y_pred\"]\n",
    "color = df['variance']\n",
    "plt.plot(np.unique(x), np.poly1d(np.polyfit(x, y, 1))(np.unique(x)))\n",
    "\n",
    "sc = plt.scatter(x, y, c=color, s=10, cmap='magma')\n",
    "cbar = plt.colorbar(sc)\n",
    "cbar.set_label('Predicted Variance')\n",
    "plt.xlabel('True pIC50')\n",
    "plt.ylabel('Predicted pIC50')\n",
    "plt.title('MDN Predicted Values Against True Values')\n",
    "plt.savefig('/home/rajeckidoyle/Documents/Classification/BACE_Classification/regressionandunccertainty/results/ground_truth/pvtMDN.jpeg', bbox_inches = 'tight', dpi=300)"
   ]
  },
  {
   "cell_type": "code",
   "execution_count": 18,
   "metadata": {},
   "outputs": [
    {
     "data": {
      "image/png": "[encoded data removed]",
      "text/plain": [
       "<Figure size 432x288 with 1 Axes>"
      ]
     },
     "metadata": {
      "needs_background": "light"
     },
     "output_type": "display_data"
    }
   ],
   "source": [
    "df.plot.scatter(x='y_pred',y='variance')\n",
    "plt.plot(np.unique(df['y_real']), np.poly1d(np.polyfit(df['y_real'], df['variance'], 1))(np.unique(df['y_real'])), c='r')\n",
    "plt.xlabel('True pIC50')\n",
    "plt.ylabel('Predicted Variance')\n",
    "plt.title('MDN Predicted Variance Against True Values')\n",
    "plt.savefig('/home/rajeckidoyle/Documents/Classification/BACE_Classification/regressionandunccertainty/results/ground_truth/varvtMDN.jpeg', bbox_inches = 'tight', dpi=300)"
   ]
  },
  {
   "cell_type": "code",
   "execution_count": 19,
   "metadata": {},
   "outputs": [
    {
     "data": {
      "image/png": "[encoded data removed]",
      "text/plain": [
       "<Figure size 648x360 with 1 Axes>"
      ]
     },
     "metadata": {
      "needs_background": "light"
     },
     "output_type": "display_data"
    }
   ],
   "source": [
    "data_sorted_by_pred = df.sort_values('y_pred').reset_index()\n",
    "# Define variables to plot\n",
    "mu = data_sorted_by_pred['y_pred']\n",
    "x = mu.index\n",
    "# Compute upper and lower bounds using chosen uncertainty measure: here\n",
    "# it is a fraction of the standard deviation of measurements at each\n",
    "# time point based on the unbiased sample variance\n",
    "y_std = df['variance']**0.5\n",
    "error = 2*y_std\n",
    "lower = mu - error\n",
    "upper = mu + error\n",
    "\n",
    "# Draw plot with error band and extra formatting to match seaborn style\n",
    "fig, ax = plt.subplots(figsize=(9,5))\n",
    "ax.scatter(x, data_sorted_by_pred['y_real'], label='pred mean', s=1)\n",
    "ax.plot(x, mu, label='pred mean')\n",
    "ax.plot(x, lower, color='tab:blue', alpha=0.1)\n",
    "ax.plot(x, upper, color='tab:blue', alpha=0.1)\n",
    "ax.fill_between(x, lower, upper, alpha=0.2)\n",
    "ax.set_xlabel('index')\n",
    "ax.set_ylabel('pIC50')\n",
    "ax.spines['top'].set_visible(False)\n",
    "ax.spines['right'].set_visible(False)\n",
    "plt.title('MDN with Error Bars')\n",
    "plt.savefig('/home/rajeckidoyle/Documents/Classification/BACE_Classification/regressionandunccertainty/results/ground_truth/MDNerr.jpeg', bbox_inches = 'tight', dpi=300)"
   ]
  },
  {
   "cell_type": "code",
   "execution_count": 20,
   "metadata": {},
   "outputs": [],
   "source": [
    "from sklearn import metrics\n",
    "from scipy.stats import stats\n",
    "def get_results(df):\n",
    "    mse = metrics.mean_squared_error(df[\"y_real\"],df[\"y_pred\"])\n",
    "    sc = stats.spearmanr(df[\"y_real\"],df[\"y_pred\"])[0]\n",
    "    pc = np.corrcoef(df['y_real'],df['y_pred'])[0,1]\n",
    "    r = metrics.r2_score(df[\"y_real\"],df[\"y_pred\"])\n",
    "    varcorr = np.corrcoef(df['y_real'], df['variance'])[0,1]\n",
    "\n",
    "    results = {\n",
    "        'Mean Square Error':mse,\n",
    "        'Spearman':sc,\n",
    "        'Pearson':pc,\n",
    "        'R':r,\n",
    "        'Variance Rho': varcorr,\n",
    "    }\n",
    "    results_df = pd.DataFrame([results])\n",
    "    return results_df\n",
    "\n",
    "get_results(df).to_csv('/home/rajeckidoyle/Documents/Classification/BACE_Classification/regressionandunccertainty/results/ground_truth/MDNresults.csv')"
   ]
  },
  {
   "cell_type": "code",
   "execution_count": 21,
   "metadata": {},
   "outputs": [
    {
     "data": {
      "text/html": [
       "<div>\n",
       "<style scoped>\n",
       "    .dataframe tbody tr th:only-of-type {\n",
       "        vertical-align: middle;\n",
       "    }\n",
       "\n",
       "    .dataframe tbody tr th {\n",
       "        vertical-align: top;\n",
       "    }\n",
       "\n",
       "    .dataframe thead th {\n",
       "        text-align: right;\n",
       "    }\n",
       "</style>\n",
       "<table border=\"1\" class=\"dataframe\">\n",
       "  <thead>\n",
       "    <tr style=\"text-align: right;\">\n",
       "      <th></th>\n",
       "      <th>Mean Square Error</th>\n",
       "      <th>Spearman</th>\n",
       "      <th>Pearson</th>\n",
       "      <th>R</th>\n",
       "      <th>Variance Rho</th>\n",
       "    </tr>\n",
       "  </thead>\n",
       "  <tbody>\n",
       "    <tr>\n",
       "      <th>0</th>\n",
       "      <td>0.958032</td>\n",
       "      <td>0.787527</td>\n",
       "      <td>0.813562</td>\n",
       "      <td>0.496228</td>\n",
       "      <td>-0.004158</td>\n",
       "    </tr>\n",
       "  </tbody>\n",
       "</table>\n",
       "</div>"
      ],
      "text/plain": [
       "   Mean Square Error  Spearman   Pearson         R  Variance Rho\n",
       "0           0.958032  0.787527  0.813562  0.496228     -0.004158"
      ]
     },
     "execution_count": 21,
     "metadata": {},
     "output_type": "execute_result"
    }
   ],
   "source": [
    "get_results(df)"
   ]
  }
 ],
 "metadata": {
  "interpreter": {
   "hash": "c4e88f5f6f0c037f170d8b5f2f59d1377880a8e4b384253995bdaa7b6b72e05d"
  },
  "kernelspec": {
   "display_name": "Python 3.8.12 ('my_torch_geometric')",
   "language": "python",
   "name": "python3"
  },
  "language_info": {
   "codemirror_mode": {
    "name": "ipython",
    "version": 3
   },
   "file_extension": ".py",
   "mimetype": "text/x-python",
   "name": "python",
   "nbconvert_exporter": "python",
   "pygments_lexer": "ipython3",
   "version": "3.8.12"
  },
  "orig_nbformat": 4
 },
 "nbformat": 4,
 "nbformat_minor": 2
}
