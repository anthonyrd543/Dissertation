{
 "cells": [
  {
   "cell_type": "code",
   "execution_count": 1,
   "metadata": {},
   "outputs": [],
   "source": [
    "from torch_geometric.datasets import MoleculeNet\n",
    "import torch\n",
    "import numpy as np"
   ]
  },
  {
   "cell_type": "markdown",
   "metadata": {},
   "source": [
    "## Import Dataset"
   ]
  },
  {
   "cell_type": "code",
   "execution_count": 2,
   "metadata": {},
   "outputs": [],
   "source": [
    "import torchvision\n",
    "from torch.utils.data import Dataset, DataLoader\n",
    "import numpy as np\n",
    "import math\n",
    "\n",
    "class FingerprintDataset(Dataset):\n",
    "    def __init__(self):\n",
    "        # Initialize data, download, etc.\n",
    "        # read with numpy or pandas\n",
    "        xy = np.loadtxt(f'./fingerprints/bace_fingerprints_classification.csv', delimiter=',', dtype=np.float32, skiprows=1)\n",
    "\n",
    "        self.x = torch.from_numpy(xy[:,1:])\n",
    "        self.y = torch.from_numpy(xy[:,[0]])\n",
    "        self.n_samples = xy.shape[0]\n",
    "\n",
    "    # support indexing such that dataset[i] can be used to get i-th sample\n",
    "    def __getitem__(self, index):\n",
    "        return self.x[index], self.y[index]\n",
    "\n",
    "    # we can call len(dataset) to return the size\n",
    "    def __len__(self):\n",
    "        return self.n_samples"
   ]
  },
  {
   "cell_type": "code",
   "execution_count": 3,
   "metadata": {},
   "outputs": [],
   "source": [
    "data = FingerprintDataset()"
   ]
  },
  {
   "cell_type": "code",
   "execution_count": 4,
   "metadata": {},
   "outputs": [],
   "source": [
    "#Specify device\n",
    "device = torch.device(\"cuda:1\" if torch.cuda.is_available() else \"cpu\")"
   ]
  },
  {
   "cell_type": "markdown",
   "metadata": {},
   "source": [
    "## Set Hyperparameters"
   ]
  },
  {
   "cell_type": "code",
   "execution_count": 5,
   "metadata": {},
   "outputs": [],
   "source": [
    "import best_config\n",
    "\n",
    "#Get Model Parameters\n",
    "hyperparameters = eval('best_config.'+best_config.GLOBALPARAMETERS['model_this_run']+'_HYPERPARAMETERS')\n",
    "\n",
    "model_params = hyperparameters\n",
    "model_params['feature_size'] = data.x.shape[1]"
   ]
  },
  {
   "cell_type": "markdown",
   "metadata": {},
   "source": [
    "## Define Model"
   ]
  },
  {
   "cell_type": "code",
   "execution_count": 6,
   "metadata": {},
   "outputs": [],
   "source": [
    "def count_parameters(model):\n",
    "    return sum(p.numel() for p in model.parameters() if p.requires_grad)"
   ]
  },
  {
   "cell_type": "code",
   "execution_count": 7,
   "metadata": {},
   "outputs": [
    {
     "data": {
      "text/plain": [
       "{'has_edge_info': False,\n",
       " 'batch_size': 64,\n",
       " 'learning_rate': 0.000986,\n",
       " 'model_layers': 2,\n",
       " 'model_embedding_size': 512,\n",
       " 'model_dense_neurons': 64,\n",
       " 'model_linear_dropout_rate': 0.0211,\n",
       " 'model_embedding_dropout_rate': 0.149,\n",
       " 'feature_size': 1016}"
      ]
     },
     "execution_count": 7,
     "metadata": {},
     "output_type": "execute_result"
    }
   ],
   "source": [
    "model_params"
   ]
  },
  {
   "cell_type": "code",
   "execution_count": 8,
   "metadata": {},
   "outputs": [
    {
     "name": "stdout",
     "output_type": "stream",
     "text": [
      "Loading model...\n",
      "MLP(\n",
      "  (conv_layers): ModuleList(\n",
      "    (0): Linear(in_features=512, out_features=512, bias=True)\n",
      "  )\n",
      "  (initial_conv): Linear(in_features=1016, out_features=512, bias=True)\n",
      "  (embedding_dropout): Dropout(p=0.149, inplace=False)\n",
      "  (linear_dropout): Dropout(p=0.0211, inplace=False)\n",
      "  (linear): Linear(in_features=512, out_features=64, bias=True)\n",
      "  (out): Linear(in_features=64, out_features=1, bias=True)\n",
      ")\n",
      "816257\n"
     ]
    }
   ],
   "source": [
    "import models\n",
    "print(\"Loading model...\")\n",
    "\n",
    "#Create instance of model\n",
    "model = eval('models.'+best_config.GLOBALPARAMETERS['model_this_run']+'(model_params)')\n",
    "print(model)\n",
    "print(count_parameters(model))"
   ]
  },
  {
   "cell_type": "code",
   "execution_count": 9,
   "metadata": {},
   "outputs": [],
   "source": [
    "model = model.to(device)"
   ]
  },
  {
   "cell_type": "code",
   "execution_count": 10,
   "metadata": {},
   "outputs": [
    {
     "ename": "NameError",
     "evalue": "name 'train_dataset' is not defined",
     "output_type": "error",
     "traceback": [
      "\u001b[0;31m---------------------------------------------------------------------------\u001b[0m",
      "\u001b[0;31mNameError\u001b[0m                                 Traceback (most recent call last)",
      "\u001b[1;32m/home/rajeckidoyle/Documents/Classification/BACE_Classification/model_benchmarks/BACE_MLP_train.ipynb Cell 13'\u001b[0m in \u001b[0;36m<cell line: 12>\u001b[0;34m()\u001b[0m\n\u001b[1;32m      <a href='vscode-notebook-cell://ssh-remote%2Bphoenix.maths/home/rajeckidoyle/Documents/Classification/BACE_Classification/model_benchmarks/BACE_MLP_train.ipynb#ch0000012vscode-remote?line=8'>9</a>\u001b[0m NUM_FINGERPRINTS_PER_BATCH \u001b[39m=\u001b[39m model_params[\u001b[39m'\u001b[39m\u001b[39mbatch_size\u001b[39m\u001b[39m'\u001b[39m]\n\u001b[1;32m     <a href='vscode-notebook-cell://ssh-remote%2Bphoenix.maths/home/rajeckidoyle/Documents/Classification/BACE_Classification/model_benchmarks/BACE_MLP_train.ipynb#ch0000012vscode-remote?line=10'>11</a>\u001b[0m \u001b[39m# Wrap data in a data loader\u001b[39;00m\n\u001b[0;32m---> <a href='vscode-notebook-cell://ssh-remote%2Bphoenix.maths/home/rajeckidoyle/Documents/Classification/BACE_Classification/model_benchmarks/BACE_MLP_train.ipynb#ch0000012vscode-remote?line=11'>12</a>\u001b[0m train_loader \u001b[39m=\u001b[39m DataLoader(train_dataset, \n\u001b[1;32m     <a href='vscode-notebook-cell://ssh-remote%2Bphoenix.maths/home/rajeckidoyle/Documents/Classification/BACE_Classification/model_benchmarks/BACE_MLP_train.ipynb#ch0000012vscode-remote?line=12'>13</a>\u001b[0m                     batch_size\u001b[39m=\u001b[39mNUM_FINGERPRINTS_PER_BATCH, shuffle\u001b[39m=\u001b[39m\u001b[39mTrue\u001b[39;00m)\n\u001b[1;32m     <a href='vscode-notebook-cell://ssh-remote%2Bphoenix.maths/home/rajeckidoyle/Documents/Classification/BACE_Classification/model_benchmarks/BACE_MLP_train.ipynb#ch0000012vscode-remote?line=13'>14</a>\u001b[0m valid_loader \u001b[39m=\u001b[39m DataLoader(valid_dataset, \n\u001b[1;32m     <a href='vscode-notebook-cell://ssh-remote%2Bphoenix.maths/home/rajeckidoyle/Documents/Classification/BACE_Classification/model_benchmarks/BACE_MLP_train.ipynb#ch0000012vscode-remote?line=14'>15</a>\u001b[0m                     batch_size\u001b[39m=\u001b[39mNUM_FINGERPRINTS_PER_BATCH, shuffle\u001b[39m=\u001b[39m\u001b[39mTrue\u001b[39;00m)\n\u001b[1;32m     <a href='vscode-notebook-cell://ssh-remote%2Bphoenix.maths/home/rajeckidoyle/Documents/Classification/BACE_Classification/model_benchmarks/BACE_MLP_train.ipynb#ch0000012vscode-remote?line=15'>16</a>\u001b[0m test_loader \u001b[39m=\u001b[39m DataLoader(test_dataset, \n\u001b[1;32m     <a href='vscode-notebook-cell://ssh-remote%2Bphoenix.maths/home/rajeckidoyle/Documents/Classification/BACE_Classification/model_benchmarks/BACE_MLP_train.ipynb#ch0000012vscode-remote?line=16'>17</a>\u001b[0m                     batch_size\u001b[39m=\u001b[39mNUM_FINGERPRINTS_PER_BATCH, shuffle\u001b[39m=\u001b[39m\u001b[39mTrue\u001b[39;00m)\n",
      "\u001b[0;31mNameError\u001b[0m: name 'train_dataset' is not defined"
     ]
    }
   ],
   "source": [
    "from torch.utils.data import DataLoader\n",
    "import warnings\n",
    "warnings.filterwarnings(\"ignore\")\n",
    "\n",
    "# Root mean squared error\n",
    "loss_fn = torch.nn.BCELoss()\n",
    "optimizer = torch.optim.Adam(model.parameters(), lr=model_params['learning_rate'])  \n",
    "\n",
    "train_size = 0.15\n",
    "valid_size = train_size + 0.05\n",
    "\n",
    "train = int(train_size * len(data))\n",
    "valid = int(valid_size * len(data))\n",
    "test = len(data) - train - valid\n",
    "train_dataset, valid_dataset, test_dataset = torch.utils.data.random_split(data, [train, valid, test])\n",
    "\n",
    "NUM_FINGERPRINTS_PER_BATCH = model_params['batch_size']\n",
    "\n",
    "# Wrap data in a data loader\n",
    "train_loader = DataLoader(train_dataset, \n",
    "                    batch_size=NUM_FINGERPRINTS_PER_BATCH, shuffle=True)\n",
    "valid_loader = DataLoader(valid_dataset, \n",
    "                    batch_size=NUM_FINGERPRINTS_PER_BATCH, shuffle=True)\n",
    "test_loader = DataLoader(test_dataset, \n",
    "                    batch_size=NUM_FINGERPRINTS_PER_BATCH, shuffle=True)"
   ]
  },
  {
   "cell_type": "markdown",
   "metadata": {},
   "source": [
    "## Training Loop"
   ]
  },
  {
   "cell_type": "code",
   "execution_count": null,
   "metadata": {},
   "outputs": [
    {
     "name": "stdout",
     "output_type": "stream",
     "text": [
      "Starting training...\n",
      "Epoch 0 | Train Loss 0.6877337137858073 | Valid Loss 0.6882700794621518\n",
      "Epoch 10 | Train Loss 0.1133084346850713 | Valid Loss 0.7576119256647009\n",
      "Epoch 20 | Train Loss 0.05652410824938367 | Valid Loss 1.0738948865940696\n",
      "Epoch 30 | Train Loss 0.01365986730476531 | Valid Loss 1.2045861259102821\n",
      "Epoch 40 | Train Loss 0.044608585136806295 | Valid Loss 1.3294865089027506\n",
      "Epoch 50 | Train Loss 0.020622998577164254 | Valid Loss 1.4015843711401288\n",
      "Epoch 60 | Train Loss 0.04081671795089884 | Valid Loss 1.4400136721761603\n",
      "Epoch 70 | Train Loss 0.02613449203709024 | Valid Loss 1.4964234013306468\n",
      "Epoch 80 | Train Loss 0.03770664407434197 | Valid Loss 1.549140326286617\n",
      "Epoch 90 | Train Loss 0.03760983501336644 | Valid Loss 1.5934702785391557\n"
     ]
    }
   ],
   "source": [
    "def train(loader):\n",
    "        model.train()\n",
    "        # Enumerate over the data\n",
    "        final_loss = 0\n",
    "        for i, (fingerprint, labels) in enumerate(loader):  \n",
    "            fingerprint = fingerprint.to(device)\n",
    "            labels = labels.to(device)\n",
    "            \n",
    "            # Forward pass\n",
    "            outputs = model(fingerprint)\n",
    "            loss = loss_fn(outputs, labels)\n",
    "            # Backward and optimize\n",
    "            optimizer.zero_grad()\n",
    "            final_loss += loss.item()\n",
    "            loss.backward()\n",
    "            optimizer.step() \n",
    "        return final_loss / len(loader)\n",
    "    \n",
    "def evaluate(loader):\n",
    "        model.eval()\n",
    "        # Enumerate over the data\n",
    "        final_loss = 0\n",
    "        for i, (fingerprint, labels) in enumerate(loader):  \n",
    "            fingerprint = fingerprint.to(device)\n",
    "            labels = labels.to(device)\n",
    "            \n",
    "            # Forward pass\n",
    "            outputs = model(fingerprint)\n",
    "            loss = loss_fn(outputs, labels)\n",
    "            final_loss += loss.item()\n",
    "        return final_loss / len(loader)\n",
    "\n",
    "print(\"Starting training...\")\n",
    "losses = []\n",
    "for epoch in range(100):\n",
    "    loss = train(train_loader)\n",
    "    val_loss = evaluate(valid_loader)\n",
    "    losses.append(loss)\n",
    "    if epoch % 10 == 0:\n",
    "        print(f\"Epoch {epoch} | Train Loss {loss} | Valid Loss {val_loss}\")\n"
   ]
  },
  {
   "cell_type": "markdown",
   "metadata": {},
   "source": [
    "## Evaluate on the Test Set"
   ]
  },
  {
   "cell_type": "code",
   "execution_count": null,
   "metadata": {},
   "outputs": [
    {
     "data": {
      "text/html": [
       "<div>\n",
       "<style scoped>\n",
       "    .dataframe tbody tr th:only-of-type {\n",
       "        vertical-align: middle;\n",
       "    }\n",
       "\n",
       "    .dataframe tbody tr th {\n",
       "        vertical-align: top;\n",
       "    }\n",
       "\n",
       "    .dataframe thead th {\n",
       "        text-align: right;\n",
       "    }\n",
       "</style>\n",
       "<table border=\"1\" class=\"dataframe\">\n",
       "  <thead>\n",
       "    <tr style=\"text-align: right;\">\n",
       "      <th></th>\n",
       "      <th>y_pred</th>\n",
       "      <th>y_real</th>\n",
       "    </tr>\n",
       "  </thead>\n",
       "  <tbody>\n",
       "    <tr>\n",
       "      <th>0</th>\n",
       "      <td>9.999945e-01</td>\n",
       "      <td>1.0</td>\n",
       "    </tr>\n",
       "    <tr>\n",
       "      <th>1</th>\n",
       "      <td>9.729298e-01</td>\n",
       "      <td>1.0</td>\n",
       "    </tr>\n",
       "    <tr>\n",
       "      <th>2</th>\n",
       "      <td>2.311161e-06</td>\n",
       "      <td>0.0</td>\n",
       "    </tr>\n",
       "    <tr>\n",
       "      <th>3</th>\n",
       "      <td>6.656446e-08</td>\n",
       "      <td>0.0</td>\n",
       "    </tr>\n",
       "    <tr>\n",
       "      <th>4</th>\n",
       "      <td>1.887598e-02</td>\n",
       "      <td>0.0</td>\n",
       "    </tr>\n",
       "    <tr>\n",
       "      <th>...</th>\n",
       "      <td>...</td>\n",
       "      <td>...</td>\n",
       "    </tr>\n",
       "    <tr>\n",
       "      <th>980</th>\n",
       "      <td>9.999532e-01</td>\n",
       "      <td>0.0</td>\n",
       "    </tr>\n",
       "    <tr>\n",
       "      <th>981</th>\n",
       "      <td>8.571637e-01</td>\n",
       "      <td>0.0</td>\n",
       "    </tr>\n",
       "    <tr>\n",
       "      <th>982</th>\n",
       "      <td>1.508232e-07</td>\n",
       "      <td>0.0</td>\n",
       "    </tr>\n",
       "    <tr>\n",
       "      <th>983</th>\n",
       "      <td>9.998047e-01</td>\n",
       "      <td>1.0</td>\n",
       "    </tr>\n",
       "    <tr>\n",
       "      <th>984</th>\n",
       "      <td>8.021099e-04</td>\n",
       "      <td>1.0</td>\n",
       "    </tr>\n",
       "  </tbody>\n",
       "</table>\n",
       "<p>985 rows × 2 columns</p>\n",
       "</div>"
      ],
      "text/plain": [
       "           y_pred  y_real\n",
       "0    9.999945e-01     1.0\n",
       "1    9.729298e-01     1.0\n",
       "2    2.311161e-06     0.0\n",
       "3    6.656446e-08     0.0\n",
       "4    1.887598e-02     0.0\n",
       "..            ...     ...\n",
       "980  9.999532e-01     0.0\n",
       "981  8.571637e-01     0.0\n",
       "982  1.508232e-07     0.0\n",
       "983  9.998047e-01     1.0\n",
       "984  8.021099e-04     1.0\n",
       "\n",
       "[985 rows x 2 columns]"
      ]
     },
     "execution_count": 12,
     "metadata": {},
     "output_type": "execute_result"
    }
   ],
   "source": [
    "import pandas as pd \n",
    "model.eval()\n",
    "true_values = []\n",
    "predictions = []\n",
    "with torch.no_grad():\n",
    "    n_correct = 0\n",
    "    n_samples = 0\n",
    "    for fingerprint, labels in test_loader:\n",
    "        fingerprint = fingerprint.to(device)\n",
    "        labels = labels.to(device)\n",
    "        output = model(fingerprint)\n",
    "        true_values += labels.tolist()\n",
    "        predictions += output.tolist()\n",
    "df = pd.DataFrame({'y_pred':predictions,'y_real':true_values})\n",
    "df = df.applymap(lambda x : x[0])\n",
    "df"
   ]
  },
  {
   "cell_type": "markdown",
   "metadata": {},
   "source": [
    "## Model Evaluation"
   ]
  },
  {
   "cell_type": "code",
   "execution_count": null,
   "metadata": {},
   "outputs": [],
   "source": [
    "from sklearn import metrics"
   ]
  },
  {
   "cell_type": "code",
   "execution_count": null,
   "metadata": {},
   "outputs": [
    {
     "data": {
      "text/html": [
       "<div>\n",
       "<style scoped>\n",
       "    .dataframe tbody tr th:only-of-type {\n",
       "        vertical-align: middle;\n",
       "    }\n",
       "\n",
       "    .dataframe tbody tr th {\n",
       "        vertical-align: top;\n",
       "    }\n",
       "\n",
       "    .dataframe thead th {\n",
       "        text-align: right;\n",
       "    }\n",
       "</style>\n",
       "<table border=\"1\" class=\"dataframe\">\n",
       "  <thead>\n",
       "    <tr style=\"text-align: right;\">\n",
       "      <th></th>\n",
       "      <th>y_pred</th>\n",
       "      <th>y_real</th>\n",
       "    </tr>\n",
       "  </thead>\n",
       "  <tbody>\n",
       "    <tr>\n",
       "      <th>0</th>\n",
       "      <td>1</td>\n",
       "      <td>1</td>\n",
       "    </tr>\n",
       "    <tr>\n",
       "      <th>1</th>\n",
       "      <td>1</td>\n",
       "      <td>1</td>\n",
       "    </tr>\n",
       "    <tr>\n",
       "      <th>2</th>\n",
       "      <td>0</td>\n",
       "      <td>0</td>\n",
       "    </tr>\n",
       "    <tr>\n",
       "      <th>3</th>\n",
       "      <td>0</td>\n",
       "      <td>0</td>\n",
       "    </tr>\n",
       "    <tr>\n",
       "      <th>4</th>\n",
       "      <td>0</td>\n",
       "      <td>0</td>\n",
       "    </tr>\n",
       "    <tr>\n",
       "      <th>...</th>\n",
       "      <td>...</td>\n",
       "      <td>...</td>\n",
       "    </tr>\n",
       "    <tr>\n",
       "      <th>980</th>\n",
       "      <td>1</td>\n",
       "      <td>0</td>\n",
       "    </tr>\n",
       "    <tr>\n",
       "      <th>981</th>\n",
       "      <td>1</td>\n",
       "      <td>0</td>\n",
       "    </tr>\n",
       "    <tr>\n",
       "      <th>982</th>\n",
       "      <td>0</td>\n",
       "      <td>0</td>\n",
       "    </tr>\n",
       "    <tr>\n",
       "      <th>983</th>\n",
       "      <td>1</td>\n",
       "      <td>1</td>\n",
       "    </tr>\n",
       "    <tr>\n",
       "      <th>984</th>\n",
       "      <td>0</td>\n",
       "      <td>1</td>\n",
       "    </tr>\n",
       "  </tbody>\n",
       "</table>\n",
       "<p>985 rows × 2 columns</p>\n",
       "</div>"
      ],
      "text/plain": [
       "     y_pred  y_real\n",
       "0         1       1\n",
       "1         1       1\n",
       "2         0       0\n",
       "3         0       0\n",
       "4         0       0\n",
       "..      ...     ...\n",
       "980       1       0\n",
       "981       1       0\n",
       "982       0       0\n",
       "983       1       1\n",
       "984       0       1\n",
       "\n",
       "[985 rows x 2 columns]"
      ]
     },
     "execution_count": 14,
     "metadata": {},
     "output_type": "execute_result"
    }
   ],
   "source": [
    "output = df[\"y_pred\"].apply(lambda x: int(round(x,0)))\n",
    "output\n",
    "binary_results = df.applymap(lambda x : int(round(x,0)))\n",
    "binary_results"
   ]
  },
  {
   "cell_type": "code",
   "execution_count": null,
   "metadata": {},
   "outputs": [
    {
     "data": {
      "text/html": [
       "<div>\n",
       "<style scoped>\n",
       "    .dataframe tbody tr th:only-of-type {\n",
       "        vertical-align: middle;\n",
       "    }\n",
       "\n",
       "    .dataframe tbody tr th {\n",
       "        vertical-align: top;\n",
       "    }\n",
       "\n",
       "    .dataframe thead th {\n",
       "        text-align: right;\n",
       "    }\n",
       "</style>\n",
       "<table border=\"1\" class=\"dataframe\">\n",
       "  <thead>\n",
       "    <tr style=\"text-align: right;\">\n",
       "      <th></th>\n",
       "      <th>Accuracy</th>\n",
       "      <th>F1</th>\n",
       "      <th>Precision</th>\n",
       "      <th>Recall</th>\n",
       "      <th>ROCAUC</th>\n",
       "      <th>Specificity</th>\n",
       "      <th>Average Precision</th>\n",
       "      <th>TN</th>\n",
       "      <th>FP</th>\n",
       "      <th>FN</th>\n",
       "      <th>TP</th>\n",
       "    </tr>\n",
       "  </thead>\n",
       "  <tbody>\n",
       "    <tr>\n",
       "      <th>0</th>\n",
       "      <td>0.758376</td>\n",
       "      <td>0.725173</td>\n",
       "      <td>0.721839</td>\n",
       "      <td>0.728538</td>\n",
       "      <td>0.755063</td>\n",
       "      <td>0.781588</td>\n",
       "      <td>0.793985</td>\n",
       "      <td>433</td>\n",
       "      <td>121</td>\n",
       "      <td>117</td>\n",
       "      <td>314</td>\n",
       "    </tr>\n",
       "  </tbody>\n",
       "</table>\n",
       "</div>"
      ],
      "text/plain": [
       "   Accuracy        F1  Precision    Recall    ROCAUC  Specificity  \\\n",
       "0  0.758376  0.725173   0.721839  0.728538  0.755063     0.781588   \n",
       "\n",
       "   Average Precision   TN   FP   FN   TP  \n",
       "0           0.793985  433  121  117  314  "
      ]
     },
     "execution_count": 15,
     "metadata": {},
     "output_type": "execute_result"
    }
   ],
   "source": [
    "report = metrics.classification_report(binary_results[\"y_real\"],binary_results[\"y_pred\"], output_dict=True)\n",
    "report_string = metrics.classification_report(binary_results[\"y_real\"],binary_results[\"y_pred\"], output_dict=False)\n",
    "report\n",
    "\n",
    "accuracy = metrics.accuracy_score(binary_results[\"y_real\"],binary_results[\"y_pred\"])\n",
    "f1 = metrics.f1_score(binary_results[\"y_real\"],binary_results[\"y_pred\"])\n",
    "precision = metrics.precision_score(binary_results[\"y_real\"],binary_results[\"y_pred\"])\n",
    "recall = metrics.recall_score(binary_results[\"y_real\"],binary_results[\"y_pred\"])\n",
    "roc_auc = metrics.roc_auc_score(binary_results[\"y_real\"],binary_results[\"y_pred\"])\n",
    "tn, fp, fn, tp = metrics.confusion_matrix(binary_results[\"y_real\"],binary_results[\"y_pred\"], labels=[0,1]).ravel()\n",
    "specificity = tn / (tn+fp)\n",
    "averageprecision = metrics.average_precision_score(df[\"y_real\"].to_list(),df[\"y_pred\"].to_list())\n",
    "\n",
    "results = {\n",
    "    'Accuracy':accuracy,\n",
    "    'F1': f1,\n",
    "    'Precision': precision,\n",
    "    'Recall': recall,\n",
    "    'ROCAUC': roc_auc,\n",
    "    'Specificity': specificity,\n",
    "    'Average Precision': averageprecision,\n",
    "    'TN': tn,\n",
    "    'FP': fp,\n",
    "    'FN': fn,\n",
    "    \"TP\": tp,\n",
    "}\n",
    "\n",
    "summary = pd.DataFrame([results])\n",
    "filepath = '/home/rajeckidoyle/Documents/Classification/BACE_Classification/model_benchmarks/results/'\n",
    "summary.to_csv(filepath + best_config.GLOBALPARAMETERS['model_this_run']+'summary.csv')\n",
    "summary"
   ]
  },
  {
   "cell_type": "markdown",
   "metadata": {},
   "source": [
    "### Confusion Matrix"
   ]
  },
  {
   "cell_type": "code",
   "execution_count": null,
   "metadata": {},
   "outputs": [
    {
     "data": {
      "image/png": "[encoded data removed]",
      "text/plain": [
       "<Figure size 432x288 with 2 Axes>"
      ]
     },
     "metadata": {
      "needs_background": "light"
     },
     "output_type": "display_data"
    }
   ],
   "source": [
    "import seaborn as sns\n",
    "import matplotlib.pyplot as plt\n",
    "\n",
    "import matplotlib.pyplot as plt\n",
    "labels = [0,1]\n",
    "cm = metrics.confusion_matrix(output,df[\"y_real\"])\n",
    "metrics.ConfusionMatrixDisplay.from_predictions(binary_results[\"y_real\"],binary_results[\"y_pred\"], cmap='Blues')\n",
    "\n",
    "filepath = '/home/rajeckidoyle/Documents/Classification/BACE_Classification/model_benchmarks/results/'\n",
    "plt.savefig(filepath + best_config.GLOBALPARAMETERS['model_this_run'] + 'confusion_matrix.jpeg', bbox_inches='tight',dpi=100)"
   ]
  },
  {
   "cell_type": "code",
   "execution_count": null,
   "metadata": {},
   "outputs": [
    {
     "data": {
      "image/png": "[encoded data removed]",
      "text/plain": [
       "<Figure size 432x288 with 1 Axes>"
      ]
     },
     "metadata": {
      "needs_background": "light"
     },
     "output_type": "display_data"
    }
   ],
   "source": [
    "r_fpr, r_tpr, thresholds = metrics.roc_curve(df[\"y_real\"].to_list(),df[\"y_pred\"].to_list())\n",
    "\n",
    "roc_curve_data = pd.DataFrame({'r_fpr': r_fpr, 'r_tpr': r_tpr, 'thresholds': thresholds})\n",
    "\n",
    "filepath = '/home/rajeckidoyle/Documents/Classification/BACE_Classification/model_benchmarks/results/'\n",
    "roc_curve_data.to_csv(filepath + best_config.GLOBALPARAMETERS['model_this_run']+'rocdata.csv')\n",
    "\n",
    "import matplotlib.pyplot as plt\n",
    "\n",
    "plt.plot(r_fpr, r_tpr)\n",
    "# Title\n",
    "plt.title('ROC Plot')\n",
    "# Axis labels\n",
    "plt.xlabel('False Positive Rate')\n",
    "plt.ylabel('True Positive Rate')\n",
    "\n",
    "filepath = '/home/rajeckidoyle/Documents/Classification/BACE_Classification/model_benchmarks/results/'\n",
    "plt.savefig(filepath + best_config.GLOBALPARAMETERS['model_this_run'] + 'roc_curve.jpeg', bbox_inches='tight', dpi=100)"
   ]
  },
  {
   "cell_type": "markdown",
   "metadata": {},
   "source": [
    "Which metrics should you focus on?\n",
    "\n",
    "- Choice of metric depends on your business objective\n",
    "Spam filter (positive class is \"spam\"): Optimize for precision or specificity because false negatives (spam goes to the inbox) are more acceptable than false positives (non-spam is caught by the spam filter)\n",
    "- Fraudulent transaction detector (positive class is \"fraud\"): Optimize for sensitivity because false positives (normal transactions that are flagged as possible fraud) are more acceptable than false negatives (fraudulent transactions that are not detected)"
   ]
  },
  {
   "cell_type": "markdown",
   "metadata": {},
   "source": [
    "We can change the threshold for predicting a positive/negative class, which will changes the sensitivity and specificity of our model. How we should change this is informed by the ROC curve"
   ]
  },
  {
   "cell_type": "markdown",
   "metadata": {},
   "source": [
    "### ROC Curve"
   ]
  },
  {
   "cell_type": "markdown",
   "metadata": {},
   "source": [
    "Plotting the curve"
   ]
  },
  {
   "cell_type": "code",
   "execution_count": null,
   "metadata": {},
   "outputs": [],
   "source": [
    "\n",
    "r_fpr, r_tpr, thresholds = metrics.roc_curve(df[\"y_real\"].to_list(),df[\"y_pred\"].to_list())"
   ]
  },
  {
   "cell_type": "code",
   "execution_count": null,
   "metadata": {},
   "outputs": [
    {
     "data": {
      "image/png": "[encoded data removed]",
      "text/plain": [
       "<Figure size 432x288 with 1 Axes>"
      ]
     },
     "metadata": {
      "needs_background": "light"
     },
     "output_type": "display_data"
    }
   ],
   "source": [
    "import matplotlib.pyplot as plt\n",
    "\n",
    "plt.plot(r_fpr, r_tpr)\n",
    "\n",
    "# Title\n",
    "plt.title('ROC Plot')\n",
    "# Axis labels\n",
    "plt.xlabel('False Positive Rate (1 - Specificity)')\n",
    "plt.ylabel('True Positive Rate (Sensitivity)')\n",
    "# Show plot\n",
    "plt.show()"
   ]
  },
  {
   "cell_type": "markdown",
   "metadata": {},
   "source": [
    "You can't directly see the threshold you want from the ROC curve, but you can evaluate the sensitivity and specificity as some specific threshold"
   ]
  },
  {
   "cell_type": "code",
   "execution_count": null,
   "metadata": {},
   "outputs": [
    {
     "name": "stdout",
     "output_type": "stream",
     "text": [
      "Sensitivity: 0.7857142857142857\n",
      "Specificity: 0.8159509202453987\n"
     ]
    }
   ],
   "source": [
    "def evaluate_threshold(threshold):\n",
    "    print('Sensitivity:', r_tpr[thresholds > threshold][-1])\n",
    "    print('Specificity:', 1 - r_fpr[thresholds > threshold][-1])\n",
    "\n",
    "evaluate_threshold(0.3)"
   ]
  },
  {
   "cell_type": "code",
   "execution_count": null,
   "metadata": {},
   "outputs": [
    {
     "data": {
      "text/plain": [
       "0.8274641600980353"
      ]
     },
     "execution_count": 65,
     "metadata": {},
     "output_type": "execute_result"
    }
   ],
   "source": [
    "from sklearn.metrics import average_precision_score\n",
    "average_precision_score(df[\"y_real\"].to_list(),df[\"y_pred\"].to_list())"
   ]
  },
  {
   "cell_type": "code",
   "execution_count": null,
   "metadata": {},
   "outputs": [],
   "source": [
    "from sklearn.metrics import precision_recall_curve\n",
    "precision, recall, thresholds = precision_recall_curve(df[\"y_real\"].to_list(),df[\"y_pred\"].to_list())"
   ]
  },
  {
   "cell_type": "code",
   "execution_count": null,
   "metadata": {},
   "outputs": [
    {
     "data": {
      "text/plain": [
       "array([[0.],\n",
       "       [0.],\n",
       "       [1.],\n",
       "       [0.],\n",
       "       [1.],\n",
       "       [0.],\n",
       "       [1.],\n",
       "       [0.],\n",
       "       [1.],\n",
       "       [1.],\n",
       "       [1.],\n",
       "       [1.],\n",
       "       [0.],\n",
       "       [1.],\n",
       "       [0.],\n",
       "       [0.],\n",
       "       [0.],\n",
       "       [1.],\n",
       "       [0.],\n",
       "       [1.],\n",
       "       [0.],\n",
       "       [1.],\n",
       "       [0.],\n",
       "       [0.],\n",
       "       [0.],\n",
       "       [0.],\n",
       "       [0.],\n",
       "       [1.],\n",
       "       [0.],\n",
       "       [0.],\n",
       "       [0.],\n",
       "       [1.],\n",
       "       [0.],\n",
       "       [0.],\n",
       "       [0.],\n",
       "       [1.],\n",
       "       [0.],\n",
       "       [0.],\n",
       "       [0.],\n",
       "       [0.],\n",
       "       [1.],\n",
       "       [1.],\n",
       "       [1.],\n",
       "       [1.],\n",
       "       [0.],\n",
       "       [0.],\n",
       "       [1.],\n",
       "       [1.],\n",
       "       [1.],\n",
       "       [0.],\n",
       "       [1.],\n",
       "       [0.],\n",
       "       [1.],\n",
       "       [1.],\n",
       "       [0.],\n",
       "       [1.],\n",
       "       [0.],\n",
       "       [1.],\n",
       "       [1.],\n",
       "       [1.],\n",
       "       [0.],\n",
       "       [1.],\n",
       "       [1.],\n",
       "       [0.],\n",
       "       [0.],\n",
       "       [1.],\n",
       "       [1.],\n",
       "       [0.],\n",
       "       [0.],\n",
       "       [1.],\n",
       "       [1.],\n",
       "       [1.],\n",
       "       [0.],\n",
       "       [0.],\n",
       "       [1.],\n",
       "       [0.],\n",
       "       [1.],\n",
       "       [0.],\n",
       "       [0.],\n",
       "       [0.],\n",
       "       [0.],\n",
       "       [1.],\n",
       "       [0.],\n",
       "       [0.],\n",
       "       [1.],\n",
       "       [1.],\n",
       "       [1.],\n",
       "       [0.],\n",
       "       [0.],\n",
       "       [1.],\n",
       "       [0.],\n",
       "       [0.],\n",
       "       [0.],\n",
       "       [0.],\n",
       "       [0.],\n",
       "       [1.],\n",
       "       [1.],\n",
       "       [0.],\n",
       "       [1.],\n",
       "       [1.],\n",
       "       [0.],\n",
       "       [0.],\n",
       "       [0.],\n",
       "       [0.],\n",
       "       [0.],\n",
       "       [1.],\n",
       "       [1.],\n",
       "       [1.],\n",
       "       [1.],\n",
       "       [0.],\n",
       "       [0.],\n",
       "       [1.],\n",
       "       [1.],\n",
       "       [0.],\n",
       "       [0.],\n",
       "       [1.],\n",
       "       [0.],\n",
       "       [1.],\n",
       "       [1.],\n",
       "       [0.],\n",
       "       [1.],\n",
       "       [1.],\n",
       "       [1.],\n",
       "       [0.],\n",
       "       [1.],\n",
       "       [1.],\n",
       "       [1.],\n",
       "       [0.],\n",
       "       [0.],\n",
       "       [0.],\n",
       "       [0.],\n",
       "       [1.],\n",
       "       [1.],\n",
       "       [0.],\n",
       "       [1.],\n",
       "       [0.],\n",
       "       [0.],\n",
       "       [0.],\n",
       "       [1.],\n",
       "       [0.],\n",
       "       [0.],\n",
       "       [1.],\n",
       "       [0.],\n",
       "       [1.],\n",
       "       [0.],\n",
       "       [1.],\n",
       "       [1.],\n",
       "       [1.],\n",
       "       [0.],\n",
       "       [0.],\n",
       "       [0.],\n",
       "       [1.],\n",
       "       [1.],\n",
       "       [1.],\n",
       "       [0.],\n",
       "       [1.],\n",
       "       [0.],\n",
       "       [0.],\n",
       "       [1.],\n",
       "       [1.],\n",
       "       [1.],\n",
       "       [1.],\n",
       "       [0.],\n",
       "       [0.],\n",
       "       [0.],\n",
       "       [1.],\n",
       "       [0.],\n",
       "       [0.],\n",
       "       [0.],\n",
       "       [0.],\n",
       "       [1.],\n",
       "       [0.],\n",
       "       [0.],\n",
       "       [1.],\n",
       "       [1.],\n",
       "       [1.],\n",
       "       [0.],\n",
       "       [0.],\n",
       "       [1.],\n",
       "       [1.],\n",
       "       [1.],\n",
       "       [1.],\n",
       "       [0.],\n",
       "       [0.],\n",
       "       [1.],\n",
       "       [0.],\n",
       "       [0.],\n",
       "       [0.],\n",
       "       [1.],\n",
       "       [1.],\n",
       "       [1.],\n",
       "       [0.],\n",
       "       [1.],\n",
       "       [0.],\n",
       "       [0.],\n",
       "       [0.],\n",
       "       [0.],\n",
       "       [0.],\n",
       "       [0.],\n",
       "       [0.],\n",
       "       [1.],\n",
       "       [1.],\n",
       "       [1.],\n",
       "       [1.],\n",
       "       [1.],\n",
       "       [0.],\n",
       "       [1.],\n",
       "       [0.],\n",
       "       [1.],\n",
       "       [0.],\n",
       "       [1.],\n",
       "       [1.],\n",
       "       [0.],\n",
       "       [0.],\n",
       "       [0.],\n",
       "       [1.],\n",
       "       [0.],\n",
       "       [1.],\n",
       "       [0.],\n",
       "       [1.],\n",
       "       [1.],\n",
       "       [0.],\n",
       "       [0.],\n",
       "       [0.],\n",
       "       [1.],\n",
       "       [1.],\n",
       "       [1.],\n",
       "       [1.],\n",
       "       [1.],\n",
       "       [0.],\n",
       "       [0.],\n",
       "       [1.],\n",
       "       [1.],\n",
       "       [1.],\n",
       "       [0.],\n",
       "       [0.],\n",
       "       [1.],\n",
       "       [0.],\n",
       "       [0.],\n",
       "       [1.],\n",
       "       [0.],\n",
       "       [1.],\n",
       "       [1.],\n",
       "       [1.],\n",
       "       [1.],\n",
       "       [0.],\n",
       "       [0.],\n",
       "       [0.],\n",
       "       [0.],\n",
       "       [1.],\n",
       "       [1.],\n",
       "       [1.],\n",
       "       [0.],\n",
       "       [1.],\n",
       "       [1.],\n",
       "       [0.],\n",
       "       [1.],\n",
       "       [1.],\n",
       "       [0.],\n",
       "       [0.],\n",
       "       [0.],\n",
       "       [0.],\n",
       "       [1.],\n",
       "       [0.],\n",
       "       [1.],\n",
       "       [1.],\n",
       "       [1.],\n",
       "       [0.],\n",
       "       [0.],\n",
       "       [1.],\n",
       "       [0.],\n",
       "       [0.],\n",
       "       [0.],\n",
       "       [1.],\n",
       "       [0.],\n",
       "       [1.],\n",
       "       [0.],\n",
       "       [1.],\n",
       "       [0.],\n",
       "       [0.],\n",
       "       [1.],\n",
       "       [0.],\n",
       "       [1.],\n",
       "       [0.],\n",
       "       [1.],\n",
       "       [0.],\n",
       "       [1.],\n",
       "       [0.],\n",
       "       [0.],\n",
       "       [1.],\n",
       "       [0.],\n",
       "       [0.],\n",
       "       [1.],\n",
       "       [0.],\n",
       "       [1.],\n",
       "       [0.],\n",
       "       [0.],\n",
       "       [0.],\n",
       "       [0.],\n",
       "       [0.],\n",
       "       [0.],\n",
       "       [0.],\n",
       "       [0.]])"
      ]
     },
     "execution_count": 67,
     "metadata": {},
     "output_type": "execute_result"
    }
   ],
   "source": [
    "from sklearn.preprocessing import binarize\n",
    "threshold = 0.3\n",
    "predictions_with_new_threshold = binarize(df[\"y_pred\"].to_numpy().reshape(-1,1), threshold = threshold)\n",
    "predictions_with_new_threshold"
   ]
  }
 ],
 "metadata": {
  "interpreter": {
   "hash": "c4e88f5f6f0c037f170d8b5f2f59d1377880a8e4b384253995bdaa7b6b72e05d"
  },
  "kernelspec": {
   "display_name": "Python 3.8.12 ('my_torch_geometric')",
   "language": "python",
   "name": "python3"
  },
  "language_info": {
   "codemirror_mode": {
    "name": "ipython",
    "version": 3
   },
   "file_extension": ".py",
   "mimetype": "text/x-python",
   "name": "python",
   "nbconvert_exporter": "python",
   "pygments_lexer": "ipython3",
   "version": "3.8.12"
  },
  "orig_nbformat": 4
 },
 "nbformat": 4,
 "nbformat_minor": 2
}
