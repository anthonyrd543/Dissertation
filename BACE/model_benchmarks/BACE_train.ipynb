{
 "cells": [
  {
   "cell_type": "code",
   "execution_count": 1,
   "metadata": {},
   "outputs": [],
   "source": [
    "from torch_geometric.datasets import MoleculeNet\n",
    "import torch\n",
    "import numpy as np\n",
    "import pandas as pd\n",
    "from sklearn import metrics"
   ]
  },
  {
   "cell_type": "markdown",
   "metadata": {},
   "source": [
    "## Import Dataset"
   ]
  },
  {
   "cell_type": "code",
   "execution_count": 2,
   "metadata": {},
   "outputs": [],
   "source": [
    "data = MoleculeNet(root=\".\", name=\"bace\")\n",
    "data = data.shuffle()"
   ]
  },
  {
   "cell_type": "code",
   "execution_count": 3,
   "metadata": {},
   "outputs": [],
   "source": [
    "#Specify device\n",
    "device = torch.device(\"cuda:1\" if torch.cuda.is_available() else \"cpu\")"
   ]
  },
  {
   "cell_type": "markdown",
   "metadata": {},
   "source": [
    "## Set Hyperparameters"
   ]
  },
  {
   "cell_type": "code",
   "execution_count": 4,
   "metadata": {},
   "outputs": [],
   "source": [
    "import best_config\n",
    "\n",
    "#Get Model Parameters\n",
    "hyperparameters = eval('best_config.'+best_config.GLOBALPARAMETERS['model_this_run']+'_HYPERPARAMETERS')\n",
    "train_size = best_config.GLOBALPARAMETERS['train_size']\n",
    "valid_size = train_size + best_config.GLOBALPARAMETERS['valid_size']\n",
    "\n",
    "\n",
    "model_params = hyperparameters\n",
    "model_params['feature_size'] = data.num_features\n",
    "model_params[\"edge_dim\"] = data[0].edge_attr.shape[1]"
   ]
  },
  {
   "cell_type": "markdown",
   "metadata": {},
   "source": [
    "## Define Model"
   ]
  },
  {
   "cell_type": "code",
   "execution_count": 5,
   "metadata": {},
   "outputs": [],
   "source": [
    "def count_parameters(model):\n",
    "    return sum(p.numel() for p in model.parameters() if p.requires_grad)"
   ]
  },
  {
   "cell_type": "code",
   "execution_count": 6,
   "metadata": {},
   "outputs": [
    {
     "name": "stdout",
     "output_type": "stream",
     "text": [
      "Loading model...\n",
      "GCN(\n",
      "  (conv_layers): ModuleList(\n",
      "    (0): GCNConv(1024, 1024)\n",
      "    (1): GCNConv(1024, 1024)\n",
      "  )\n",
      "  (initial_conv): GCNConv(9, 1024)\n",
      "  (gnn_dropout): Dropout(p=0.0472, inplace=False)\n",
      "  (linear_dropout): Dropout(p=0.0413, inplace=False)\n",
      "  (linear): Linear(in_features=2048, out_features=32, bias=True)\n",
      "  (out): Linear(in_features=32, out_features=1, bias=True)\n",
      ")\n",
      "2175041\n"
     ]
    }
   ],
   "source": [
    "import models\n",
    "print(\"Loading model...\")\n",
    "\n",
    "#Create instance of model\n",
    "model = eval('models.'+best_config.GLOBALPARAMETERS['model_this_run']+'(model_params)')\n",
    "print(model)\n",
    "print(count_parameters(model))"
   ]
  },
  {
   "cell_type": "code",
   "execution_count": 7,
   "metadata": {},
   "outputs": [],
   "source": [
    "model = model.to(device)"
   ]
  },
  {
   "cell_type": "markdown",
   "metadata": {},
   "source": [
    "## Training Loop"
   ]
  },
  {
   "cell_type": "code",
   "execution_count": 8,
   "metadata": {},
   "outputs": [],
   "source": [
    "from torch_geometric.data import DataLoader\n",
    "import warnings\n",
    "warnings.filterwarnings(\"ignore\")\n",
    "\n",
    "# Root mean squared error\n",
    "loss_fn = torch.nn.BCELoss()\n",
    "optimizer = torch.optim.Adam(model.parameters(), lr=model_params['learning_rate'])  \n",
    "\n",
    "# Wrap data in a data loader\n",
    "data_size = len(data)\n",
    "NUM_GRAPHS_PER_BATCH = 64\n",
    "train_loader = DataLoader(data[:int(data_size * train_size)], \n",
    "                    batch_size=NUM_GRAPHS_PER_BATCH, shuffle=True)\n",
    "valid_loader = DataLoader(data[int(data_size * train_size):int(data_size * valid_size)], \n",
    "                         batch_size=NUM_GRAPHS_PER_BATCH, shuffle=True)\n",
    "test_loader = DataLoader(data[int(data_size * valid_size):], \n",
    "                         batch_size=NUM_GRAPHS_PER_BATCH, shuffle=True)\n",
    "\n",
    "def train(loader):\n",
    "    model.train()\n",
    "    # Enumerate over the data\n",
    "    final_loss = 0\n",
    "    for batch in loader:\n",
    "      # Use GPU\n",
    "      batch.to(device)  \n",
    "      # Reset gradients\n",
    "      optimizer.zero_grad() \n",
    "      # Passing the node features and the connection info\n",
    "      if model_params['has_edge_info']:\n",
    "          pred = model(batch.x.float(),\n",
    "                        batch.edge_attr.float(), \n",
    "                        batch.edge_index, \n",
    "                        batch.batch)\n",
    "      else:\n",
    "          pred = model(batch.x.float(), \n",
    "                        batch.edge_index, \n",
    "                        batch.batch)\n",
    "      # Calculating the loss and gradients\n",
    "      loss = loss_fn(pred, batch.y)\n",
    "      final_loss += loss.item()\n",
    "      loss.backward()\n",
    "      # Update using the gradients\n",
    "      optimizer.step()   \n",
    "    return final_loss / len(loader)\n",
    "  \n",
    "def evaluate(data_loader):\n",
    "        model.eval()\n",
    "        final_loss = 0\n",
    "        for batch in data_loader:\n",
    "            batch.to(device)\n",
    "            if model_params['has_edge_info']:\n",
    "                pred = model(batch.x.float(),\n",
    "                                batch.edge_attr.float(), \n",
    "                                batch.edge_index, \n",
    "                                batch.batch)\n",
    "            else:\n",
    "                pred = model(batch.x.float(), \n",
    "                                batch.edge_index, \n",
    "                                batch.batch)\n",
    "            loss = loss_fn(pred, batch.y)  \n",
    "            final_loss += loss.item()\n",
    "        return final_loss / len(data_loader)\n",
    "\n",
    "def test(data_loader):   \n",
    "    model.eval()\n",
    "    true_values = []\n",
    "    predictions = []\n",
    "    with torch.no_grad():\n",
    "        for batch in data_loader:\n",
    "            batch.to(device)\n",
    "            if model_params['has_edge_info']:\n",
    "                pred = model(batch.x.float(),\n",
    "                                batch.edge_attr.float(), \n",
    "                                batch.edge_index, \n",
    "                                batch.batch)\n",
    "            else:\n",
    "                pred = model(batch.x.float(), \n",
    "                                batch.edge_index, \n",
    "                                batch.batch)\n",
    "            true_values += batch.y.tolist()\n",
    "            predictions += pred.tolist()\n",
    "    return metrics.accuracy_score(true_values,predictions)"
   ]
  },
  {
   "cell_type": "code",
   "execution_count": 9,
   "metadata": {},
   "outputs": [
    {
     "name": "stdout",
     "output_type": "stream",
     "text": [
      "Starting training...\n",
      "Epoch 0 | Train Loss 0.7002623379230499 | Valid Loss 0.7027594149112701\n",
      "Epoch 10 | Train Loss 0.6806463599205017 | Valid Loss 0.697656899690628\n",
      "Epoch 20 | Train Loss 0.669879212975502 | Valid Loss 0.6830691993236542\n",
      "Epoch 30 | Train Loss 0.6465104669332504 | Valid Loss 0.7489508986473083\n",
      "Epoch 40 | Train Loss 0.6259019672870636 | Valid Loss 0.6362908780574799\n",
      "Epoch 50 | Train Loss 0.5659184008836746 | Valid Loss 0.7503137588500977\n",
      "Epoch 60 | Train Loss 0.563387081027031 | Valid Loss 0.5444695502519608\n",
      "Epoch 70 | Train Loss 0.5211610347032547 | Valid Loss 0.740913450717926\n",
      "Epoch 80 | Train Loss 0.5220866799354553 | Valid Loss 0.595171183347702\n",
      "Epoch 90 | Train Loss 0.5009714066982269 | Valid Loss 0.6409857869148254\n",
      "Epoch 100 | Train Loss 0.4907456710934639 | Valid Loss 0.6002238094806671\n",
      "Epoch 110 | Train Loss 0.5055464655160904 | Valid Loss 0.6675074100494385\n",
      "Epoch 120 | Train Loss 0.45982733368873596 | Valid Loss 0.6593393087387085\n",
      "Epoch 130 | Train Loss 0.46288007497787476 | Valid Loss 0.704177588224411\n",
      "Epoch 140 | Train Loss 0.45400214940309525 | Valid Loss 0.6704235076904297\n",
      "Epoch 150 | Train Loss 0.40912938117980957 | Valid Loss 0.7947662472724915\n",
      "Epoch 160 | Train Loss 0.4473642259836197 | Valid Loss 0.6284160017967224\n",
      "Epoch 170 | Train Loss 0.40505895018577576 | Valid Loss 0.7660978436470032\n",
      "Epoch 180 | Train Loss 0.39217957109212875 | Valid Loss 0.6939992308616638\n",
      "Epoch 190 | Train Loss 0.3985756039619446 | Valid Loss 0.6319023966789246\n",
      "Epoch 200 | Train Loss 0.40407831966876984 | Valid Loss 0.5943188220262527\n",
      "Epoch 210 | Train Loss 0.3790431618690491 | Valid Loss 0.8179453611373901\n",
      "Epoch 220 | Train Loss 0.3527398109436035 | Valid Loss 0.8797274827957153\n",
      "Epoch 230 | Train Loss 0.368372805416584 | Valid Loss 0.7953989207744598\n",
      "Epoch 240 | Train Loss 0.35027697682380676 | Valid Loss 0.8549576997756958\n",
      "Epoch 250 | Train Loss 0.38391392678022385 | Valid Loss 0.8557518124580383\n",
      "Epoch 260 | Train Loss 0.3445209190249443 | Valid Loss 0.7142317295074463\n",
      "Epoch 270 | Train Loss 0.3399609923362732 | Valid Loss 0.6130968183279037\n",
      "Epoch 280 | Train Loss 0.32991480454802513 | Valid Loss 0.5573596954345703\n",
      "Epoch 290 | Train Loss 0.3321699760854244 | Valid Loss 0.6890624165534973\n"
     ]
    }
   ],
   "source": [
    "print(\"Starting training...\")\n",
    "for epoch in range(300):\n",
    "    loss = train(train_loader)\n",
    "    val_loss = evaluate(valid_loader)\n",
    "    if epoch % 10 == 0:\n",
    "        print(f\"Epoch {epoch} | Train Loss {loss} | Valid Loss {val_loss}\")"
   ]
  },
  {
   "cell_type": "markdown",
   "metadata": {},
   "source": [
    "## Evaluate on the Test Set"
   ]
  },
  {
   "cell_type": "code",
   "execution_count": 19,
   "metadata": {},
   "outputs": [
    {
     "data": {
      "text/html": [
       "<div>\n",
       "<style scoped>\n",
       "    .dataframe tbody tr th:only-of-type {\n",
       "        vertical-align: middle;\n",
       "    }\n",
       "\n",
       "    .dataframe tbody tr th {\n",
       "        vertical-align: top;\n",
       "    }\n",
       "\n",
       "    .dataframe thead th {\n",
       "        text-align: right;\n",
       "    }\n",
       "</style>\n",
       "<table border=\"1\" class=\"dataframe\">\n",
       "  <thead>\n",
       "    <tr style=\"text-align: right;\">\n",
       "      <th></th>\n",
       "      <th>y_pred</th>\n",
       "      <th>y_real</th>\n",
       "    </tr>\n",
       "  </thead>\n",
       "  <tbody>\n",
       "    <tr>\n",
       "      <th>0</th>\n",
       "      <td>0.151423</td>\n",
       "      <td>0.0</td>\n",
       "    </tr>\n",
       "    <tr>\n",
       "      <th>1</th>\n",
       "      <td>0.046310</td>\n",
       "      <td>0.0</td>\n",
       "    </tr>\n",
       "    <tr>\n",
       "      <th>2</th>\n",
       "      <td>0.025605</td>\n",
       "      <td>0.0</td>\n",
       "    </tr>\n",
       "    <tr>\n",
       "      <th>3</th>\n",
       "      <td>0.695948</td>\n",
       "      <td>0.0</td>\n",
       "    </tr>\n",
       "    <tr>\n",
       "      <th>4</th>\n",
       "      <td>0.003683</td>\n",
       "      <td>0.0</td>\n",
       "    </tr>\n",
       "    <tr>\n",
       "      <th>...</th>\n",
       "      <td>...</td>\n",
       "      <td>...</td>\n",
       "    </tr>\n",
       "    <tr>\n",
       "      <th>1206</th>\n",
       "      <td>0.816632</td>\n",
       "      <td>1.0</td>\n",
       "    </tr>\n",
       "    <tr>\n",
       "      <th>1207</th>\n",
       "      <td>0.235131</td>\n",
       "      <td>1.0</td>\n",
       "    </tr>\n",
       "    <tr>\n",
       "      <th>1208</th>\n",
       "      <td>0.003267</td>\n",
       "      <td>0.0</td>\n",
       "    </tr>\n",
       "    <tr>\n",
       "      <th>1209</th>\n",
       "      <td>0.014795</td>\n",
       "      <td>0.0</td>\n",
       "    </tr>\n",
       "    <tr>\n",
       "      <th>1210</th>\n",
       "      <td>0.008430</td>\n",
       "      <td>1.0</td>\n",
       "    </tr>\n",
       "  </tbody>\n",
       "</table>\n",
       "<p>1211 rows × 2 columns</p>\n",
       "</div>"
      ],
      "text/plain": [
       "        y_pred  y_real\n",
       "0     0.151423     0.0\n",
       "1     0.046310     0.0\n",
       "2     0.025605     0.0\n",
       "3     0.695948     0.0\n",
       "4     0.003683     0.0\n",
       "...        ...     ...\n",
       "1206  0.816632     1.0\n",
       "1207  0.235131     1.0\n",
       "1208  0.003267     0.0\n",
       "1209  0.014795     0.0\n",
       "1210  0.008430     1.0\n",
       "\n",
       "[1211 rows x 2 columns]"
      ]
     },
     "execution_count": 19,
     "metadata": {},
     "output_type": "execute_result"
    }
   ],
   "source": [
    "model.eval()\n",
    "# Analyze the results for one batch\n",
    "true_values = []\n",
    "predictions = []\n",
    "with torch.no_grad():\n",
    "    for batch in test_loader:\n",
    "        batch.to(device)\n",
    "        if model_params['has_edge_info']:\n",
    "            pred = model(batch.x.float(),\n",
    "                            batch.edge_attr.float(), \n",
    "                            batch.edge_index, \n",
    "                            batch.batch)\n",
    "        else:\n",
    "            pred = model(batch.x.float(), \n",
    "                            batch.edge_index, \n",
    "                            batch.batch)\n",
    "        true_values += batch.y.tolist()\n",
    "        predictions += pred.tolist()\n",
    "df = pd.DataFrame({'y_pred':predictions,'y_real':true_values})\n",
    "df = df.applymap(lambda x : x[0])\n",
    "df"
   ]
  },
  {
   "cell_type": "markdown",
   "metadata": {},
   "source": [
    "## Model Evaluation"
   ]
  },
  {
   "cell_type": "code",
   "execution_count": 20,
   "metadata": {},
   "outputs": [
    {
     "data": {
      "text/html": [
       "<div>\n",
       "<style scoped>\n",
       "    .dataframe tbody tr th:only-of-type {\n",
       "        vertical-align: middle;\n",
       "    }\n",
       "\n",
       "    .dataframe tbody tr th {\n",
       "        vertical-align: top;\n",
       "    }\n",
       "\n",
       "    .dataframe thead th {\n",
       "        text-align: right;\n",
       "    }\n",
       "</style>\n",
       "<table border=\"1\" class=\"dataframe\">\n",
       "  <thead>\n",
       "    <tr style=\"text-align: right;\">\n",
       "      <th></th>\n",
       "      <th>y_pred</th>\n",
       "      <th>y_real</th>\n",
       "    </tr>\n",
       "  </thead>\n",
       "  <tbody>\n",
       "    <tr>\n",
       "      <th>0</th>\n",
       "      <td>0</td>\n",
       "      <td>0</td>\n",
       "    </tr>\n",
       "    <tr>\n",
       "      <th>1</th>\n",
       "      <td>0</td>\n",
       "      <td>0</td>\n",
       "    </tr>\n",
       "    <tr>\n",
       "      <th>2</th>\n",
       "      <td>0</td>\n",
       "      <td>0</td>\n",
       "    </tr>\n",
       "    <tr>\n",
       "      <th>3</th>\n",
       "      <td>1</td>\n",
       "      <td>0</td>\n",
       "    </tr>\n",
       "    <tr>\n",
       "      <th>4</th>\n",
       "      <td>0</td>\n",
       "      <td>0</td>\n",
       "    </tr>\n",
       "    <tr>\n",
       "      <th>...</th>\n",
       "      <td>...</td>\n",
       "      <td>...</td>\n",
       "    </tr>\n",
       "    <tr>\n",
       "      <th>1206</th>\n",
       "      <td>1</td>\n",
       "      <td>1</td>\n",
       "    </tr>\n",
       "    <tr>\n",
       "      <th>1207</th>\n",
       "      <td>0</td>\n",
       "      <td>1</td>\n",
       "    </tr>\n",
       "    <tr>\n",
       "      <th>1208</th>\n",
       "      <td>0</td>\n",
       "      <td>0</td>\n",
       "    </tr>\n",
       "    <tr>\n",
       "      <th>1209</th>\n",
       "      <td>0</td>\n",
       "      <td>0</td>\n",
       "    </tr>\n",
       "    <tr>\n",
       "      <th>1210</th>\n",
       "      <td>0</td>\n",
       "      <td>1</td>\n",
       "    </tr>\n",
       "  </tbody>\n",
       "</table>\n",
       "<p>1211 rows × 2 columns</p>\n",
       "</div>"
      ],
      "text/plain": [
       "      y_pred  y_real\n",
       "0          0       0\n",
       "1          0       0\n",
       "2          0       0\n",
       "3          1       0\n",
       "4          0       0\n",
       "...      ...     ...\n",
       "1206       1       1\n",
       "1207       0       1\n",
       "1208       0       0\n",
       "1209       0       0\n",
       "1210       0       1\n",
       "\n",
       "[1211 rows x 2 columns]"
      ]
     },
     "execution_count": 20,
     "metadata": {},
     "output_type": "execute_result"
    }
   ],
   "source": [
    "output = df[\"y_pred\"].apply(lambda x: int(round(x,0)))\n",
    "output\n",
    "binary_results = df.applymap(lambda x : int(round(x,0)))\n",
    "binary_results"
   ]
  },
  {
   "cell_type": "code",
   "execution_count": 12,
   "metadata": {},
   "outputs": [
    {
     "data": {
      "text/html": [
       "<div>\n",
       "<style scoped>\n",
       "    .dataframe tbody tr th:only-of-type {\n",
       "        vertical-align: middle;\n",
       "    }\n",
       "\n",
       "    .dataframe tbody tr th {\n",
       "        vertical-align: top;\n",
       "    }\n",
       "\n",
       "    .dataframe thead th {\n",
       "        text-align: right;\n",
       "    }\n",
       "</style>\n",
       "<table border=\"1\" class=\"dataframe\">\n",
       "  <thead>\n",
       "    <tr style=\"text-align: right;\">\n",
       "      <th></th>\n",
       "      <th>Accuracy</th>\n",
       "      <th>F1</th>\n",
       "      <th>Precision</th>\n",
       "      <th>Recall</th>\n",
       "      <th>ROCAUC</th>\n",
       "      <th>Specificity</th>\n",
       "      <th>Average Precision</th>\n",
       "      <th>TN</th>\n",
       "      <th>FP</th>\n",
       "      <th>FN</th>\n",
       "      <th>TP</th>\n",
       "    </tr>\n",
       "  </thead>\n",
       "  <tbody>\n",
       "    <tr>\n",
       "      <th>0</th>\n",
       "      <td>0.721718</td>\n",
       "      <td>0.673133</td>\n",
       "      <td>0.705285</td>\n",
       "      <td>0.643785</td>\n",
       "      <td>0.714005</td>\n",
       "      <td>0.784226</td>\n",
       "      <td>0.732605</td>\n",
       "      <td>527</td>\n",
       "      <td>145</td>\n",
       "      <td>192</td>\n",
       "      <td>347</td>\n",
       "    </tr>\n",
       "  </tbody>\n",
       "</table>\n",
       "</div>"
      ],
      "text/plain": [
       "   Accuracy        F1  Precision    Recall    ROCAUC  Specificity  \\\n",
       "0  0.721718  0.673133   0.705285  0.643785  0.714005     0.784226   \n",
       "\n",
       "   Average Precision   TN   FP   FN   TP  \n",
       "0           0.732605  527  145  192  347  "
      ]
     },
     "execution_count": 12,
     "metadata": {},
     "output_type": "execute_result"
    }
   ],
   "source": [
    "report = metrics.classification_report(binary_results[\"y_real\"],binary_results[\"y_pred\"], output_dict=True)\n",
    "report_string = metrics.classification_report(binary_results[\"y_real\"],binary_results[\"y_pred\"], output_dict=False)\n",
    "report\n",
    "\n",
    "accuracy = metrics.accuracy_score(binary_results[\"y_real\"],binary_results[\"y_pred\"])\n",
    "f1 = metrics.f1_score(binary_results[\"y_real\"],binary_results[\"y_pred\"])\n",
    "precision = metrics.precision_score(binary_results[\"y_real\"],binary_results[\"y_pred\"])\n",
    "recall = metrics.recall_score(binary_results[\"y_real\"],binary_results[\"y_pred\"])\n",
    "roc_auc = metrics.roc_auc_score(binary_results[\"y_real\"],binary_results[\"y_pred\"])\n",
    "tn, fp, fn, tp = metrics.confusion_matrix(binary_results[\"y_real\"],binary_results[\"y_pred\"], labels=[0,1]).ravel()\n",
    "specificity = tn / (tn+fp)\n",
    "averageprecision = metrics.average_precision_score(df[\"y_real\"].to_list(),df[\"y_pred\"].to_list())\n",
    "\n",
    "results = {\n",
    "    'Accuracy':accuracy,\n",
    "    'F1': f1,\n",
    "    'Precision': precision,\n",
    "    'Recall': recall,\n",
    "    'ROCAUC': roc_auc,\n",
    "    'Specificity': specificity,\n",
    "    'Average Precision': averageprecision,\n",
    "    'TN': tn,\n",
    "    'FP': fp,\n",
    "    'FN': fn,\n",
    "    \"TP\": tp,\n",
    "}\n",
    "\n",
    "summary = pd.DataFrame([results])\n",
    "filepath = '/home/rajeckidoyle/Documents/Classification/BACE_Classification/model_benchmarks/results/'\n",
    "#summary.to_csv(filepath + best_config.GLOBALPARAMETERS['model_this_run']+'summary.csv')\n",
    "summary\n"
   ]
  },
  {
   "cell_type": "markdown",
   "metadata": {},
   "source": [
    "### Confusion Matrix"
   ]
  },
  {
   "cell_type": "code",
   "execution_count": 13,
   "metadata": {},
   "outputs": [
    {
     "data": {
      "image/png": "[encoded data removed]",
      "text/plain": [
       "<Figure size 432x288 with 2 Axes>"
      ]
     },
     "metadata": {
      "needs_background": "light"
     },
     "output_type": "display_data"
    }
   ],
   "source": [
    "import matplotlib.pyplot as plt\n",
    "labels = [0,1]\n",
    "cm = metrics.confusion_matrix(output,df[\"y_real\"])\n",
    "metrics.ConfusionMatrixDisplay.from_predictions(binary_results[\"y_real\"],binary_results[\"y_pred\"], cmap='Blues')\n",
    "\n",
    "filepath = '/home/rajeckidoyle/Documents/Classification/BACE_Classification/model_benchmarks/results/'\n",
    "plt.savefig(filepath + best_config.GLOBALPARAMETERS['model_this_run'] + 'confusion_matrix.jpeg', bbox_inches='tight',dpi=100)"
   ]
  },
  {
   "cell_type": "markdown",
   "metadata": {},
   "source": [
    "### ROC Curve"
   ]
  },
  {
   "cell_type": "code",
   "execution_count": 14,
   "metadata": {},
   "outputs": [],
   "source": [
    "r_fpr, r_tpr, thresholds = metrics.roc_curve(df[\"y_real\"].to_list(),df[\"y_pred\"].to_list())\n",
    "\n",
    "roc_curve_data = pd.DataFrame({'r_fpr': r_fpr, 'r_tpr': r_tpr, 'thresholds': thresholds})\n",
    "\n",
    "filepath = '/home/rajeckidoyle/Documents/Classification/BACE_Classification/model_benchmarks/results/'\n",
    "roc_curve_data.to_csv(filepath + best_config.GLOBALPARAMETERS['model_this_run']+'rocdata.csv')"
   ]
  },
  {
   "cell_type": "code",
   "execution_count": 15,
   "metadata": {},
   "outputs": [
    {
     "data": {
      "image/png": "[encoded data removed]",
      "text/plain": [
       "<Figure size 432x288 with 1 Axes>"
      ]
     },
     "metadata": {
      "needs_background": "light"
     },
     "output_type": "display_data"
    }
   ],
   "source": [
    "import matplotlib.pyplot as plt\n",
    "\n",
    "plt.plot(r_fpr, r_tpr)\n",
    "# Title\n",
    "plt.title('ROC Plot')\n",
    "# Axis labels\n",
    "plt.xlabel('False Positive Rate')\n",
    "plt.ylabel('True Positive Rate')\n",
    "\n",
    "filepath = '/home/rajeckidoyle/Documents/Classification/BACE_Classification/model_benchmarks/results/'\n",
    "plt.savefig(filepath + best_config.GLOBALPARAMETERS['model_this_run'] + 'roc_curve.jpeg', bbox_inches='tight', dpi=100)"
   ]
  },
  {
   "cell_type": "code",
   "execution_count": 16,
   "metadata": {},
   "outputs": [
    {
     "name": "stdout",
     "output_type": "stream",
     "text": [
      "Sensitivity: 0.7569573283858998\n",
      "Specificity: 0.6875\n"
     ]
    }
   ],
   "source": [
    "def evaluate_threshold(threshold):\n",
    "    print('Sensitivity:', r_tpr[thresholds > threshold][-1])\n",
    "    print('Specificity:', 1 - r_fpr[thresholds > threshold][-1])\n",
    "\n",
    "evaluate_threshold(0.3)"
   ]
  },
  {
   "cell_type": "markdown",
   "metadata": {},
   "source": [
    "## PR Curve"
   ]
  },
  {
   "cell_type": "code",
   "execution_count": 17,
   "metadata": {},
   "outputs": [
    {
     "data": {
      "image/png": "[encoded data removed]",
      "text/plain": [
       "<Figure size 432x288 with 1 Axes>"
      ]
     },
     "metadata": {
      "needs_background": "light"
     },
     "output_type": "display_data"
    }
   ],
   "source": [
    "from sklearn.metrics import precision_recall_curve\n",
    "precision, recall, thresholds = precision_recall_curve(df[\"y_real\"].to_list(),df[\"y_pred\"].to_list())\n",
    "metrics.PrecisionRecallDisplay.from_predictions(df[\"y_real\"].to_list(),df[\"y_pred\"].to_list())\n",
    "\n",
    "plt.title('PR Curve')\n",
    "\n",
    "filepath = '/home/rajeckidoyle/Documents/Classification/BACE_Classification/model_benchmarks/results/'\n",
    "plt.savefig(filepath + best_config.GLOBALPARAMETERS['model_this_run'] + 'pr_curve.jpeg', bbox_inches='tight', dpi=100)"
   ]
  },
  {
   "cell_type": "code",
   "execution_count": 18,
   "metadata": {},
   "outputs": [
    {
     "data": {
      "text/plain": [
       "array([[0.],\n",
       "       [0.],\n",
       "       [1.],\n",
       "       ...,\n",
       "       [0.],\n",
       "       [1.],\n",
       "       [0.]])"
      ]
     },
     "execution_count": 18,
     "metadata": {},
     "output_type": "execute_result"
    }
   ],
   "source": [
    "from sklearn.preprocessing import binarize\n",
    "threshold = 0.3\n",
    "predictions_with_new_threshold = binarize(df[\"y_pred\"].to_numpy().reshape(-1,1), threshold = threshold)\n",
    "predictions_with_new_threshold"
   ]
  }
 ],
 "metadata": {
  "interpreter": {
   "hash": "c4e88f5f6f0c037f170d8b5f2f59d1377880a8e4b384253995bdaa7b6b72e05d"
  },
  "kernelspec": {
   "display_name": "Python 3.8.12 ('my_torch_geometric')",
   "language": "python",
   "name": "python3"
  },
  "language_info": {
   "codemirror_mode": {
    "name": "ipython",
    "version": 3
   },
   "file_extension": ".py",
   "mimetype": "text/x-python",
   "name": "python",
   "nbconvert_exporter": "python",
   "pygments_lexer": "ipython3",
   "version": "3.8.12"
  },
  "orig_nbformat": 4
 },
 "nbformat": 4,
 "nbformat_minor": 2
}
