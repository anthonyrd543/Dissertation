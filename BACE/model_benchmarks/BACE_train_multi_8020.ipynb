{
 "cells": [
  {
   "cell_type": "code",
   "execution_count": 1,
   "metadata": {},
   "outputs": [],
   "source": [
    "from torch_geometric.datasets import MoleculeNet\n",
    "import torch\n",
    "import numpy as np\n",
    "import pandas as pd\n",
    "from sklearn import metrics\n",
    "import models"
   ]
  },
  {
   "cell_type": "markdown",
   "metadata": {},
   "source": [
    "## Import Dataset"
   ]
  },
  {
   "cell_type": "code",
   "execution_count": 2,
   "metadata": {},
   "outputs": [],
   "source": [
    "train_data = MoleculeNet(root=\"/home/rajeckidoyle/Documents/Classification/BACE_Classification/model_benchmarks/split_bace/train\", name=\"bace\")\n",
    "test_data = MoleculeNet(root=\"/home/rajeckidoyle/Documents/Classification/BACE_Classification/model_benchmarks/split_bace/test\", name=\"bace\")"
   ]
  },
  {
   "cell_type": "code",
   "execution_count": 3,
   "metadata": {},
   "outputs": [
    {
     "data": {
      "text/plain": [
       "303"
      ]
     },
     "execution_count": 3,
     "metadata": {},
     "output_type": "execute_result"
    }
   ],
   "source": [
    "len(test_data)"
   ]
  },
  {
   "cell_type": "code",
   "execution_count": 4,
   "metadata": {},
   "outputs": [],
   "source": [
    "#Specify device\n",
    "device = torch.device(\"cuda:1\" if torch.cuda.is_available() else \"cpu\")"
   ]
  },
  {
   "cell_type": "markdown",
   "metadata": {},
   "source": [
    "## Set Hyperparameters"
   ]
  },
  {
   "cell_type": "code",
   "execution_count": 5,
   "metadata": {},
   "outputs": [
    {
     "name": "stderr",
     "output_type": "stream",
     "text": [
      "/home/rajeckidoyle/miniconda3/envs/my_torch_geometric/lib/python3.8/site-packages/torch_geometric/deprecation.py:12: UserWarning: 'data.DataLoader' is deprecated, use 'loader.DataLoader' instead\n",
      "  warnings.warn(out)\n"
     ]
    }
   ],
   "source": [
    "import best_config\n",
    "from torch_geometric.data import DataLoader\n",
    "#Get Model Parameters\n",
    "NUM_GRAPHS_PER_BATCH = 64\n",
    "train_loader = DataLoader(train_data, \n",
    "                    batch_size=NUM_GRAPHS_PER_BATCH, shuffle=True)\n",
    "test_loader = DataLoader(test_data, \n",
    "                         batch_size=NUM_GRAPHS_PER_BATCH, shuffle=True)\n"
   ]
  },
  {
   "cell_type": "markdown",
   "metadata": {},
   "source": [
    "## Define Model"
   ]
  },
  {
   "cell_type": "markdown",
   "metadata": {},
   "source": [
    "## Training Loop"
   ]
  },
  {
   "cell_type": "code",
   "execution_count": 6,
   "metadata": {},
   "outputs": [],
   "source": [
    "from torch_geometric.data import DataLoader\n",
    "import warnings\n",
    "warnings.filterwarnings(\"ignore\")\n",
    "\n",
    "# Root mean squared error\n",
    "loss_fn = torch.nn.BCELoss()\n",
    "\n",
    "model_this_run = 'GAT'\n",
    "\n",
    "hyperparameters = eval('best_config.'+model_this_run+'_HYPERPARAMETERS')\n",
    "model_params = hyperparameters\n",
    "model_params['feature_size'] = train_data.num_features\n",
    "model_params['no_of_heads'] = 3\n",
    "model_params[\"edge_dim\"] = train_data[0].edge_attr.shape[1]\n",
    "\n",
    "def train(model, optimizer, loader):\n",
    "    model.train()\n",
    "    # Enumerate over the data\n",
    "    final_loss = 0\n",
    "    for batch in loader:\n",
    "      # Use GPU\n",
    "      batch.to(device)  \n",
    "      # Reset gradients\n",
    "      optimizer.zero_grad() \n",
    "      # Passing the node features and the connection info\n",
    "      if model_params['has_edge_info']:\n",
    "          pred = model(batch.x.float(),\n",
    "                        batch.edge_attr.float(), \n",
    "                        batch.edge_index, \n",
    "                        batch.batch)\n",
    "      else:\n",
    "          pred = model(batch.x.float(), \n",
    "                        batch.edge_index, \n",
    "                        batch.batch)\n",
    "      # Calculating the loss and gradients\n",
    "      loss = loss_fn(pred, batch.y)\n",
    "      final_loss += loss.item()\n",
    "      loss.backward()\n",
    "      # Update using the gradients\n",
    "      optimizer.step()   \n",
    "    return final_loss / len(loader)\n",
    "\n",
    "def get_results(binary_results):\n",
    "    accuracy = metrics.accuracy_score(binary_results[\"y_real\"],binary_results[\"y_pred\"])\n",
    "    f1 = metrics.f1_score(binary_results[\"y_real\"],binary_results[\"y_pred\"])\n",
    "    precision = metrics.precision_score(binary_results[\"y_real\"],binary_results[\"y_pred\"])\n",
    "    recall = metrics.recall_score(binary_results[\"y_real\"],binary_results[\"y_pred\"])\n",
    "    roc_auc = metrics.roc_auc_score(binary_results[\"y_real\"],binary_results[\"y_pred\"])\n",
    "    tn, fp, fn, tp = metrics.confusion_matrix(binary_results[\"y_real\"],binary_results[\"y_pred\"], labels=[0,1]).ravel()\n",
    "    specificity = tn / (tn+fp)\n",
    "\n",
    "    results = {\n",
    "        'Accuracy':accuracy,\n",
    "        'F1': f1,\n",
    "        'Precision': precision,\n",
    "        'Recall': recall,\n",
    "        'ROCAUC': roc_auc,\n",
    "        'Specificity': specificity,\n",
    "        'TN': tn,\n",
    "        'FP': fp,\n",
    "        'FN': fn,\n",
    "        \"TP\": tp,\n",
    "    }\n",
    "    return results\n",
    "\n",
    "def test(model, test_loader):\n",
    "    model.eval()\n",
    "    true_values = []\n",
    "    predictions = []\n",
    "    with torch.no_grad():\n",
    "        for batch in test_loader:\n",
    "            batch.to(device)\n",
    "            if model_params['has_edge_info']:\n",
    "                pred = model(batch.x.float(),\n",
    "                                batch.edge_attr.float(), \n",
    "                                batch.edge_index, \n",
    "                                batch.batch)\n",
    "            else:\n",
    "                pred = model(batch.x.float(), \n",
    "                                batch.edge_index, \n",
    "                                batch.batch)\n",
    "            true_values += batch.y.tolist()\n",
    "            predictions += pred.tolist()\n",
    "    df = pd.DataFrame({'y_pred':predictions,'y_real':true_values})\n",
    "    df = df.applymap(lambda x : x[0])\n",
    "    output = df[\"y_pred\"].apply(lambda x: int(round(x,0)))\n",
    "    output\n",
    "    binary_results = df.applymap(lambda x : int(round(x,0)))\n",
    "    binary_results\n",
    "    return df, binary_results, output, get_results(binary_results)\n",
    "\n",
    "    "
   ]
  },
  {
   "cell_type": "code",
   "execution_count": 7,
   "metadata": {},
   "outputs": [
    {
     "name": "stdout",
     "output_type": "stream",
     "text": [
      "Starting training run 0\n",
      "Starting training run 1\n",
      "Starting training run 2\n",
      "Starting training run 3\n",
      "Starting training run 4\n",
      "Starting training run 5\n",
      "Starting training run 6\n",
      "Starting training run 7\n",
      "Starting training run 8\n",
      "Starting training run 9\n"
     ]
    },
    {
     "data": {
      "text/html": [
       "<div>\n",
       "<style scoped>\n",
       "    .dataframe tbody tr th:only-of-type {\n",
       "        vertical-align: middle;\n",
       "    }\n",
       "\n",
       "    .dataframe tbody tr th {\n",
       "        vertical-align: top;\n",
       "    }\n",
       "\n",
       "    .dataframe thead th {\n",
       "        text-align: right;\n",
       "    }\n",
       "</style>\n",
       "<table border=\"1\" class=\"dataframe\">\n",
       "  <thead>\n",
       "    <tr style=\"text-align: right;\">\n",
       "      <th></th>\n",
       "      <th>Accuracy</th>\n",
       "      <th>F1</th>\n",
       "      <th>Precision</th>\n",
       "      <th>Recall</th>\n",
       "      <th>ROCAUC</th>\n",
       "      <th>Specificity</th>\n",
       "      <th>TN</th>\n",
       "      <th>FP</th>\n",
       "      <th>FN</th>\n",
       "      <th>TP</th>\n",
       "    </tr>\n",
       "  </thead>\n",
       "  <tbody>\n",
       "    <tr>\n",
       "      <th>0</th>\n",
       "      <td>0.735974</td>\n",
       "      <td>0.611650</td>\n",
       "      <td>0.787500</td>\n",
       "      <td>0.500000</td>\n",
       "      <td>0.701977</td>\n",
       "      <td>0.903955</td>\n",
       "      <td>160.0</td>\n",
       "      <td>17.0</td>\n",
       "      <td>63.0</td>\n",
       "      <td>63.0</td>\n",
       "    </tr>\n",
       "    <tr>\n",
       "      <th>0</th>\n",
       "      <td>0.755776</td>\n",
       "      <td>0.663636</td>\n",
       "      <td>0.776596</td>\n",
       "      <td>0.579365</td>\n",
       "      <td>0.730361</td>\n",
       "      <td>0.881356</td>\n",
       "      <td>156.0</td>\n",
       "      <td>21.0</td>\n",
       "      <td>53.0</td>\n",
       "      <td>73.0</td>\n",
       "    </tr>\n",
       "    <tr>\n",
       "      <th>0</th>\n",
       "      <td>0.765677</td>\n",
       "      <td>0.628272</td>\n",
       "      <td>0.923077</td>\n",
       "      <td>0.476190</td>\n",
       "      <td>0.723971</td>\n",
       "      <td>0.971751</td>\n",
       "      <td>172.0</td>\n",
       "      <td>5.0</td>\n",
       "      <td>66.0</td>\n",
       "      <td>60.0</td>\n",
       "    </tr>\n",
       "    <tr>\n",
       "      <th>0</th>\n",
       "      <td>0.765677</td>\n",
       "      <td>0.660287</td>\n",
       "      <td>0.831325</td>\n",
       "      <td>0.547619</td>\n",
       "      <td>0.734262</td>\n",
       "      <td>0.920904</td>\n",
       "      <td>163.0</td>\n",
       "      <td>14.0</td>\n",
       "      <td>57.0</td>\n",
       "      <td>69.0</td>\n",
       "    </tr>\n",
       "    <tr>\n",
       "      <th>0</th>\n",
       "      <td>0.752475</td>\n",
       "      <td>0.641148</td>\n",
       "      <td>0.807229</td>\n",
       "      <td>0.531746</td>\n",
       "      <td>0.720675</td>\n",
       "      <td>0.909605</td>\n",
       "      <td>161.0</td>\n",
       "      <td>16.0</td>\n",
       "      <td>59.0</td>\n",
       "      <td>67.0</td>\n",
       "    </tr>\n",
       "    <tr>\n",
       "      <th>0</th>\n",
       "      <td>0.745875</td>\n",
       "      <td>0.631579</td>\n",
       "      <td>0.795181</td>\n",
       "      <td>0.523810</td>\n",
       "      <td>0.713882</td>\n",
       "      <td>0.903955</td>\n",
       "      <td>160.0</td>\n",
       "      <td>17.0</td>\n",
       "      <td>60.0</td>\n",
       "      <td>66.0</td>\n",
       "    </tr>\n",
       "    <tr>\n",
       "      <th>0</th>\n",
       "      <td>0.762376</td>\n",
       "      <td>0.650485</td>\n",
       "      <td>0.837500</td>\n",
       "      <td>0.531746</td>\n",
       "      <td>0.729150</td>\n",
       "      <td>0.926554</td>\n",
       "      <td>164.0</td>\n",
       "      <td>13.0</td>\n",
       "      <td>59.0</td>\n",
       "      <td>67.0</td>\n",
       "    </tr>\n",
       "    <tr>\n",
       "      <th>0</th>\n",
       "      <td>0.739274</td>\n",
       "      <td>0.577540</td>\n",
       "      <td>0.885246</td>\n",
       "      <td>0.428571</td>\n",
       "      <td>0.694512</td>\n",
       "      <td>0.960452</td>\n",
       "      <td>170.0</td>\n",
       "      <td>7.0</td>\n",
       "      <td>72.0</td>\n",
       "      <td>54.0</td>\n",
       "    </tr>\n",
       "    <tr>\n",
       "      <th>0</th>\n",
       "      <td>0.712871</td>\n",
       "      <td>0.508475</td>\n",
       "      <td>0.882353</td>\n",
       "      <td>0.357143</td>\n",
       "      <td>0.661622</td>\n",
       "      <td>0.966102</td>\n",
       "      <td>171.0</td>\n",
       "      <td>6.0</td>\n",
       "      <td>81.0</td>\n",
       "      <td>45.0</td>\n",
       "    </tr>\n",
       "    <tr>\n",
       "      <th>0</th>\n",
       "      <td>0.765677</td>\n",
       "      <td>0.666667</td>\n",
       "      <td>0.816092</td>\n",
       "      <td>0.563492</td>\n",
       "      <td>0.736548</td>\n",
       "      <td>0.909605</td>\n",
       "      <td>161.0</td>\n",
       "      <td>16.0</td>\n",
       "      <td>55.0</td>\n",
       "      <td>71.0</td>\n",
       "    </tr>\n",
       "  </tbody>\n",
       "</table>\n",
       "</div>"
      ],
      "text/plain": [
       "   Accuracy        F1  Precision    Recall    ROCAUC  Specificity     TN  \\\n",
       "0  0.735974  0.611650   0.787500  0.500000  0.701977     0.903955  160.0   \n",
       "0  0.755776  0.663636   0.776596  0.579365  0.730361     0.881356  156.0   \n",
       "0  0.765677  0.628272   0.923077  0.476190  0.723971     0.971751  172.0   \n",
       "0  0.765677  0.660287   0.831325  0.547619  0.734262     0.920904  163.0   \n",
       "0  0.752475  0.641148   0.807229  0.531746  0.720675     0.909605  161.0   \n",
       "0  0.745875  0.631579   0.795181  0.523810  0.713882     0.903955  160.0   \n",
       "0  0.762376  0.650485   0.837500  0.531746  0.729150     0.926554  164.0   \n",
       "0  0.739274  0.577540   0.885246  0.428571  0.694512     0.960452  170.0   \n",
       "0  0.712871  0.508475   0.882353  0.357143  0.661622     0.966102  171.0   \n",
       "0  0.765677  0.666667   0.816092  0.563492  0.736548     0.909605  161.0   \n",
       "\n",
       "     FP    FN    TP  \n",
       "0  17.0  63.0  63.0  \n",
       "0  21.0  53.0  73.0  \n",
       "0   5.0  66.0  60.0  \n",
       "0  14.0  57.0  69.0  \n",
       "0  16.0  59.0  67.0  \n",
       "0  17.0  60.0  66.0  \n",
       "0  13.0  59.0  67.0  \n",
       "0   7.0  72.0  54.0  \n",
       "0   6.0  81.0  45.0  \n",
       "0  16.0  55.0  71.0  "
      ]
     },
     "execution_count": 7,
     "metadata": {},
     "output_type": "execute_result"
    }
   ],
   "source": [
    "summary_columns = {\n",
    "    'Accuracy':[],\n",
    "    'F1': [],\n",
    "    'Precision': [],\n",
    "    'Recall': [],\n",
    "    'ROCAUC': [],\n",
    "    'Specificity': [],\n",
    "    'TN': [],\n",
    "    'FP': [],\n",
    "    'FN': [],\n",
    "    \"TP\": [],\n",
    "}\n",
    "summary = pd.DataFrame(summary_columns)\n",
    "\n",
    "best_acc = 0\n",
    "\n",
    "filepath = '/home/rajeckidoyle/Documents/Classification/BACE_Classification/model_benchmarks/'\n",
    "\n",
    "\n",
    "for i in range(10):\n",
    "    torch.manual_seed(i)\n",
    "    print(f\"Starting training run {i}\")\n",
    "    #Create instance of model\n",
    "    model = eval('models.'+model_this_run+'(model_params)')\n",
    "    model = model.to(device)\n",
    "    optimizer = torch.optim.Adam(model.parameters(), lr=model_params['learning_rate'])\n",
    "    for epoch in range(300):\n",
    "        loss = train(model, optimizer, train_loader)\n",
    "    _, _, _, results = test(model, test_loader)\n",
    "    if results['Accuracy'] > best_acc:\n",
    "        best_acc = results['Accuracy']\n",
    "        torch.save(model.state_dict(), filepath+'best_models/'+model_this_run+'_model.pt')\n",
    "    results_this_run = pd.DataFrame([results])\n",
    "    summary = summary.append(results_this_run)\n",
    "\n",
    "\n",
    "summary.to_csv(filepath + 'results/'+model_this_run+'summary.csv')\n",
    "summary\n",
    "    "
   ]
  },
  {
   "cell_type": "markdown",
   "metadata": {},
   "source": [
    "## Evaluate on the Test Set"
   ]
  },
  {
   "cell_type": "markdown",
   "metadata": {},
   "source": [
    "## Model Evaluation"
   ]
  },
  {
   "cell_type": "code",
   "execution_count": 8,
   "metadata": {},
   "outputs": [
    {
     "name": "stdout",
     "output_type": "stream",
     "text": [
      "GAT(\n",
      "  (conv_layers): ModuleList(\n",
      "    (0): GATConv(3072, 1024, heads=3)\n",
      "    (1): GATConv(3072, 1024, heads=3)\n",
      "    (2): GATConv(3072, 1024, heads=3)\n",
      "  )\n",
      "  (initial_conv): GATConv(9, 1024, heads=3)\n",
      "  (gnn_dropout): Dropout(p=0.112, inplace=False)\n",
      "  (linear_dropout): Dropout(p=0.0586, inplace=False)\n",
      "  (linear): Linear(in_features=6144, out_features=64, bias=True)\n",
      "  (out): Linear(in_features=64, out_features=1, bias=True)\n",
      ")\n"
     ]
    }
   ],
   "source": [
    "model = eval('models.'+model_this_run+'(model_params)')\n",
    "model.load_state_dict(torch.load(f'/home/rajeckidoyle/Documents/Classification/BACE_Classification/model_benchmarks/best_models/{model_this_run}_model.pt'))\n",
    "model = model.to(device)\n",
    "\n",
    "df, binary_results, output, results = test(model, test_loader)\n",
    "\n",
    "print(model)"
   ]
  },
  {
   "cell_type": "markdown",
   "metadata": {},
   "source": [
    "### Confusion Matrix"
   ]
  },
  {
   "cell_type": "code",
   "execution_count": 9,
   "metadata": {},
   "outputs": [
    {
     "data": {
      "image/png": "[encoded data removed]",
      "text/plain": [
       "<Figure size 432x288 with 2 Axes>"
      ]
     },
     "metadata": {
      "needs_background": "light"
     },
     "output_type": "display_data"
    }
   ],
   "source": [
    "import matplotlib.pyplot as plt\n",
    "labels = [0,1]\n",
    "cm = metrics.confusion_matrix(output,df[\"y_real\"])\n",
    "metrics.ConfusionMatrixDisplay.from_predictions(binary_results[\"y_real\"],binary_results[\"y_pred\"], cmap='Blues')\n",
    "\n",
    "filepath = '/home/rajeckidoyle/Documents/Classification/BACE_Classification/model_benchmarks/results/'\n",
    "plt.savefig(filepath + model_this_run + 'confusion_matrix.jpeg', bbox_inches='tight',dpi=100)"
   ]
  },
  {
   "cell_type": "markdown",
   "metadata": {},
   "source": [
    "### ROC Curve"
   ]
  },
  {
   "cell_type": "code",
   "execution_count": 10,
   "metadata": {},
   "outputs": [],
   "source": [
    "r_fpr, r_tpr, thresholds = metrics.roc_curve(df[\"y_real\"].to_list(),df[\"y_pred\"].to_list())\n",
    "\n",
    "roc_curve_data = pd.DataFrame({'r_fpr': r_fpr, 'r_tpr': r_tpr, 'thresholds': thresholds})\n",
    "\n",
    "filepath = '/home/rajeckidoyle/Documents/Classification/BACE_Classification/model_benchmarks/results/'\n",
    "roc_curve_data.to_csv(filepath + model_this_run+'rocdata.csv')"
   ]
  },
  {
   "cell_type": "code",
   "execution_count": 11,
   "metadata": {},
   "outputs": [
    {
     "data": {
      "image/png": "[encoded data removed]",
      "text/plain": [
       "<Figure size 432x288 with 1 Axes>"
      ]
     },
     "metadata": {
      "needs_background": "light"
     },
     "output_type": "display_data"
    }
   ],
   "source": [
    "import matplotlib.pyplot as plt\n",
    "\n",
    "plt.plot(r_fpr, r_tpr)\n",
    "# Title\n",
    "plt.title('ROC Plot')\n",
    "# Axis labels\n",
    "plt.xlabel('False Positive Rate')\n",
    "plt.ylabel('True Positive Rate')\n",
    "\n",
    "filepath = '/home/rajeckidoyle/Documents/Classification/BACE_Classification/model_benchmarks/results/'\n",
    "plt.savefig(filepath + model_this_run + 'roc_curve.jpeg', bbox_inches='tight', dpi=100)"
   ]
  },
  {
   "cell_type": "markdown",
   "metadata": {},
   "source": [
    "## PR Curve"
   ]
  },
  {
   "cell_type": "code",
   "execution_count": 12,
   "metadata": {},
   "outputs": [
    {
     "data": {
      "image/png": "[encoded data removed]",
      "text/plain": [
       "<Figure size 432x288 with 1 Axes>"
      ]
     },
     "metadata": {
      "needs_background": "light"
     },
     "output_type": "display_data"
    }
   ],
   "source": [
    "from sklearn.metrics import precision_recall_curve\n",
    "precision, recall, thresholds = precision_recall_curve(df[\"y_real\"].to_list(),df[\"y_pred\"].to_list())\n",
    "metrics.PrecisionRecallDisplay.from_predictions(df[\"y_real\"].to_list(),df[\"y_pred\"].to_list())\n",
    "\n",
    "plt.title('PR Curve')\n",
    "\n",
    "filepath = '/home/rajeckidoyle/Documents/Classification/BACE_Classification/model_benchmarks/results/'\n",
    "plt.savefig(filepath + model_this_run + 'pr_curve.jpeg', bbox_inches='tight', dpi=100)"
   ]
  }
 ],
 "metadata": {
  "interpreter": {
   "hash": "c4e88f5f6f0c037f170d8b5f2f59d1377880a8e4b384253995bdaa7b6b72e05d"
  },
  "kernelspec": {
   "display_name": "Python 3.8.12 ('my_torch_geometric')",
   "language": "python",
   "name": "python3"
  },
  "language_info": {
   "codemirror_mode": {
    "name": "ipython",
    "version": 3
   },
   "file_extension": ".py",
   "mimetype": "text/x-python",
   "name": "python",
   "nbconvert_exporter": "python",
   "pygments_lexer": "ipython3",
   "version": "3.8.12"
  },
  "orig_nbformat": 4
 },
 "nbformat": 4,
 "nbformat_minor": 2
}
